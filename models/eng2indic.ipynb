{
  "nbformat": 4,
  "nbformat_minor": 0,
  "metadata": {
    "colab": {
      "provenance": [],
      "gpuType": "T4"
    },
    "kernelspec": {
      "name": "python3",
      "display_name": "Python 3"
    },
    "language_info": {
      "name": "python"
    },
    "accelerator": "GPU"
  },
  "cells": [
    {
      "cell_type": "markdown",
      "source": [
        "# **ENGLISH TO INDIC**"
      ],
      "metadata": {
        "id": "pwObchVudE7h"
      }
    },
    {
      "cell_type": "code",
      "source": [
        "!pip install tensorflow==2.14.0"
      ],
      "metadata": {
        "colab": {
          "base_uri": "https://localhost:8080/"
        },
        "id": "t9P8D8d3t5PM",
        "outputId": "b27fd5d8-1979-46e7-9081-51ca0da7ec73"
      },
      "execution_count": null,
      "outputs": [
        {
          "output_type": "stream",
          "name": "stdout",
          "text": [
            "Requirement already satisfied: tensorflow==2.14.0 in /usr/local/lib/python3.10/dist-packages (2.14.0)\n",
            "Requirement already satisfied: absl-py>=1.0.0 in /usr/local/lib/python3.10/dist-packages (from tensorflow==2.14.0) (1.4.0)\n",
            "Requirement already satisfied: astunparse>=1.6.0 in /usr/local/lib/python3.10/dist-packages (from tensorflow==2.14.0) (1.6.3)\n",
            "Requirement already satisfied: flatbuffers>=23.5.26 in /usr/local/lib/python3.10/dist-packages (from tensorflow==2.14.0) (24.3.25)\n",
            "Requirement already satisfied: gast!=0.5.0,!=0.5.1,!=0.5.2,>=0.2.1 in /usr/local/lib/python3.10/dist-packages (from tensorflow==2.14.0) (0.6.0)\n",
            "Requirement already satisfied: google-pasta>=0.1.1 in /usr/local/lib/python3.10/dist-packages (from tensorflow==2.14.0) (0.2.0)\n",
            "Requirement already satisfied: h5py>=2.9.0 in /usr/local/lib/python3.10/dist-packages (from tensorflow==2.14.0) (3.11.0)\n",
            "Requirement already satisfied: libclang>=13.0.0 in /usr/local/lib/python3.10/dist-packages (from tensorflow==2.14.0) (18.1.1)\n",
            "Requirement already satisfied: ml-dtypes==0.2.0 in /usr/local/lib/python3.10/dist-packages (from tensorflow==2.14.0) (0.2.0)\n",
            "Requirement already satisfied: numpy>=1.23.5 in /usr/local/lib/python3.10/dist-packages (from tensorflow==2.14.0) (1.26.4)\n",
            "Requirement already satisfied: opt-einsum>=2.3.2 in /usr/local/lib/python3.10/dist-packages (from tensorflow==2.14.0) (3.3.0)\n",
            "Requirement already satisfied: packaging in /usr/local/lib/python3.10/dist-packages (from tensorflow==2.14.0) (24.1)\n",
            "Requirement already satisfied: protobuf!=4.21.0,!=4.21.1,!=4.21.2,!=4.21.3,!=4.21.4,!=4.21.5,<5.0.0dev,>=3.20.3 in /usr/local/lib/python3.10/dist-packages (from tensorflow==2.14.0) (3.20.3)\n",
            "Requirement already satisfied: setuptools in /usr/local/lib/python3.10/dist-packages (from tensorflow==2.14.0) (68.2.2)\n",
            "Requirement already satisfied: six>=1.12.0 in /usr/local/lib/python3.10/dist-packages (from tensorflow==2.14.0) (1.16.0)\n",
            "Requirement already satisfied: termcolor>=1.1.0 in /usr/local/lib/python3.10/dist-packages (from tensorflow==2.14.0) (2.4.0)\n",
            "Requirement already satisfied: typing-extensions>=3.6.6 in /usr/local/lib/python3.10/dist-packages (from tensorflow==2.14.0) (4.12.2)\n",
            "Requirement already satisfied: wrapt<1.15,>=1.11.0 in /usr/local/lib/python3.10/dist-packages (from tensorflow==2.14.0) (1.14.1)\n",
            "Requirement already satisfied: tensorflow-io-gcs-filesystem>=0.23.1 in /usr/local/lib/python3.10/dist-packages (from tensorflow==2.14.0) (0.37.1)\n",
            "Requirement already satisfied: grpcio<2.0,>=1.24.3 in /usr/local/lib/python3.10/dist-packages (from tensorflow==2.14.0) (1.64.1)\n",
            "Requirement already satisfied: tensorboard<2.15,>=2.14 in /usr/local/lib/python3.10/dist-packages (from tensorflow==2.14.0) (2.14.1)\n",
            "Requirement already satisfied: tensorflow-estimator<2.15,>=2.14.0 in /usr/local/lib/python3.10/dist-packages (from tensorflow==2.14.0) (2.14.0)\n",
            "Requirement already satisfied: keras<2.15,>=2.14.0 in /usr/local/lib/python3.10/dist-packages (from tensorflow==2.14.0) (2.14.0)\n",
            "Requirement already satisfied: wheel<1.0,>=0.23.0 in /usr/local/lib/python3.10/dist-packages (from astunparse>=1.6.0->tensorflow==2.14.0) (0.43.0)\n",
            "Requirement already satisfied: google-auth<3,>=1.6.3 in /usr/local/lib/python3.10/dist-packages (from tensorboard<2.15,>=2.14->tensorflow==2.14.0) (2.27.0)\n",
            "Requirement already satisfied: google-auth-oauthlib<1.1,>=0.5 in /usr/local/lib/python3.10/dist-packages (from tensorboard<2.15,>=2.14->tensorflow==2.14.0) (1.0.0)\n",
            "Requirement already satisfied: markdown>=2.6.8 in /usr/local/lib/python3.10/dist-packages (from tensorboard<2.15,>=2.14->tensorflow==2.14.0) (3.6)\n",
            "Requirement already satisfied: requests<3,>=2.21.0 in /usr/local/lib/python3.10/dist-packages (from tensorboard<2.15,>=2.14->tensorflow==2.14.0) (2.32.3)\n",
            "Requirement already satisfied: tensorboard-data-server<0.8.0,>=0.7.0 in /usr/local/lib/python3.10/dist-packages (from tensorboard<2.15,>=2.14->tensorflow==2.14.0) (0.7.2)\n",
            "Requirement already satisfied: werkzeug>=1.0.1 in /usr/local/lib/python3.10/dist-packages (from tensorboard<2.15,>=2.14->tensorflow==2.14.0) (3.0.3)\n",
            "Requirement already satisfied: cachetools<6.0,>=2.0.0 in /usr/local/lib/python3.10/dist-packages (from google-auth<3,>=1.6.3->tensorboard<2.15,>=2.14->tensorflow==2.14.0) (5.4.0)\n",
            "Requirement already satisfied: pyasn1-modules>=0.2.1 in /usr/local/lib/python3.10/dist-packages (from google-auth<3,>=1.6.3->tensorboard<2.15,>=2.14->tensorflow==2.14.0) (0.4.0)\n",
            "Requirement already satisfied: rsa<5,>=3.1.4 in /usr/local/lib/python3.10/dist-packages (from google-auth<3,>=1.6.3->tensorboard<2.15,>=2.14->tensorflow==2.14.0) (4.9)\n",
            "Requirement already satisfied: requests-oauthlib>=0.7.0 in /usr/local/lib/python3.10/dist-packages (from google-auth-oauthlib<1.1,>=0.5->tensorboard<2.15,>=2.14->tensorflow==2.14.0) (1.3.1)\n",
            "Requirement already satisfied: charset-normalizer<4,>=2 in /usr/local/lib/python3.10/dist-packages (from requests<3,>=2.21.0->tensorboard<2.15,>=2.14->tensorflow==2.14.0) (3.3.2)\n",
            "Requirement already satisfied: idna<4,>=2.5 in /usr/local/lib/python3.10/dist-packages (from requests<3,>=2.21.0->tensorboard<2.15,>=2.14->tensorflow==2.14.0) (3.7)\n",
            "Requirement already satisfied: urllib3<3,>=1.21.1 in /usr/local/lib/python3.10/dist-packages (from requests<3,>=2.21.0->tensorboard<2.15,>=2.14->tensorflow==2.14.0) (2.0.7)\n",
            "Requirement already satisfied: certifi>=2017.4.17 in /usr/local/lib/python3.10/dist-packages (from requests<3,>=2.21.0->tensorboard<2.15,>=2.14->tensorflow==2.14.0) (2024.7.4)\n",
            "Requirement already satisfied: MarkupSafe>=2.1.1 in /usr/local/lib/python3.10/dist-packages (from werkzeug>=1.0.1->tensorboard<2.15,>=2.14->tensorflow==2.14.0) (2.1.5)\n",
            "Requirement already satisfied: pyasn1<0.7.0,>=0.4.6 in /usr/local/lib/python3.10/dist-packages (from pyasn1-modules>=0.2.1->google-auth<3,>=1.6.3->tensorboard<2.15,>=2.14->tensorflow==2.14.0) (0.6.0)\n",
            "Requirement already satisfied: oauthlib>=3.0.0 in /usr/local/lib/python3.10/dist-packages (from requests-oauthlib>=0.7.0->google-auth-oauthlib<1.1,>=0.5->tensorboard<2.15,>=2.14->tensorflow==2.14.0) (3.2.2)\n"
          ]
        }
      ]
    },
    {
      "cell_type": "code",
      "source": [
        "from google.colab import drive\n",
        "drive.mount('/content/drive')"
      ],
      "metadata": {
        "colab": {
          "base_uri": "https://localhost:8080/"
        },
        "id": "IEdsMuWrt9gX",
        "outputId": "73cee5bb-b3eb-4793-afd8-7e7c2aa169cd"
      },
      "execution_count": null,
      "outputs": [
        {
          "output_type": "stream",
          "name": "stdout",
          "text": [
            "Mounted at /content/drive\n"
          ]
        }
      ]
    },
    {
      "cell_type": "code",
      "source": [
        "%%capture\n",
        "!git clone https://github.com/AI4Bharat/IndicTrans2.git"
      ],
      "metadata": {
        "id": "QHZ61zExuHTX"
      },
      "execution_count": null,
      "outputs": []
    },
    {
      "cell_type": "code",
      "source": [
        "import numpy as np\n",
        "import matplotlib.pyplot as plt\n",
        "import seaborn as sns\n",
        "import pandas as pd\n",
        "from collections import defaultdict\n",
        "import string\n",
        "import tensorflow as tf\n",
        "import re\n",
        "import os\n",
        "import time\n",
        "from tensorflow import keras\n",
        "from tensorflow.keras.layers import Dense, Input\n",
        "from tensorflow.keras.optimizers import Adam\n",
        "from tensorflow.keras.models import Model\n",
        "from tensorflow.keras.callbacks import ModelCheckpoint\n",
        "from sklearn.preprocessing import OneHotEncoder"
      ],
      "metadata": {
        "id": "o5diXgv1urGe"
      },
      "execution_count": null,
      "outputs": []
    },
    {
      "cell_type": "code",
      "source": [
        "%%capture\n",
        "%cd /content/IndicTrans2/huggingface_interface"
      ],
      "metadata": {
        "id": "U3vs7FkIGSxK"
      },
      "execution_count": null,
      "outputs": []
    },
    {
      "cell_type": "code",
      "source": [
        "%%capture\n",
        "!python3 -m pip install nltk sacremoses pandas regex mock transformers>=4.33.2 mosestokenizer\n",
        "!python3 -c \"import nltk; nltk.download('punkt')\"\n",
        "!python3 -m pip install bitsandbytes scipy accelerate datasets\n",
        "!python3 -m pip install sentencepiece\n",
        "\n",
        "!git clone https://github.com/VarunGumma/IndicTransTokenizer\n",
        "%cd IndicTransTokenizer\n",
        "!python3 -m pip install --editable ./\n",
        "%cd .."
      ],
      "metadata": {
        "id": "ddkRAXQ2Git0"
      },
      "execution_count": null,
      "outputs": []
    },
    {
      "cell_type": "code",
      "source": [
        "ENCODER_LEN = 100\n",
        "DECODER_LEN = 100\n",
        "BATCH_SIZE = 32\n",
        "BUFFER_SIZE = BATCH_SIZE*4"
      ],
      "metadata": {
        "id": "LRUq5zUbJ8iW"
      },
      "execution_count": null,
      "outputs": []
    },
    {
      "cell_type": "code",
      "source": [
        "# Load each dataset\n",
        "train_df_nepali = pd.read_csv(\"/content/drive/MyDrive/dataset/nepali.csv\")\n",
        "train_df_assamese = pd.read_csv(\"/content/drive/MyDrive/dataset/assamese.csv\")\n",
        "train_df_bodo = pd.read_csv(\"/content/drive/MyDrive/dataset/bodo.csv\")\n",
        "train_df_khasi = pd.read_csv(\"/content/drive/MyDrive/dataset/khasi.csv\")\n",
        "train_df_manipuri = pd.read_csv(\"/content/drive/MyDrive/dataset/manipuri.csv\")\n",
        "train_df_mizo = pd.read_csv(\"/content/drive/MyDrive/dataset/mizo.csv\")\n",
        "\n"
      ],
      "metadata": {
        "id": "kTFnn_OCJ-Ff"
      },
      "execution_count": null,
      "outputs": []
    },
    {
      "cell_type": "code",
      "source": [
        "train_df_assamese.drop_duplicates()\n",
        "train_df_bodo.drop_duplicates()\n",
        "train_df_nepali.drop_duplicates()\n",
        "train_df_mizo.drop_duplicates()\n",
        "train_df_khasi.drop_duplicates()\n",
        "train_df_manipuri.drop_duplicates()"
      ],
      "metadata": {
        "colab": {
          "base_uri": "https://localhost:8080/",
          "height": 424
        },
        "id": "pqS2g62OKAKH",
        "outputId": "6cbc8e5f-203b-4d77-9d5e-11f82e3544d4"
      },
      "execution_count": null,
      "outputs": [
        {
          "output_type": "execute_result",
          "data": {
            "text/plain": [
              "                                                 ENGLISH  \\\n",
              "0            Alison Masturbate Give Me Emotions 12: 00\\n   \n",
              "1      Social Security, Social Security, and Social S...   \n",
              "2      Late Nrityashilpi Amalashankar, Chief Minister...   \n",
              "3              Teri Ha Papdi has a fire cracker in it.\\n   \n",
              "4                      But that doesn't mean we can't.\\n   \n",
              "...                                                  ...   \n",
              "60225  Taxes and levies not refundable and duties, ce...   \n",
              "60226                           b. at least two people\\n   \n",
              "60227  These rankings are made after evaluating the b...   \n",
              "60228      Mera teri gali mein - Jeena teri gali mein.\\n   \n",
              "60229          On: July 30, 2018 In: भारतीय भारतीय में\\n   \n",
              "\n",
              "                                                MANIPURI  \n",
              "0         একাকী হটি এলিসন হস্তমৈথুন Give Me আবেগ 12:00\\n  \n",
              "1      ওল পোৎ পিবা থবক থিবা বিলস শকখঙচেশিং সোশ্যাল সি...  \n",
              "2      প্রয়াত নৃত্যশিল্পী অমলাশঙ্কর, মুখ্যমন্ত্রীর শ...  \n",
              "3                         তেরি হা পাপদি দা মৈ ক্রেতা আ\\n  \n",
              "4       অদুবু মসিনা ঐখোয় য়ারে পেল্লে হায়বা য়াদ্রি।\\n  \n",
              "...                                                  ...  \n",
              "60225  তেক্সশিং অমসুং লেবিসশিং রিফন্দ তৌদ্রিবা অমসুং ...  \n",
              "60226          3. n য়ামদ্রবদা মী অনী খূৎ থাদুনা খৎনবা\\n  \n",
              "60227  অওনবশিংনা পুরকপা কান্নবশিং য়েংলবা মতুংদা হায়...  \n",
              "60228           মরনা তেরী গলী মেঁ - জীনা তেরী গলী মেঁ।\\n  \n",
              "60229                on: জুলাই ০২, ২০২০ In: জন্মমৃত্যু\\n  \n",
              "\n",
              "[60230 rows x 2 columns]"
            ],
            "text/html": [
              "\n",
              "  <div id=\"df-8615c50d-bfae-42d9-bd56-207d5ae4f20d\" class=\"colab-df-container\">\n",
              "    <div>\n",
              "<style scoped>\n",
              "    .dataframe tbody tr th:only-of-type {\n",
              "        vertical-align: middle;\n",
              "    }\n",
              "\n",
              "    .dataframe tbody tr th {\n",
              "        vertical-align: top;\n",
              "    }\n",
              "\n",
              "    .dataframe thead th {\n",
              "        text-align: right;\n",
              "    }\n",
              "</style>\n",
              "<table border=\"1\" class=\"dataframe\">\n",
              "  <thead>\n",
              "    <tr style=\"text-align: right;\">\n",
              "      <th></th>\n",
              "      <th>ENGLISH</th>\n",
              "      <th>MANIPURI</th>\n",
              "    </tr>\n",
              "  </thead>\n",
              "  <tbody>\n",
              "    <tr>\n",
              "      <th>0</th>\n",
              "      <td>Alison Masturbate Give Me Emotions 12: 00\\n</td>\n",
              "      <td>একাকী হটি এলিসন হস্তমৈথুন Give Me আবেগ 12:00\\n</td>\n",
              "    </tr>\n",
              "    <tr>\n",
              "      <th>1</th>\n",
              "      <td>Social Security, Social Security, and Social S...</td>\n",
              "      <td>ওল পোৎ পিবা থবক থিবা বিলস শকখঙচেশিং সোশ্যাল সি...</td>\n",
              "    </tr>\n",
              "    <tr>\n",
              "      <th>2</th>\n",
              "      <td>Late Nrityashilpi Amalashankar, Chief Minister...</td>\n",
              "      <td>প্রয়াত নৃত্যশিল্পী অমলাশঙ্কর, মুখ্যমন্ত্রীর শ...</td>\n",
              "    </tr>\n",
              "    <tr>\n",
              "      <th>3</th>\n",
              "      <td>Teri Ha Papdi has a fire cracker in it.\\n</td>\n",
              "      <td>তেরি হা পাপদি দা মৈ ক্রেতা আ\\n</td>\n",
              "    </tr>\n",
              "    <tr>\n",
              "      <th>4</th>\n",
              "      <td>But that doesn't mean we can't.\\n</td>\n",
              "      <td>অদুবু মসিনা ঐখোয় য়ারে পেল্লে হায়বা য়াদ্রি।\\n</td>\n",
              "    </tr>\n",
              "    <tr>\n",
              "      <th>...</th>\n",
              "      <td>...</td>\n",
              "      <td>...</td>\n",
              "    </tr>\n",
              "    <tr>\n",
              "      <th>60225</th>\n",
              "      <td>Taxes and levies not refundable and duties, ce...</td>\n",
              "      <td>তেক্সশিং অমসুং লেবিসশিং রিফন্দ তৌদ্রিবা অমসুং ...</td>\n",
              "    </tr>\n",
              "    <tr>\n",
              "      <th>60226</th>\n",
              "      <td>b. at least two people\\n</td>\n",
              "      <td>3. n য়ামদ্রবদা মী অনী খূৎ থাদুনা খৎনবা\\n</td>\n",
              "    </tr>\n",
              "    <tr>\n",
              "      <th>60227</th>\n",
              "      <td>These rankings are made after evaluating the b...</td>\n",
              "      <td>অওনবশিংনা পুরকপা কান্নবশিং য়েংলবা মতুংদা হায়...</td>\n",
              "    </tr>\n",
              "    <tr>\n",
              "      <th>60228</th>\n",
              "      <td>Mera teri gali mein - Jeena teri gali mein.\\n</td>\n",
              "      <td>মরনা তেরী গলী মেঁ - জীনা তেরী গলী মেঁ।\\n</td>\n",
              "    </tr>\n",
              "    <tr>\n",
              "      <th>60229</th>\n",
              "      <td>On: July 30, 2018 In: भारतीय भारतीय में\\n</td>\n",
              "      <td>on: জুলাই ০২, ২০২০ In: জন্মমৃত্যু\\n</td>\n",
              "    </tr>\n",
              "  </tbody>\n",
              "</table>\n",
              "<p>60230 rows × 2 columns</p>\n",
              "</div>\n",
              "    <div class=\"colab-df-buttons\">\n",
              "\n",
              "  <div class=\"colab-df-container\">\n",
              "    <button class=\"colab-df-convert\" onclick=\"convertToInteractive('df-8615c50d-bfae-42d9-bd56-207d5ae4f20d')\"\n",
              "            title=\"Convert this dataframe to an interactive table.\"\n",
              "            style=\"display:none;\">\n",
              "\n",
              "  <svg xmlns=\"http://www.w3.org/2000/svg\" height=\"24px\" viewBox=\"0 -960 960 960\">\n",
              "    <path d=\"M120-120v-720h720v720H120Zm60-500h600v-160H180v160Zm220 220h160v-160H400v160Zm0 220h160v-160H400v160ZM180-400h160v-160H180v160Zm440 0h160v-160H620v160ZM180-180h160v-160H180v160Zm440 0h160v-160H620v160Z\"/>\n",
              "  </svg>\n",
              "    </button>\n",
              "\n",
              "  <style>\n",
              "    .colab-df-container {\n",
              "      display:flex;\n",
              "      gap: 12px;\n",
              "    }\n",
              "\n",
              "    .colab-df-convert {\n",
              "      background-color: #E8F0FE;\n",
              "      border: none;\n",
              "      border-radius: 50%;\n",
              "      cursor: pointer;\n",
              "      display: none;\n",
              "      fill: #1967D2;\n",
              "      height: 32px;\n",
              "      padding: 0 0 0 0;\n",
              "      width: 32px;\n",
              "    }\n",
              "\n",
              "    .colab-df-convert:hover {\n",
              "      background-color: #E2EBFA;\n",
              "      box-shadow: 0px 1px 2px rgba(60, 64, 67, 0.3), 0px 1px 3px 1px rgba(60, 64, 67, 0.15);\n",
              "      fill: #174EA6;\n",
              "    }\n",
              "\n",
              "    .colab-df-buttons div {\n",
              "      margin-bottom: 4px;\n",
              "    }\n",
              "\n",
              "    [theme=dark] .colab-df-convert {\n",
              "      background-color: #3B4455;\n",
              "      fill: #D2E3FC;\n",
              "    }\n",
              "\n",
              "    [theme=dark] .colab-df-convert:hover {\n",
              "      background-color: #434B5C;\n",
              "      box-shadow: 0px 1px 3px 1px rgba(0, 0, 0, 0.15);\n",
              "      filter: drop-shadow(0px 1px 2px rgba(0, 0, 0, 0.3));\n",
              "      fill: #FFFFFF;\n",
              "    }\n",
              "  </style>\n",
              "\n",
              "    <script>\n",
              "      const buttonEl =\n",
              "        document.querySelector('#df-8615c50d-bfae-42d9-bd56-207d5ae4f20d button.colab-df-convert');\n",
              "      buttonEl.style.display =\n",
              "        google.colab.kernel.accessAllowed ? 'block' : 'none';\n",
              "\n",
              "      async function convertToInteractive(key) {\n",
              "        const element = document.querySelector('#df-8615c50d-bfae-42d9-bd56-207d5ae4f20d');\n",
              "        const dataTable =\n",
              "          await google.colab.kernel.invokeFunction('convertToInteractive',\n",
              "                                                    [key], {});\n",
              "        if (!dataTable) return;\n",
              "\n",
              "        const docLinkHtml = 'Like what you see? Visit the ' +\n",
              "          '<a target=\"_blank\" href=https://colab.research.google.com/notebooks/data_table.ipynb>data table notebook</a>'\n",
              "          + ' to learn more about interactive tables.';\n",
              "        element.innerHTML = '';\n",
              "        dataTable['output_type'] = 'display_data';\n",
              "        await google.colab.output.renderOutput(dataTable, element);\n",
              "        const docLink = document.createElement('div');\n",
              "        docLink.innerHTML = docLinkHtml;\n",
              "        element.appendChild(docLink);\n",
              "      }\n",
              "    </script>\n",
              "  </div>\n",
              "\n",
              "\n",
              "<div id=\"df-16fef386-170e-4c50-a6c0-8bc1ef3c677b\">\n",
              "  <button class=\"colab-df-quickchart\" onclick=\"quickchart('df-16fef386-170e-4c50-a6c0-8bc1ef3c677b')\"\n",
              "            title=\"Suggest charts\"\n",
              "            style=\"display:none;\">\n",
              "\n",
              "<svg xmlns=\"http://www.w3.org/2000/svg\" height=\"24px\"viewBox=\"0 0 24 24\"\n",
              "     width=\"24px\">\n",
              "    <g>\n",
              "        <path d=\"M19 3H5c-1.1 0-2 .9-2 2v14c0 1.1.9 2 2 2h14c1.1 0 2-.9 2-2V5c0-1.1-.9-2-2-2zM9 17H7v-7h2v7zm4 0h-2V7h2v10zm4 0h-2v-4h2v4z\"/>\n",
              "    </g>\n",
              "</svg>\n",
              "  </button>\n",
              "\n",
              "<style>\n",
              "  .colab-df-quickchart {\n",
              "      --bg-color: #E8F0FE;\n",
              "      --fill-color: #1967D2;\n",
              "      --hover-bg-color: #E2EBFA;\n",
              "      --hover-fill-color: #174EA6;\n",
              "      --disabled-fill-color: #AAA;\n",
              "      --disabled-bg-color: #DDD;\n",
              "  }\n",
              "\n",
              "  [theme=dark] .colab-df-quickchart {\n",
              "      --bg-color: #3B4455;\n",
              "      --fill-color: #D2E3FC;\n",
              "      --hover-bg-color: #434B5C;\n",
              "      --hover-fill-color: #FFFFFF;\n",
              "      --disabled-bg-color: #3B4455;\n",
              "      --disabled-fill-color: #666;\n",
              "  }\n",
              "\n",
              "  .colab-df-quickchart {\n",
              "    background-color: var(--bg-color);\n",
              "    border: none;\n",
              "    border-radius: 50%;\n",
              "    cursor: pointer;\n",
              "    display: none;\n",
              "    fill: var(--fill-color);\n",
              "    height: 32px;\n",
              "    padding: 0;\n",
              "    width: 32px;\n",
              "  }\n",
              "\n",
              "  .colab-df-quickchart:hover {\n",
              "    background-color: var(--hover-bg-color);\n",
              "    box-shadow: 0 1px 2px rgba(60, 64, 67, 0.3), 0 1px 3px 1px rgba(60, 64, 67, 0.15);\n",
              "    fill: var(--button-hover-fill-color);\n",
              "  }\n",
              "\n",
              "  .colab-df-quickchart-complete:disabled,\n",
              "  .colab-df-quickchart-complete:disabled:hover {\n",
              "    background-color: var(--disabled-bg-color);\n",
              "    fill: var(--disabled-fill-color);\n",
              "    box-shadow: none;\n",
              "  }\n",
              "\n",
              "  .colab-df-spinner {\n",
              "    border: 2px solid var(--fill-color);\n",
              "    border-color: transparent;\n",
              "    border-bottom-color: var(--fill-color);\n",
              "    animation:\n",
              "      spin 1s steps(1) infinite;\n",
              "  }\n",
              "\n",
              "  @keyframes spin {\n",
              "    0% {\n",
              "      border-color: transparent;\n",
              "      border-bottom-color: var(--fill-color);\n",
              "      border-left-color: var(--fill-color);\n",
              "    }\n",
              "    20% {\n",
              "      border-color: transparent;\n",
              "      border-left-color: var(--fill-color);\n",
              "      border-top-color: var(--fill-color);\n",
              "    }\n",
              "    30% {\n",
              "      border-color: transparent;\n",
              "      border-left-color: var(--fill-color);\n",
              "      border-top-color: var(--fill-color);\n",
              "      border-right-color: var(--fill-color);\n",
              "    }\n",
              "    40% {\n",
              "      border-color: transparent;\n",
              "      border-right-color: var(--fill-color);\n",
              "      border-top-color: var(--fill-color);\n",
              "    }\n",
              "    60% {\n",
              "      border-color: transparent;\n",
              "      border-right-color: var(--fill-color);\n",
              "    }\n",
              "    80% {\n",
              "      border-color: transparent;\n",
              "      border-right-color: var(--fill-color);\n",
              "      border-bottom-color: var(--fill-color);\n",
              "    }\n",
              "    90% {\n",
              "      border-color: transparent;\n",
              "      border-bottom-color: var(--fill-color);\n",
              "    }\n",
              "  }\n",
              "</style>\n",
              "\n",
              "  <script>\n",
              "    async function quickchart(key) {\n",
              "      const quickchartButtonEl =\n",
              "        document.querySelector('#' + key + ' button');\n",
              "      quickchartButtonEl.disabled = true;  // To prevent multiple clicks.\n",
              "      quickchartButtonEl.classList.add('colab-df-spinner');\n",
              "      try {\n",
              "        const charts = await google.colab.kernel.invokeFunction(\n",
              "            'suggestCharts', [key], {});\n",
              "      } catch (error) {\n",
              "        console.error('Error during call to suggestCharts:', error);\n",
              "      }\n",
              "      quickchartButtonEl.classList.remove('colab-df-spinner');\n",
              "      quickchartButtonEl.classList.add('colab-df-quickchart-complete');\n",
              "    }\n",
              "    (() => {\n",
              "      let quickchartButtonEl =\n",
              "        document.querySelector('#df-16fef386-170e-4c50-a6c0-8bc1ef3c677b button');\n",
              "      quickchartButtonEl.style.display =\n",
              "        google.colab.kernel.accessAllowed ? 'block' : 'none';\n",
              "    })();\n",
              "  </script>\n",
              "</div>\n",
              "\n",
              "    </div>\n",
              "  </div>\n"
            ],
            "application/vnd.google.colaboratory.intrinsic+json": {
              "type": "dataframe",
              "summary": "{\n  \"name\": \"train_df_manipuri\",\n  \"rows\": 60230,\n  \"fields\": [\n    {\n      \"column\": \"ENGLISH\",\n      \"properties\": {\n        \"dtype\": \"string\",\n        \"num_unique_values\": 59432,\n        \"samples\": [\n          \"The topic provides information related to the Juvenile Justice (Care and Protection of Children) Act, 2015.\\n\",\n          \"Strengthen institutional mechanisms to fund and support implementation.\\n\",\n          \"The collection of Barak Valley has been preserved - probably only in the sixties - by B.\\n\"\n        ],\n        \"semantic_type\": \"\",\n        \"description\": \"\"\n      }\n    },\n    {\n      \"column\": \"MANIPURI\",\n      \"properties\": {\n        \"dtype\": \"string\",\n        \"num_unique_values\": 60229,\n        \"samples\": [\n          \"\\u09b8\\u09c7\\u0995\\u09cd\\u09af\\u09c1\\u09b0\\u09bf\\u099f\\u09bf\\u0997\\u09c0 \\u09af\\u09bc\\u09be\\u09a8\\u09be \\u09ae\\u09c0 \\u09ea\\u09eb \\u09aa\\u09cb\\u099c\\u09bf\\u099f\\u09bf\\u09ac \\u0987\\u0996\\u09bf\\n\",\n          \"\\u09ae\\u09cc\\u0996\\u09bf\\u0995, \\u09aa\\u09cd\\u09b0\\u09a4\\u09bf\\u09ae\\u09be, femdom, \\u0996\\u09c7\\u09b2\\u09a8\\u09be\\n\",\n          \"\\u0987\\u09a8\\u09ab\\u09cb\\u09b0\\u09cd\\u09ae\\u09c7\\u09b2 \\u09ae\\u09c0\\u09ab\\u09ae \\u0985\\u09b8\\u09bf\\u09a6\\u09be \\u0985\\u09a6\\u09cb\\u09ae\\u09cd\\u09ac\\u09c1 \\u09a4\\u09b0\\u09be\\u09ae\\u09cd\\u09a8\\u09be \\u0993\\u0995\\u099a\\u09ac\\u09a6\\u09be \\u0990\\u09b9\\u09be\\u0995 \\u09a8\\u09c1\\u0982\\u0999\\u09be\\u0987\\u09ac\\u09be \\u09ab\\u09be\\u0993\\u0987\\u0964\\n\"\n        ],\n        \"semantic_type\": \"\",\n        \"description\": \"\"\n      }\n    }\n  ]\n}"
            }
          },
          "metadata": {},
          "execution_count": 9
        }
      ]
    },
    {
      "cell_type": "code",
      "source": [
        "\n",
        "# Remove unwanted characters, convert text to lowercase, and remove nan values for the 'ENGLISH' column\n",
        "train_df_nepali['ENGLISH'] = train_df_nepali['ENGLISH'].apply(lambda x: re.sub(r'[^a-zA-Z\\s]', '', str(x).lower()) if pd.notnull(x) else '')\n",
        "\n",
        "# Remove unwanted characters, convert text to lowercase, and remove nan values for the 'बड़ो' column\n",
        "train_df_nepali['NEPALI'] = train_df_nepali['NEPALI'].apply(lambda x: re.sub(r'[^a-zA-Z\\u0900-\\u097F\\s]', '', str(x).lower()) if pd.notnull(x) else '')\n",
        "\n",
        "# Remove punctuation for the 'ENGLISH' column\n",
        "train_df_nepali['ENGLISH'] = train_df_nepali['ENGLISH'].apply(lambda x: x.translate(str.maketrans('', '', string.punctuation)))\n",
        "\n",
        "# Remove punctuation for the 'बड़ो' column\n",
        "train_df_nepali['NEPALI'] = train_df_nepali['NEPALI'].apply(lambda x: x.translate(str.maketrans('', '', string.punctuation)))\n",
        "\n",
        "# Remove extra whitespace for the 'ENGLISH' column\n",
        "train_df_nepali['ENGLISH'] = train_df_nepali['ENGLISH'].apply(lambda x: re.sub(r'\\s+', ' ', x.strip()))\n",
        "\n",
        "# Remove extra whitespace for the 'बड़ो' column\n",
        "train_df_nepali['NEPALI'] = train_df_nepali['NEPALI'].apply(lambda x: re.sub(r'\\s+', ' ', x.strip()))\n",
        "\n",
        "# Remove rows with empty values\n",
        "train_df_nepali.replace('', np.nan, inplace=True)\n",
        "train_df_nepali.dropna(subset=['ENGLISH', 'NEPALI'], inplace=True)\n",
        "\n",
        "# Save the cleaned Nepali data to a new CSV file\n",
        "train_df_nepali.to_csv('nepali.csv', columns=['ENGLISH', 'NEPALI'], index=False)"
      ],
      "metadata": {
        "id": "g65irtxMKO_D"
      },
      "execution_count": null,
      "outputs": []
    },
    {
      "cell_type": "code",
      "source": [
        "def clean_manipuri_text(text):\n",
        "    # Replace characters not in the Manipuri script with a space\n",
        "    cleaned_text = re.sub(r'[^\\u0980-\\u09FF\\s]', ' ', str(text).lower()) if pd.notnull(text) else ''\n",
        "    # Remove extra whitespace\n",
        "    cleaned_text = re.sub(r'\\s+', ' ', cleaned_text.strip())\n",
        "    return cleaned_text\n",
        "# Remove unwanted characters, convert text to lowercase, and remove nan values for the 'ENGLISH' column\n",
        "train_df_manipuri['ENGLISH'] = train_df_manipuri['ENGLISH'].apply(lambda x: re.sub(r'[^a-zA-Z\\s]', '', str(x).lower()) if pd.notnull(x) else '')\n",
        "\n",
        "# Remove punctuation for the 'ENGLISH' column\n",
        "train_df_manipuri['ENGLISH'] = train_df_manipuri['ENGLISH'].apply(lambda x: x.translate(str.maketrans('', '', string.punctuation)))\n",
        "\n",
        "# Remove extra whitespace for the 'ENGLISH' column\n",
        "train_df_manipuri['ENGLISH'] = train_df_manipuri['ENGLISH'].apply(lambda x: re.sub(r'\\s+', ' ', x.strip()))\n",
        "\n",
        "# Apply the cleaning function to the 'MANIPURI' column\n",
        "train_df_manipuri['MANIPURI'] = train_df_manipuri['MANIPURI'].apply(clean_manipuri_text)\n",
        "\n",
        "# Remove punctuation for the 'MANIPURI' column\n",
        "train_df_manipuri['MANIPURI'] = train_df_manipuri['MANIPURI'].apply(lambda x: x.translate(str.maketrans('', '', string.punctuation)))\n",
        "\n",
        "# Remove rows with empty values\n",
        "train_df_manipuri.replace('', np.nan, inplace=True)\n",
        "train_df_manipuri.dropna(subset=['ENGLISH', 'MANIPURI'], inplace=True)\n",
        "\n",
        "# Save the cleaned Manipuri data to a new CSV file\n",
        "train_df_manipuri.to_csv('manipuri.csv', columns=['ENGLISH', 'MANIPURI'], index=False)\n",
        "\n",
        "# Display the cleaned DataFrame\n",
        "print(train_df_manipuri[['ENGLISH', 'MANIPURI']])"
      ],
      "metadata": {
        "colab": {
          "base_uri": "https://localhost:8080/"
        },
        "id": "vhe1rNKIKRKB",
        "outputId": "597a771f-b993-4113-b25a-68df023e7e5e"
      },
      "execution_count": null,
      "outputs": [
        {
          "output_type": "stream",
          "name": "stdout",
          "text": [
            "                                                 ENGLISH  \\\n",
            "0                     alison masturbate give me emotions   \n",
            "1      social security social security and social sec...   \n",
            "2      late nrityashilpi amalashankar chief ministers...   \n",
            "3                 teri ha papdi has a fire cracker in it   \n",
            "4                           but that doesnt mean we cant   \n",
            "...                                                  ...   \n",
            "60225  taxes and levies not refundable and duties ces...   \n",
            "60226                              b at least two people   \n",
            "60227  these rankings are made after evaluating the b...   \n",
            "60228           mera teri gali mein jeena teri gali mein   \n",
            "60229                                         on july in   \n",
            "\n",
            "                                                MANIPURI  \n",
            "0                         একাকী হটি এলিসন হস্তমৈথুন আবেগ  \n",
            "1      ওল পোৎ পিবা থবক থিবা বিলস শকখঙচেশিং সোশ্যাল সি...  \n",
            "2      প্রয়াত নৃত্যশিল্পী অমলাশঙ্কর মুখ্যমন্ত্রীর শো...  \n",
            "3                           তেরি হা পাপদি দা মৈ ক্রেতা আ  \n",
            "4          অদুবু মসিনা ঐখোয় য়ারে পেল্লে হায়বা য়াদ্রি  \n",
            "...                                                  ...  \n",
            "60225  তেক্সশিং অমসুং লেবিসশিং রিফন্দ তৌদ্রিবা অমসুং ...  \n",
            "60226                 য়ামদ্রবদা মী অনী খূৎ থাদুনা খৎনবা  \n",
            "60227  অওনবশিংনা পুরকপা কান্নবশিং য়েংলবা মতুংদা হায়...  \n",
            "60228                মরনা তেরী গলী মেঁ জীনা তেরী গলী মেঁ  \n",
            "60229                           জুলাই ০২ ২০২০ জন্মমৃত্যু  \n",
            "\n",
            "[60135 rows x 2 columns]\n"
          ]
        }
      ]
    },
    {
      "cell_type": "code",
      "source": [
        "import re\n",
        "import string\n",
        "import pandas as pd\n",
        "import numpy as np\n",
        "\n",
        "# Remove unwanted characters, convert text to lowercase, and remove nan values for the 'ENGLISH' column\n",
        "train_df_assamese['ENGLISH'] = train_df_assamese['ENGLISH'].apply(lambda x: re.sub(r'[^a-zA-Z\\s]', '', str(x).lower()) if pd.notnull(x) else '')\n",
        "\n",
        "# Remove punctuation for the 'ENGLISH' column\n",
        "train_df_assamese['ENGLISH'] = train_df_assamese['ENGLISH'].apply(lambda x: x.translate(str.maketrans('', '', string.punctuation)))\n",
        "\n",
        "# Remove extra whitespace for the 'ENGLISH' column\n",
        "train_df_assamese['ENGLISH'] = train_df_assamese['ENGLISH'].apply(lambda x: re.sub(r'\\s+', ' ', x.strip()))\n",
        "\n",
        "# Remove unwanted characters, convert text to lowercase, and remove nan values for the 'ASSAMESE' column\n",
        "train_df_assamese['ASSAMESE'] = train_df_assamese['ASSAMESE'].apply(lambda x: re.sub(r'[^a-zA-Z\\u0980-\\u09FF\\s]', '', str(x).lower()) if pd.notnull(x) else '')\n",
        "\n",
        "# Remove punctuation for the 'ASSAMESE' column\n",
        "train_df_assamese['ASSAMESE'] = train_df_assamese['ASSAMESE'].apply(lambda x: x.translate(str.maketrans('', '', string.punctuation)))\n",
        "\n",
        "# Remove extra whitespace for the 'ASSAMESE' column\n",
        "train_df_assamese['ASSAMESE'] = train_df_assamese['ASSAMESE'].apply(lambda x: re.sub(r'\\s+', ' ', x.strip()))\n",
        "\n",
        "# Remove rows with empty values\n",
        "train_df_assamese.replace('', np.nan, inplace=True)\n",
        "train_df_assamese.dropna(subset=['ENGLISH', 'ASSAMESE'], inplace=True)\n",
        "\n",
        "# Save the cleaned Assamese data to a new CSV file\n",
        "train_df_assamese.to_csv('assamese.csv', columns=['ENGLISH', 'ASSAMESE'], index=False)\n",
        "\n",
        "# Display the cleaned DataFrame\n",
        "print(train_df_assamese[['ENGLISH','ASSAMESE']])\n"
      ],
      "metadata": {
        "colab": {
          "base_uri": "https://localhost:8080/"
        },
        "id": "kUELzn-2Kz3W",
        "outputId": "b4ca8095-7b0c-4d72-d1b7-f56cc4409d53"
      },
      "execution_count": null,
      "outputs": [
        {
          "output_type": "stream",
          "name": "stdout",
          "text": [
            "                                                  ENGLISH  \\\n",
            "0                                        tie up long hair   \n",
            "1       nevertheless he gave this assurance he that ha...   \n",
            "2       david wrote many things you yourself have done...   \n",
            "3       to many people today a martyr is more or less ...   \n",
            "4       after protests were conducted over the decisio...   \n",
            "...                                                   ...   \n",
            "141228                                        what is god   \n",
            "141229     jehovahs feelings toward the haughty are clear   \n",
            "141230  as we approach the end of this system of thing...   \n",
            "141231  what can be said about the religious situation...   \n",
            "141232  i won my battle with postpartum depression awa...   \n",
            "\n",
            "                                                 ASSAMESE  \n",
            "0                                     মেলি থোৱা দীঘল চুলি  \n",
            "1       যিয়েই নহওঁক যিসকলে এই কাৰ্য্য প্ৰাণপণে কৰা চেষ...  \n",
            "2       ইয়োব ৩৮ ৪ ৬ পদত উল্লেখ কৰা লিখনীৰ পৰা আমি কি জ...  \n",
            "3       এই সন্দৰ্ভত তেওঁ পীলাতক এইদৰে কৈছিল যে সত্যতাৰ...  \n",
            "4       কৰনাৰ বিভীষিকাৰ মাজতো গুৱাহাটী বিশ্ববিদ্যালয়ে ...  \n",
            "...                                                   ...  \n",
            "141228                                    গতিকে ভগৱান কোন  \n",
            "141229                                         বৰ্ণনা কৰক  \n",
            "141230  যীচুৱে তেওঁৰ শিষ্যসকলক পৰিচালিত কৰিবলৈ কেনেকৈ ...  \n",
            "141231  দ্যা ৱৰ্ল্ড আলমেনাক নামৰ কিতাপখনে ধৰ্ম্ম অনুসৰ...  \n",
            "141232  প্ৰসবোত্তৰ বাবে হোৱা মানসিক অৱসাদৰ ওপৰত জয়ী হো...  \n",
            "\n",
            "[141233 rows x 2 columns]\n"
          ]
        }
      ]
    },
    {
      "cell_type": "code",
      "source": [
        "# Remove unwanted characters, convert text to lowercase, and remove nan values for the 'ENGLISH' column\n",
        "train_df_khasi['ENGLISH'] = train_df_khasi['ENGLISH'].apply(lambda x: re.sub(r'[^a-zA-Z\\s]', '', str(x).lower()) if pd.notnull(x) else '')\n",
        "\n",
        "# Remove unwanted characters, convert text to lowercase, and remove nan values for the 'KHASI_DEVA' column\n",
        "train_df_khasi['KHASI'] = train_df_khasi['KHASI'].apply(lambda x: re.sub(r'[^a-zA-Z\\u0900-\\u097F\\s]', '', str(x).lower()) if pd.notnull(x) else '')\n",
        "\n",
        "# Remove punctuation for the 'ENGLISH' column\n",
        "train_df_khasi['ENGLISH'] = train_df_khasi['ENGLISH'].apply(lambda x: x.translate(str.maketrans('', '', string.punctuation)))\n",
        "\n",
        "# Remove punctuation for the 'KHASI' column\n",
        "train_df_khasi['KHASI'] = train_df_khasi['KHASI'].apply(lambda x: x.translate(str.maketrans('', '', string.punctuation)))\n",
        "\n",
        "# Remove extra whitespace for the 'ENGLISH' column\n",
        "train_df_khasi['ENGLISH'] = train_df_khasi['ENGLISH'].apply(lambda x: re.sub(r'\\s+', ' ', x.strip()))\n",
        "\n",
        "# Remove extra whitespace for the 'KHASI' column\n",
        "train_df_khasi['KHASI'] = train_df_khasi['KHASI'].apply(lambda x: re.sub(r'\\s+', ' ', x.strip()))\n",
        "\n",
        "# Remove rows with empty values\n",
        "train_df_khasi.replace('', np.nan, inplace=True)\n",
        "train_df_khasi.dropna(subset=['ENGLISH', 'KHASI'], inplace=True)\n",
        "\n",
        "# Save the cleaned Khasi data to a new CSV file\n",
        "train_df_khasi.to_csv('khasi.csv', columns=['ENGLISH', 'KHASI'], index=False)"
      ],
      "metadata": {
        "id": "6Qscq8kFK3Up"
      },
      "execution_count": null,
      "outputs": []
    },
    {
      "cell_type": "code",
      "source": [
        "# Remove unwanted characters, convert text to lowercase, and remove nan values for the 'ENGLISH' column\n",
        "train_df_mizo['ENGLISH'] = train_df_mizo['ENGLISH'].apply(lambda x: re.sub(r'[^a-zA-Z\\s]', '', str(x).lower()) if pd.notnull(x) else '')\n",
        "\n",
        "# Remove unwanted characters, convert text to lowercase, and remove nan values for the 'MIZO_DEVA' column\n",
        "train_df_mizo['MIZO'] = train_df_mizo['MIZO'].apply(lambda x: re.sub(r'[^a-zA-Z\\u0900-\\u097F\\s]', '', str(x).lower()) if pd.notnull(x) else '')\n",
        "\n",
        "# Remove punctuation for the 'ENGLISH' column\n",
        "train_df_mizo['ENGLISH'] = train_df_mizo['ENGLISH'].apply(lambda x: x.translate(str.maketrans('', '', string.punctuation)))\n",
        "\n",
        "# Remove punctuation for the 'MIZO' column\n",
        "train_df_mizo['MIZO'] = train_df_mizo['MIZO'].apply(lambda x: x.translate(str.maketrans('', '', string.punctuation)))\n",
        "\n",
        "# Remove extra whitespace for the 'ENGLISH' column\n",
        "train_df_mizo['ENGLISH'] = train_df_mizo['ENGLISH'].apply(lambda x: re.sub(r'\\s+', ' ', x.strip()))\n",
        "\n",
        "# Remove extra whitespace for the 'MIZO' column\n",
        "train_df_mizo['MIZO'] = train_df_mizo['MIZO'].apply(lambda x: re.sub(r'\\s+', ' ', x.strip()))\n",
        "\n",
        "# Remove rows with empty values\n",
        "train_df_mizo.replace('', np.nan, inplace=True)\n",
        "train_df_mizo.dropna(subset=['ENGLISH', 'MIZO'], inplace=True)\n",
        "\n",
        "# Save the cleaned Mizo data to a new CSV file\n",
        "train_df_mizo.to_csv('mizo.csv', columns=['ENGLISH', 'MIZO'], index=False)\n"
      ],
      "metadata": {
        "id": "-rMNRI2vK9xT"
      },
      "execution_count": null,
      "outputs": []
    },
    {
      "cell_type": "code",
      "source": [
        "\n",
        "# Remove unwanted characters, convert text to lowercase, and remove nan values for the 'ENGLISH' column\n",
        "train_df_bodo['ENGLISH'] = train_df_bodo['ENGLISH'].apply(lambda x: re.sub(r'[^a-zA-Z\\s]', '', str(x).lower()) if pd.notnull(x) else '')\n",
        "\n",
        "# Remove unwanted characters, convert text to lowercase, and remove nan values for the 'BODO_DEVA' column\n",
        "train_df_bodo['BODO'] = train_df_bodo['BODO'].apply(lambda x: re.sub(r'[^a-zA-Z\\u0900-\\u097F\\s]', '', str(x).lower()) if pd.notnull(x) else '')\n",
        "\n",
        "# Remove punctuation for the 'ENGLISH' column\n",
        "train_df_bodo['ENGLISH'] = train_df_bodo['ENGLISH'].apply(lambda x: x.translate(str.maketrans('', '', string.punctuation)))\n",
        "\n",
        "# Remove punctuation for the 'BODO' column\n",
        "train_df_bodo['BODO'] = train_df_bodo['BODO'].apply(lambda x: x.translate(str.maketrans('', '', string.punctuation)))\n",
        "\n",
        "# Remove extra whitespace for the 'ENGLISH' column\n",
        "train_df_bodo['ENGLISH'] = train_df_bodo['ENGLISH'].apply(lambda x: re.sub(r'\\s+', ' ', x.strip()))\n",
        "\n",
        "# Remove extra whitespace for the 'BODO' column\n",
        "train_df_bodo['BODO'] = train_df_bodo['BODO'].apply(lambda x: re.sub(r'\\s+', ' ', x.strip()))\n",
        "\n",
        "# Remove rows with empty values\n",
        "train_df_bodo.replace('', np.nan, inplace=True)\n",
        "train_df_bodo.dropna(subset=['ENGLISH', 'BODO'], inplace=True)\n",
        "\n",
        "# Save the cleaned Bodo data to a new CSV file\n",
        "train_df_bodo.to_csv('bodo.csv', columns=['ENGLISH', 'BODO'], index=False)\n"
      ],
      "metadata": {
        "id": "b7xMb4rLLCBa"
      },
      "execution_count": null,
      "outputs": []
    },
    {
      "cell_type": "code",
      "source": [
        "from sklearn.model_selection import train_test_split\n"
      ],
      "metadata": {
        "id": "4ywcricVLE_A"
      },
      "execution_count": null,
      "outputs": []
    },
    {
      "cell_type": "code",
      "source": [
        "# Split the English to Bodo dataset into training, testing, and validation sets\n",
        "train_data_bodo, temp_data_bodo = train_test_split(train_df_bodo, test_size=0.3, random_state=42)\n",
        "val_data_bodo, test_data_bodo = train_test_split(temp_data_bodo, test_size=0.17, random_state=42)  # 0.17 * (0.7 / 0.3) = 0.15\n",
        "\n",
        "# Save the training, validation, and testing data to separate CSV files for Bodo\n",
        "train_data_bodo.to_csv('trbodo.csv', columns=['ENGLISH', 'BODO'], index=False)\n",
        "val_data_bodo.to_csv('vbodo.csv', columns=['ENGLISH', 'BODO'], index=False)\n",
        "test_data_bodo.to_csv('tsbodo.csv', columns=['ENGLISH', 'BODO'], index=False)\n",
        "\n",
        "# Split the English to Nepali dataset into training, testing, and validation sets\n",
        "train_data_nepali, temp_data_nepali = train_test_split(train_df_nepali, test_size=0.3, random_state=42)\n",
        "val_data_nepali, test_data_nepali = train_test_split(temp_data_nepali, test_size=0.17, random_state=42)  # 0.17 * (0.7 / 0.3) = 0.15\n",
        "\n",
        "# Save the training, validation, and testing data to separate CSV files for Nepali\n",
        "train_data_nepali.to_csv('trnepali.csv', columns=['ENGLISH', 'NEPALI'], index=False)\n",
        "val_data_nepali.to_csv('vnepali.csv', columns=['ENGLISH', 'NEPALI'], index=False)\n",
        "test_data_nepali.to_csv('tenepali.csv', columns=['ENGLISH', 'NEPALI'], index=False)\n",
        "\n",
        "# Split the English to Khasi dataset into training, testing, and validation sets\n",
        "train_data_khasi, temp_data_khasi = train_test_split(train_df_khasi, test_size=0.3, random_state=42)\n",
        "val_data_khasi, test_data_khasi = train_test_split(temp_data_khasi, test_size=0.17, random_state=42)  # 0.17 * (0.7 / 0.3) = 0.15\n",
        "\n",
        "# Save the training, validation, and testing data to separate CSV files for Khasi\n",
        "train_data_khasi.to_csv('trkhasi.csv', columns=['ENGLISH', 'KHASI'], index=False)\n",
        "val_data_khasi.to_csv('vkhasi.csv', columns=['ENGLISH', 'KHASI'], index=False)\n",
        "test_data_khasi.to_csv('tkhasi.csv', columns=['ENGLISH', 'KHASI'], index=False)\n",
        "\n",
        "# Split the English to Manipuri dataset into training, testing, and validation sets\n",
        "train_data_manipuri, temp_data_manipuri = train_test_split(train_df_manipuri, test_size=0.3, random_state=42)\n",
        "val_data_manipuri, test_data_manipuri = train_test_split(temp_data_manipuri, test_size=0.17, random_state=42)  # 0.17 * (0.7 / 0.3) = 0.15\n",
        "\n",
        "# Save the training, validation, and testing data to separate CSV files for Manipuri\n",
        "train_data_manipuri.to_csv('trmanipuri.csv', columns=['ENGLISH', 'MANIPURI'], index=False)\n",
        "val_data_manipuri.to_csv('vmanipuri.csv', columns=['ENGLISH', 'MANIPURI'], index=False)\n",
        "test_data_manipuri.to_csv('tmanipuri.csv', columns=['ENGLISH', 'MANIPURI'], index=False)\n",
        "\n",
        "# Split the English to Mizo dataset into training, testing, and validation sets\n",
        "train_data_mizo, temp_data_mizo = train_test_split(train_df_mizo, test_size=0.3, random_state=42)\n",
        "val_data_mizo, test_data_mizo = train_test_split(temp_data_mizo, test_size=0.17, random_state=42)  # 0.17 * (0.7 / 0.3) = 0.15\n",
        "\n",
        "# Save the training, validation, and testing data to separate CSV files for Mizo\n",
        "train_data_mizo.to_csv('trmizo.csv', columns=['ENGLISH', 'MIZO'], index=False)\n",
        "val_data_mizo.to_csv('vmizo.csv', columns=['ENGLISH', 'MIZO'], index=False)\n",
        "test_data_mizo.to_csv('tmizo.csv', columns=['ENGLISH', 'MIZO'], index=False)\n",
        "\n",
        "# Split the English to Assamese dataset into training, testing, and validation sets\n",
        "train_data_assamese, temp_data_assamese = train_test_split(train_df_assamese, test_size=0.3, random_state=42)\n",
        "val_data_assamese, test_data_assamese = train_test_split(temp_data_assamese, test_size=0.17, random_state=42)  # 0.17 * (0.7 / 0.3) = 0.15\n",
        "\n",
        "# Save the training, validation, and testing data to separate CSV files for Assamese\n",
        "train_data_assamese.to_csv('trassamese.csv', columns=['ENGLISH', 'ASSAMESE'], index=False)\n",
        "val_data_assamese.to_csv('vassamese.csv', columns=['ENGLISH', 'ASSAMESE'], index=False)\n",
        "test_data_assamese.to_csv('tassamese.csv', columns=['ENGLISH', 'ASSAMESE'], index=False)\n"
      ],
      "metadata": {
        "id": "2dB80x8eLGWi"
      },
      "execution_count": null,
      "outputs": []
    },
    {
      "cell_type": "code",
      "source": [
        "# Separate English to Bodo dataset\n",
        "eng_b = train_df_bodo['ENGLISH']\n",
        "brx = train_df_bodo['BODO']\n",
        "\n",
        "# Separate English to Nepali dataset\n",
        "eng_n = train_df_nepali['ENGLISH']\n",
        "npi = train_df_nepali['NEPALI']\n",
        "\n",
        "# Separate English to Khasi dataset\n",
        "eng_khasi = train_df_khasi['ENGLISH']\n",
        "khasi = train_df_khasi['KHASI']\n",
        "\n",
        "# Separate English to Manipuri dataset\n",
        "eng_manipuri = train_df_manipuri['ENGLISH']\n",
        "manipuri = train_df_manipuri['MANIPURI']\n",
        "\n",
        "# Separate English to Mizo dataset\n",
        "eng_mizo = train_df_mizo['ENGLISH']\n",
        "mizo = train_df_mizo['MIZO']\n",
        "\n",
        "# Separate English to Assamese dataset\n",
        "eng_assamese = train_df_assamese['ENGLISH']\n",
        "assamese = train_df_assamese['ASSAMESE']\n"
      ],
      "metadata": {
        "id": "90xlFb5_LNn0"
      },
      "execution_count": null,
      "outputs": []
    },
    {
      "cell_type": "code",
      "source": [
        "eng_b = eng_b.apply(lambda x: \"<SOS> \" + str(x) + \" <EOS>\")\n",
        "brx = brx.apply(lambda x: \"<SOS> \" + str(x) + \" <EOS>\")\n",
        "filters = '!\"#$%&()*+,-./:;=?@[\\\\]^_`{|}~\\t\\n'\n",
        "oov_token = '<unk>'\n",
        "\n",
        "# Use correct variable names in tokenizers\n",
        "eng_b_tokenizer = tf.keras.preprocessing.text.Tokenizer(filters=filters, oov_token=oov_token)\n",
        "brx_tokenizer = tf.keras.preprocessing.text.Tokenizer(filters=filters, oov_token=oov_token)\n",
        "eng_b_tokenizer.fit_on_texts(eng_b)\n",
        "brx_tokenizer.fit_on_texts(brx)\n",
        "inputs_bodo = eng_b_tokenizer.texts_to_sequences(eng_b)\n",
        "targets_bodo = brx_tokenizer.texts_to_sequences(brx)\n",
        "\n",
        "# Print tokenizers\n",
        "print(eng_b_tokenizer)\n",
        "print(brx_tokenizer)"
      ],
      "metadata": {
        "colab": {
          "base_uri": "https://localhost:8080/"
        },
        "id": "PFtrSk_qLOyw",
        "outputId": "cbeda803-9efd-4ccf-d065-89505cd33bfd"
      },
      "execution_count": null,
      "outputs": [
        {
          "output_type": "stream",
          "name": "stdout",
          "text": [
            "<keras.src.preprocessing.text.Tokenizer object at 0x7967e8f98490>\n",
            "<keras.src.preprocessing.text.Tokenizer object at 0x7967e8f98430>\n"
          ]
        }
      ]
    },
    {
      "cell_type": "code",
      "source": [
        "eng_n = eng_n.apply(lambda x: \"<SOS> \" + str(x) + \" <EOS>\")\n",
        "npi = npi.apply(lambda x: \"<SOS> \" + str(x) + \" <EOS>\")\n",
        "filters = '!\"#$%&()*+,-./:;=?@[\\\\]^_`{|}~\\t\\n'\n",
        "oov_token = '<unk>'\n",
        "\n",
        "# Use correct variable names in tokenizers\n",
        "eng_n_tokenizer = tf.keras.preprocessing.text.Tokenizer(filters=filters, oov_token=oov_token)\n",
        "npi_tokenizer = tf.keras.preprocessing.text.Tokenizer(filters=filters, oov_token=oov_token)\n",
        "eng_n_tokenizer.fit_on_texts(eng_n)\n",
        "npi_tokenizer.fit_on_texts(npi)\n",
        "inputs_nepali = eng_b_tokenizer.texts_to_sequences(eng_n)\n",
        "targets_nepali = brx_tokenizer.texts_to_sequences(npi)\n",
        "\n",
        "# Print tokenizers\n",
        "print(eng_n_tokenizer)\n",
        "print(npi_tokenizer)\n",
        "\n"
      ],
      "metadata": {
        "colab": {
          "base_uri": "https://localhost:8080/"
        },
        "id": "vfnMds9ULQZN",
        "outputId": "4d6eb666-7661-4480-804f-cb353cead642"
      },
      "execution_count": null,
      "outputs": [
        {
          "output_type": "stream",
          "name": "stdout",
          "text": [
            "<keras.src.preprocessing.text.Tokenizer object at 0x7967e8fa0bb0>\n",
            "<keras.src.preprocessing.text.Tokenizer object at 0x7967e8fa1390>\n"
          ]
        }
      ]
    },
    {
      "cell_type": "code",
      "source": [
        "# Preprocess Khasi dataset\n",
        "eng_khasi = eng_khasi.apply(lambda x: \"<SOS> \" + str(x) + \" <EOS>\")\n",
        "khasi = khasi.apply(lambda x: \"<SOS> \" + str(x) + \" <EOS>\")\n",
        "eng_khasi_tokenizer = tf.keras.preprocessing.text.Tokenizer(filters=filters, oov_token=oov_token)\n",
        "khasi_tokenizer = tf.keras.preprocessing.text.Tokenizer(filters=filters, oov_token=oov_token)\n",
        "eng_khasi_tokenizer.fit_on_texts(eng_khasi)\n",
        "khasi_tokenizer.fit_on_texts(khasi)\n",
        "inputs_khasi = eng_khasi_tokenizer.texts_to_sequences(eng_khasi)\n",
        "targets_khasi = khasi_tokenizer.texts_to_sequences(khasi)\n",
        "\n",
        "# Print tokenizers for Khasi\n",
        "print(eng_khasi_tokenizer)\n",
        "print(khasi_tokenizer)\n",
        "\n",
        "# Preprocess Manipuri dataset\n",
        "eng_manipuri = eng_manipuri.apply(lambda x: \"<SOS> \" + str(x) + \" <EOS>\")\n",
        "manipuri = manipuri.apply(lambda x: \"<SOS> \" + str(x) + \" <EOS>\")\n",
        "eng_manipuri_tokenizer = tf.keras.preprocessing.text.Tokenizer(filters=filters, oov_token=oov_token)\n",
        "manipuri_tokenizer = tf.keras.preprocessing.text.Tokenizer(filters=filters, oov_token=oov_token)\n",
        "eng_manipuri_tokenizer.fit_on_texts(eng_manipuri)\n",
        "manipuri_tokenizer.fit_on_texts(manipuri)\n",
        "inputs_manipuri = eng_manipuri_tokenizer.texts_to_sequences(eng_manipuri)\n",
        "targets_manipuri = manipuri_tokenizer.texts_to_sequences(manipuri)\n",
        "\n",
        "# Print tokenizers for Manipuri\n",
        "print(eng_manipuri_tokenizer)\n",
        "print(manipuri_tokenizer)\n",
        "\n",
        "# Preprocess Mizo dataset\n",
        "eng_mizo = eng_mizo.apply(lambda x: \"<SOS> \" + str(x) + \" <EOS>\")\n",
        "mizo = mizo.apply(lambda x: \"<SOS> \" + str(x) + \" <EOS>\")\n",
        "eng_mizo_tokenizer = tf.keras.preprocessing.text.Tokenizer(filters=filters, oov_token=oov_token)\n",
        "mizo_tokenizer = tf.keras.preprocessing.text.Tokenizer(filters=filters, oov_token=oov_token)\n",
        "eng_mizo_tokenizer.fit_on_texts(eng_mizo)\n",
        "mizo_tokenizer.fit_on_texts(mizo)\n",
        "inputs_mizo = eng_mizo_tokenizer.texts_to_sequences(eng_mizo)\n",
        "targets_mizo = mizo_tokenizer.texts_to_sequences(mizo)\n",
        "\n",
        "# Print tokenizers for Mizo\n",
        "print(eng_mizo_tokenizer)\n",
        "print(mizo_tokenizer)\n",
        "\n",
        "# Preprocess Assamese dataset\n",
        "eng_assamese = eng_assamese.apply(lambda x: \"<SOS> \" + str(x) + \" <EOS>\")\n",
        "assamese = assamese.apply(lambda x: \"<SOS> \" + str(x) + \" <EOS>\")\n",
        "eng_assamese_tokenizer = tf.keras.preprocessing.text.Tokenizer(filters=filters, oov_token=oov_token)\n",
        "assamese_tokenizer = tf.keras.preprocessing.text.Tokenizer(filters=filters, oov_token=oov_token)\n",
        "eng_assamese_tokenizer.fit_on_texts(eng_assamese)\n",
        "assamese_tokenizer.fit_on_texts(assamese)\n",
        "inputs_assamese = eng_assamese_tokenizer.texts_to_sequences(eng_assamese)\n",
        "targets_assamese = assamese_tokenizer.texts_to_sequences(assamese)\n",
        "\n",
        "# Print tokenizers for Assamese\n",
        "print(eng_assamese_tokenizer)\n",
        "print(assamese_tokenizer)\n"
      ],
      "metadata": {
        "colab": {
          "base_uri": "https://localhost:8080/"
        },
        "id": "8JaJcZZULRyB",
        "outputId": "322f454c-6c48-4e9e-a6e2-7647d570e7fa"
      },
      "execution_count": null,
      "outputs": [
        {
          "output_type": "stream",
          "name": "stdout",
          "text": [
            "<keras.src.preprocessing.text.Tokenizer object at 0x7967e8fa1e40>\n",
            "<keras.src.preprocessing.text.Tokenizer object at 0x7967e8fa3b50>\n",
            "<keras.src.preprocessing.text.Tokenizer object at 0x7967e8fa2770>\n",
            "<keras.src.preprocessing.text.Tokenizer object at 0x7967e8f9a080>\n",
            "<keras.src.preprocessing.text.Tokenizer object at 0x7967e9c0f7f0>\n",
            "<keras.src.preprocessing.text.Tokenizer object at 0x7967e9c0f970>\n",
            "<keras.src.preprocessing.text.Tokenizer object at 0x7967e8f9a260>\n",
            "<keras.src.preprocessing.text.Tokenizer object at 0x7967e8f99d80>\n"
          ]
        }
      ]
    },
    {
      "cell_type": "code",
      "source": [
        "from tensorflow.keras.preprocessing.text import Tokenizer\n",
        "\n",
        "# Collect all English texts from the different datasets\n",
        "all_eng_texts = pd.concat([eng_b, eng_n, eng_khasi, eng_manipuri, eng_mizo, eng_assamese], ignore_index=True)\n",
        "\n",
        "# Create a new tokenizer and fit it on the combined English texts\n",
        "merged_eng_tokenizer = Tokenizer(filters=filters, oov_token=oov_token)\n",
        "merged_eng_tokenizer.fit_on_texts(all_eng_texts)\n",
        "\n",
        "# Print the merged English tokenizer\n",
        "print(merged_eng_tokenizer)\n",
        "\n",
        "# Optionally, save the tokenizer if needed\n",
        "import pickle\n",
        "with open('merged_eng_tokenizer.pkl', 'wb') as f:\n",
        "    pickle.dump(merged_eng_tokenizer, f)\n"
      ],
      "metadata": {
        "colab": {
          "base_uri": "https://localhost:8080/"
        },
        "id": "oTatkrgVLTa4",
        "outputId": "39da4003-b43b-47e4-e28c-ca3223ada763"
      },
      "execution_count": null,
      "outputs": [
        {
          "output_type": "stream",
          "name": "stdout",
          "text": [
            "<keras.src.preprocessing.text.Tokenizer object at 0x7967e9c0eda0>\n"
          ]
        }
      ]
    },
    {
      "cell_type": "code",
      "source": [
        "ENCODER_VOCAB = len(merged_eng_tokenizer.word_index) + 1\n",
        "DECODER_B_VOCAB = len(brx_tokenizer.word_index) + 1\n",
        "print(ENCODER_VOCAB, DECODER_B_VOCAB)"
      ],
      "metadata": {
        "colab": {
          "base_uri": "https://localhost:8080/"
        },
        "id": "N1reyWRNLVvd",
        "outputId": "e2b9d548-aa4c-47f1-81d8-85966b894438"
      },
      "execution_count": null,
      "outputs": [
        {
          "output_type": "stream",
          "name": "stdout",
          "text": [
            "130870 200240\n"
          ]
        }
      ]
    },
    {
      "cell_type": "code",
      "source": [
        "\n",
        "DECODER_A_VOCAB = len(assamese_tokenizer.word_index) + 1\n",
        "DECODER_B_VOCAB = len(brx_tokenizer.word_index) + 1\n",
        "DECODER_N_VOCAB = len(npi_tokenizer.word_index) + 1\n",
        "DECODER_K_VOCAB = len(khasi_tokenizer.word_index) + 1\n",
        "DECODER_MI_VOCAB = len(mizo_tokenizer.word_index) + 1\n",
        "DECODER_MA_VOCAB = len(manipuri_tokenizer.word_index) + 1\n"
      ],
      "metadata": {
        "id": "c9TFtzGyLWUl"
      },
      "execution_count": null,
      "outputs": []
    },
    {
      "cell_type": "code",
      "source": [
        "\n",
        "# Calculate max lengths among sequences\n",
        "max_length_bodo_encoder = max(len(seq) for seq in inputs_bodo)\n",
        "max_length_bodo_decoder = max(len(seq) for seq in targets_bodo)\n",
        "\n",
        "\n",
        "# Calculate max lengths among sequences\n",
        "max_length_nepali_encoder = max(len(seq) for seq in inputs_nepali)\n",
        "max_length_nepali_decoder = max(len(seq) for seq in targets_nepali)\n"
      ],
      "metadata": {
        "id": "QwNEaTvgLdd6"
      },
      "execution_count": null,
      "outputs": []
    },
    {
      "cell_type": "code",
      "source": [
        "# Calculate max lengths among sequences for all languages\n",
        "\n",
        "# Bodo\n",
        "max_length_bodo_encoder = max(len(seq) for seq in inputs_bodo)\n",
        "\n",
        "# Nepali\n",
        "max_length_nepali_encoder = max(len(seq) for seq in inputs_nepali)\n",
        "\n",
        "# Khasi\n",
        "max_length_khasi_encoder = max(len(seq) for seq in inputs_khasi)\n",
        "\n",
        "# Manipuri\n",
        "max_length_manipuri_encoder = max(len(seq) for seq in inputs_manipuri)\n",
        "\n",
        "# Mizo\n",
        "max_length_mizo_encoder = max(len(seq) for seq in inputs_mizo)\n",
        "\n",
        "# Assamese\n",
        "max_length_assamese_encoder = max(len(seq) for seq in inputs_assamese)\n",
        "\n",
        "# Find the overall maximum length for the shared encoder\n",
        "max_length_encoder = max(\n",
        "    max_length_bodo_encoder,\n",
        "    max_length_nepali_encoder,\n",
        "    max_length_khasi_encoder,\n",
        "    max_length_manipuri_encoder,\n",
        "    max_length_mizo_encoder,\n",
        "    max_length_assamese_encoder\n",
        ")\n",
        "\n",
        "# Print maximum lengths for the shared encoder\n",
        "print(\"Max length for shared encoder:\", max_length_encoder)\n",
        "\n",
        "# Calculate max lengths among sequences for decoders\n",
        "# Bodo\n",
        "max_length_bodo_decoder = max(len(seq) for seq in targets_bodo)\n",
        "# Nepali\n",
        "max_length_nepali_decoder = max(len(seq) for seq in targets_nepali)\n",
        "# Khasi\n",
        "max_length_khasi_decoder = max(len(seq) for seq in targets_khasi)\n",
        "# Manipuri\n",
        "max_length_manipuri_decoder = max(len(seq) for seq in targets_manipuri)\n",
        "# Mizo\n",
        "max_length_mizo_decoder = max(len(seq) for seq in targets_mizo)\n",
        "# Assamese\n",
        "max_length_assamese_decoder = max(len(seq) for seq in targets_assamese)\n",
        "\n",
        "# Find the overall maximum length for the decoders\n",
        "max_length_decoder = max(\n",
        "    max_length_bodo_decoder,\n",
        "    max_length_nepali_decoder,\n",
        "    max_length_khasi_decoder,\n",
        "    max_length_manipuri_decoder,\n",
        "    max_length_mizo_decoder,\n",
        "    max_length_assamese_decoder\n",
        ")\n",
        "\n",
        "# Print maximum lengths for the decoders\n",
        "print(\"Max length for all decoders:\", max_length_decoder)\n"
      ],
      "metadata": {
        "colab": {
          "base_uri": "https://localhost:8080/"
        },
        "id": "q1juocrfLeiE",
        "outputId": "bec0b36d-5eaf-4dab-c382-3b414b2dac49"
      },
      "execution_count": null,
      "outputs": [
        {
          "output_type": "stream",
          "name": "stdout",
          "text": [
            "Max length for shared encoder: 1062\n",
            "Max length for all decoders: 1541\n"
          ]
        }
      ]
    },
    {
      "cell_type": "code",
      "source": [
        "import tensorflow as tf\n",
        "\n",
        "# Pad sequences to a common length for each language\n",
        "def pad_and_convert(inputs, targets, max_length_encoder, max_length_decoder):\n",
        "    inputs_padded = tf.keras.preprocessing.sequence.pad_sequences(\n",
        "        inputs, maxlen=max_length_encoder, padding='post', truncating='post'\n",
        "    )\n",
        "    targets_padded = tf.keras.preprocessing.sequence.pad_sequences(\n",
        "        targets, maxlen=max_length_decoder, padding='post', truncating='post'\n",
        "    )\n",
        "    inputs_tensor = tf.convert_to_tensor(inputs_padded)\n",
        "    targets_tensor = tf.convert_to_tensor(targets_padded)\n",
        "    return inputs_tensor, targets_tensor\n",
        "\n",
        "# Example for Nepali\n",
        "inputs_nepali, targets_nepali = pad_and_convert(inputs_nepali, targets_nepali, max_length_nepali_encoder, max_length_nepali_decoder)\n",
        "\n",
        "# Similarly, pad and convert for Bodo\n",
        "inputs_bodo, targets_bodo = pad_and_convert(inputs_bodo, targets_bodo, max_length_encoder, max_length_bodo_decoder)\n",
        "\n",
        "# Similarly, pad and convert for Khasi\n",
        "inputs_khasi, targets_khasi = pad_and_convert(inputs_khasi, targets_khasi, max_length_encoder, max_length_khasi_decoder)\n",
        "\n",
        "# Similarly, pad and convert for Manipuri\n",
        "inputs_manipuri, targets_manipuri = pad_and_convert(inputs_manipuri, targets_manipuri, max_length_encoder, max_length_manipuri_decoder)\n",
        "\n",
        "# Similarly, pad and convert for Mizo\n",
        "inputs_mizo, targets_mizo = pad_and_convert(inputs_mizo, targets_mizo, max_length_encoder, max_length_mizo_decoder)\n",
        "\n",
        "# Similarly, pad and convert for Assamese\n",
        "inputs_assamese, targets_assamese = pad_and_convert(inputs_assamese, targets_assamese, max_length_encoder, max_length_assamese_decoder)\n"
      ],
      "metadata": {
        "id": "YgCczICOLgA5"
      },
      "execution_count": null,
      "outputs": []
    },
    {
      "cell_type": "code",
      "source": [
        "print(inputs_bodo)\n",
        "print(targets_bodo)\n",
        "print(inputs_nepali)\n",
        "print(targets_nepali)\n",
        "print(\"Inputs Khasi:\", inputs_khasi)\n",
        "print(\"Targets Khasi:\", targets_khasi)\n",
        "print(\"Inputs Manipuri:\", inputs_manipuri)\n",
        "print(\"Targets Manipuri:\", targets_manipuri)\n",
        "print(\"Inputs Mizo:\", inputs_mizo)\n",
        "print(\"Targets Mizo:\", targets_mizo)\n",
        "print(\"Inputs Assamese:\", inputs_assamese)\n",
        "print(\"Targets Assamese:\", targets_assamese)"
      ],
      "metadata": {
        "colab": {
          "base_uri": "https://localhost:8080/"
        },
        "id": "HFAEugA8Ls2c",
        "outputId": "0c8fdaf8-5cb5-40e9-b692-fc1a790bdb54"
      },
      "execution_count": null,
      "outputs": [
        {
          "output_type": "stream",
          "name": "stdout",
          "text": [
            "tf.Tensor(\n",
            "[[    3   206   765 ...     0     0     0]\n",
            " [    3   300   106 ...     0     0     0]\n",
            " [    3   619  2024 ...     0     0     0]\n",
            " ...\n",
            " [    3 65871  1844 ...     0     0     0]\n",
            " [    3 65872  1759 ...     0     0     0]\n",
            " [    3  5907 18842 ...     0     0     0]], shape=(116906, 1062), dtype=int32)\n",
            "tf.Tensor(\n",
            "[[     2    228   9381 ...      0      0      0]\n",
            " [     2      6    254 ...      0      0      0]\n",
            " [     2    943      7 ...      0      0      0]\n",
            " ...\n",
            " [     2 200234   3267 ...      0      0      0]\n",
            " [     2 200236   3056 ...      0      0      0]\n",
            " [     2  28110  75403 ...      0      0      0]], shape=(116906, 125), dtype=int32)\n",
            "tf.Tensor(\n",
            "[[   3   13 1438 ...    0    0    0]\n",
            " [   3   13 1438 ...    0    0    0]\n",
            " [   3 6682  179 ...    0    0    0]\n",
            " ...\n",
            " [   3 1671    2 ...    0    0    0]\n",
            " [   3 2092  672 ...    0    0    0]\n",
            " [   3 3071    2 ...    0    0    0]], shape=(151810, 500), dtype=int32)\n",
            "tf.Tensor(\n",
            "[[     2      1      1 ...      0      0      0]\n",
            " [     2      1      1 ...      0      0      0]\n",
            " [     2      1      1 ...      0      0      0]\n",
            " ...\n",
            " [     2      1  72094 ...      0      0      0]\n",
            " [     2      1  42063 ...      0      0      0]\n",
            " [     2 199597      1 ...      0      0      0]], shape=(151810, 416), dtype=int32)\n",
            "Inputs Khasi: tf.Tensor(\n",
            "[[   5    3   94 ...    0    0    0]\n",
            " [   5   13   35 ...    0    0    0]\n",
            " [   5   33  113 ...    0    0    0]\n",
            " ...\n",
            " [   5    3 1575 ...    0    0    0]\n",
            " [   5    3   66 ...    0    0    0]\n",
            " [   5   91   15 ...    0    0    0]], shape=(26000, 1062), dtype=int32)\n",
            "Targets Khasi: tf.Tensor(\n",
            "[[  8 314 121 ...   0   0   0]\n",
            " [  8  13  44 ...   0   0   0]\n",
            " [  8  34   3 ...   0   0   0]\n",
            " ...\n",
            " [  8 135   2 ...   0   0   0]\n",
            " [  8  30   6 ...   0   0   0]\n",
            " [  8   7  42 ...   0   0   0]], shape=(26000, 1541), dtype=int32)\n",
            "Inputs Manipuri: tf.Tensor(\n",
            "[[    3 13991  2085 ...     0     0     0]\n",
            " [    3   186   538 ...     0     0     0]\n",
            " [    3   822 19778 ...     0     0     0]\n",
            " ...\n",
            " [    3    91 12983 ...     0     0     0]\n",
            " [    3  4042  8211 ...     0     0     0]\n",
            " [    3    15    37 ...     0     0     0]], shape=(60135, 1062), dtype=int32)\n",
            "Targets Manipuri: tf.Tensor(\n",
            "[[    2   889 14707 ...     0     0     0]\n",
            " [    2  1496   446 ...     0     0     0]\n",
            " [    2 10693 18331 ...     0     0     0]\n",
            " ...\n",
            " [    2 32718   766 ...     0     0     0]\n",
            " [    2 33156 16961 ...     0     0     0]\n",
            " [    2    62  2501 ...     0     0     0]], shape=(60135, 77), dtype=int32)\n",
            "Inputs Mizo: tf.Tensor(\n",
            "[[   3   79   16 ...    0    0    0]\n",
            " [   3    7 1348 ...    0    0    0]\n",
            " [   3  141  171 ...    0    0    0]\n",
            " ...\n",
            " [   3   13  385 ...    0    0    0]\n",
            " [   3  118   67 ...    0    0    0]\n",
            " [   3   44  386 ...    0    0    0]], shape=(53485, 1062), dtype=int32)\n",
            "Targets Mizo: tf.Tensor(\n",
            "[[   3  289    2 ...    0    0    0]\n",
            " [   3    2  454 ...    0    0    0]\n",
            " [   3  163   35 ...    0    0    0]\n",
            " ...\n",
            " [   3  338   47 ...    0    0    0]\n",
            " [   3  571 2086 ...    0    0    0]\n",
            " [   3 4594    2 ...    0    0    0]], shape=(53485, 195), dtype=int32)\n",
            "Inputs Assamese: tf.Tensor(\n",
            "[[   2 6549   83 ...    0    0    0]\n",
            " [   2 1618   24 ...    0    0    0]\n",
            " [   2  299  280 ...    0    0    0]\n",
            " ...\n",
            " [   2   28   17 ...    0    0    0]\n",
            " [   2   25   37 ...    0    0    0]\n",
            " [   2   33 1571 ...    0    0    0]], shape=(141233, 1062), dtype=int32)\n",
            "Targets Assamese: tf.Tensor(\n",
            "[[    2  5590  1615 ...     0     0     0]\n",
            " [    2  2060  2224 ...     0     0     0]\n",
            " [    2  1426  1512 ...     0     0     0]\n",
            " ...\n",
            " [    2    90    31 ...     0     0     0]\n",
            " [    2  3535  5905 ...     0     0     0]\n",
            " [    2 90706     7 ...     0     0     0]], shape=(141233, 1300), dtype=int32)\n"
          ]
        }
      ]
    },
    {
      "cell_type": "code",
      "source": [
        "# Create a dataset for English to Bodo\n",
        "bodo_dataset = tf.data.Dataset.from_tensor_slices((inputs_bodo, targets_bodo, np.ones_like(inputs_bodo))).shuffle(BUFFER_SIZE).batch(BATCH_SIZE)\n",
        "\n",
        "# Create a dataset for English to Nepali\n",
        "nepali_dataset = tf.data.Dataset.from_tensor_slices((inputs_nepali, targets_nepali, np.ones_like(inputs_nepali) * 2)).shuffle(BUFFER_SIZE).batch(BATCH_SIZE)\n",
        "\n",
        "# Create a dataset for English to Khasi\n",
        "khasi_dataset = tf.data.Dataset.from_tensor_slices((inputs_khasi, targets_khasi, np.ones_like(inputs_khasi) * 3)).shuffle(BUFFER_SIZE).batch(BATCH_SIZE)\n",
        "\n",
        "# Create a dataset for English to Manipuri\n",
        "manipuri_dataset = tf.data.Dataset.from_tensor_slices((inputs_manipuri, targets_manipuri, np.ones_like(inputs_manipuri) * 4)).shuffle(BUFFER_SIZE).batch(BATCH_SIZE)\n",
        "\n",
        "# Create a dataset for English to Mizo\n",
        "mizo_dataset = tf.data.Dataset.from_tensor_slices((inputs_mizo, targets_mizo, np.ones_like(inputs_mizo) * 5)).shuffle(BUFFER_SIZE).batch(BATCH_SIZE)\n",
        "\n",
        "# Create a dataset for English to Assamese\n",
        "assamese_dataset = tf.data.Dataset.from_tensor_slices((inputs_assamese, targets_assamese, np.ones_like(inputs_assamese) * 6)).shuffle(BUFFER_SIZE).batch(BATCH_SIZE)"
      ],
      "metadata": {
        "id": "9L0ONF74LxYQ"
      },
      "execution_count": null,
      "outputs": []
    },
    {
      "cell_type": "code",
      "source": [
        "def get_angles(position, i, d_model, lang_id):\n",
        "    angle_rates = 1 / np.power(10000, (2 * (i // 2)) / np.float32(d_model))\n",
        "    return position * angle_rates + lang_id\n",
        "\n",
        "def positional_encoding(position, d_model, lang_id):\n",
        "    angle_rads = get_angles(\n",
        "        np.arange(position)[:, np.newaxis],\n",
        "        np.arange(d_model)[np.newaxis, :],\n",
        "        d_model,\n",
        "        lang_id\n",
        "    )\n",
        "\n",
        "    angle_rads[:, 0::2] = np.sin(angle_rads[:, 0::2])\n",
        "    angle_rads[:, 1::2] = np.cos(angle_rads[:, 1::2])\n",
        "\n",
        "    pos_encoding = angle_rads[np.newaxis, ...]\n",
        "\n",
        "    return tf.cast(pos_encoding, dtype=tf.float32)\n",
        "\n",
        "\n",
        "\n",
        "def create_padding_mask(seq):\n",
        "    seq = tf.cast(tf.math.equal(seq, 0), tf.float32)\n",
        "    return seq[:, tf.newaxis, tf.newaxis, :]\n",
        "\n",
        "def create_look_ahead_mask(size):\n",
        "    mask = 1 - tf.linalg.band_part(tf.ones((size, size)), -1, 0)\n",
        "    return mask\n",
        "\n",
        "def scaled_dot_product_attention(q, k, v, mask):\n",
        "    matmul_qk = tf.matmul(q, k, transpose_b=True)\n",
        "\n",
        "    dk = tf.cast(tf.shape(k)[-1], tf.float32)\n",
        "    scaled_attention_logits = matmul_qk / tf.math.sqrt(dk)\n",
        "\n",
        "    if mask is not None:\n",
        "        scaled_attention_logits += (mask * -1e9)\n",
        "\n",
        "    attention_weights = tf.nn.softmax(scaled_attention_logits, axis=-1)\n",
        "\n",
        "    output = tf.matmul(attention_weights, v)\n",
        "    return output, attention_weights\n"
      ],
      "metadata": {
        "id": "V5ZpS0c7L1zj"
      },
      "execution_count": null,
      "outputs": []
    },
    {
      "cell_type": "code",
      "source": [
        "class MultiHeadAttention(tf.keras.layers.Layer):\n",
        "    def __init__(self, d_model, num_heads):\n",
        "        super(MultiHeadAttention, self).__init__()\n",
        "        self.num_heads = num_heads\n",
        "        self.d_model = d_model\n",
        "\n",
        "        assert d_model % self.num_heads == 0\n",
        "\n",
        "        self.depth = d_model // self.num_heads\n",
        "\n",
        "        self.wq = tf.keras.layers.Dense(d_model)\n",
        "        self.wk = tf.keras.layers.Dense(d_model)\n",
        "        self.wv = tf.keras.layers.Dense(d_model)\n",
        "\n",
        "        self.dense = tf.keras.layers.Dense(d_model)\n",
        "\n",
        "    def split_heads(self, x, batch_size):\n",
        "        x = tf.reshape(x, (batch_size, -1, self.num_heads, self.depth))\n",
        "        return tf.transpose(x, perm=[0, 2, 1, 3])\n",
        "\n",
        "    def call(self, v, k, q, mask, lang_id):\n",
        "        batch_size = tf.shape(q)[0]\n",
        "\n",
        "        # Apply language-specific embeddings\n",
        "        q = tf.concat([q, tf.one_hot(lang_id, depth=2)], axis=-1)\n",
        "        k = tf.concat([k, tf.one_hot(lang_id, depth=2)], axis=-1)\n",
        "        v = tf.concat([v, tf.one_hot(lang_id, depth=2)], axis=-1)\n",
        "\n",
        "        q = self.wq(q)\n",
        "        k = self.wk(k)\n",
        "        v = self.wv(v)\n",
        "\n",
        "        q = self.split_heads(q, batch_size)\n",
        "        k = self.split_heads(k, batch_size)\n",
        "        v = self.split_heads(v, batch_size)\n",
        "\n",
        "        scaled_attention, attention_weights = scaled_dot_product_attention(\n",
        "            q, k, v, mask)\n",
        "\n",
        "        scaled_attention = tf.transpose(scaled_attention, perm=[0, 2, 1, 3])\n",
        "\n",
        "        concat_attention = tf.reshape(scaled_attention, (batch_size, -1, self.d_model))\n",
        "        output = self.dense(concat_attention)\n",
        "\n",
        "        return output, attention_weights\n",
        "\n",
        "def point_wise_feed_forward_network(d_model, dff):\n",
        "    return tf.keras.Sequential([\n",
        "        tf.keras.layers.Dense(dff, activation='relu'),\n",
        "        tf.keras.layers.Dense(d_model)\n",
        "    ])"
      ],
      "metadata": {
        "id": "RWsMdpw2L2-3"
      },
      "execution_count": null,
      "outputs": []
    },
    {
      "cell_type": "code",
      "source": [
        "class EncoderLayer(tf.keras.layers.Layer):\n",
        "    def __init__(self, d_model, num_heads, dff, rate=0.1):\n",
        "        super(EncoderLayer, self).__init__()\n",
        "\n",
        "        # Define multi-head attention layers for each language\n",
        "        self.mha = {\n",
        "            'bodo': MultiHeadAttention(d_model, num_heads),\n",
        "            'nepali': MultiHeadAttention(d_model, num_heads),\n",
        "            'khasi': MultiHeadAttention(d_model, num_heads),\n",
        "            'manipuri': MultiHeadAttention(d_model, num_heads),\n",
        "            'mizo': MultiHeadAttention(d_model, num_heads),\n",
        "            'assamese': MultiHeadAttention(d_model, num_heads)\n",
        "        }\n",
        "\n",
        "        # Define feed-forward networks for each language\n",
        "        self.ffn = {\n",
        "            'bodo': point_wise_feed_forward_network(d_model, dff),\n",
        "            'nepali': point_wise_feed_forward_network(d_model, dff),\n",
        "            'khasi': point_wise_feed_forward_network(d_model, dff),\n",
        "            'manipuri': point_wise_feed_forward_network(d_model, dff),\n",
        "            'mizo': point_wise_feed_forward_network(d_model, dff),\n",
        "            'assamese': point_wise_feed_forward_network(d_model, dff)\n",
        "        }\n",
        "\n",
        "        # Define layer normalization layers for each language\n",
        "        self.layernorm1 = {\n",
        "            'bodo': tf.keras.layers.LayerNormalization(epsilon=1e-6),\n",
        "            'nepali': tf.keras.layers.LayerNormalization(epsilon=1e-6),\n",
        "            'khasi': tf.keras.layers.LayerNormalization(epsilon=1e-6),\n",
        "            'manipuri': tf.keras.layers.LayerNormalization(epsilon=1e-6),\n",
        "            'mizo': tf.keras.layers.LayerNormalization(epsilon=1e-6),\n",
        "            'assamese': tf.keras.layers.LayerNormalization(epsilon=1e-6)\n",
        "        }\n",
        "        self.layernorm2 = {\n",
        "            'bodo': tf.keras.layers.LayerNormalization(epsilon=1e-6),\n",
        "            'nepali': tf.keras.layers.LayerNormalization(epsilon=1e-6),\n",
        "            'khasi': tf.keras.layers.LayerNormalization(epsilon=1e-6),\n",
        "            'manipuri': tf.keras.layers.LayerNormalization(epsilon=1e-6),\n",
        "            'mizo': tf.keras.layers.LayerNormalization(epsilon=1e-6),\n",
        "            'assamese': tf.keras.layers.LayerNormalization(epsilon=1e-6)\n",
        "        }\n",
        "\n",
        "        # Define dropout layers\n",
        "        self.dropout1 = tf.keras.layers.Dropout(rate)\n",
        "        self.dropout2 = tf.keras.layers.Dropout(rate)\n",
        "\n",
        "    def call(self, x, training, masks):\n",
        "        outputs = {}\n",
        "\n",
        "        # Process each language\n",
        "        for lang in ['bodo', 'nepali', 'khasi', 'manipuri', 'mizo', 'assamese']:\n",
        "            attn_output, _ = self.mha[lang](x[lang], x[lang], x[lang], masks[lang])\n",
        "            attn_output = self.dropout1(attn_output, training=training)\n",
        "            out1 = self.layernorm1[lang](x[lang] + attn_output)\n",
        "\n",
        "            ffn_output = self.ffn[lang](out1)\n",
        "            ffn_output = self.dropout2(ffn_output, training=training)\n",
        "            outputs[lang] = self.layernorm2[lang](out1 + ffn_output)\n",
        "\n",
        "        return outputs\n"
      ],
      "metadata": {
        "id": "jdJQNiZQL8dd"
      },
      "execution_count": null,
      "outputs": []
    },
    {
      "cell_type": "code",
      "source": [
        "import tensorflow as tf\n",
        "\n",
        "class DecoderLayer(tf.keras.layers.Layer):\n",
        "    def __init__(self, d_model, num_heads, dff, rate=0.1):\n",
        "        super(DecoderLayer, self).__init__()\n",
        "\n",
        "        # Define MultiHeadAttention and feed-forward networks for each language\n",
        "        self.mha1_bodo = MultiHeadAttention(d_model, num_heads)\n",
        "        self.mha2_bodo = MultiHeadAttention(d_model, num_heads)\n",
        "        self.ffn_bodo = point_wise_feed_forward_network(d_model, dff)\n",
        "\n",
        "        self.mha1_nepali = MultiHeadAttention(d_model, num_heads)\n",
        "        self.mha2_nepali = MultiHeadAttention(d_model, num_heads)\n",
        "        self.ffn_nepali = point_wise_feed_forward_network(d_model, dff)\n",
        "\n",
        "        self.mha1_khasi = MultiHeadAttention(d_model, num_heads)\n",
        "        self.mha2_khasi = MultiHeadAttention(d_model, num_heads)\n",
        "        self.ffn_khasi = point_wise_feed_forward_network(d_model, dff)\n",
        "\n",
        "        self.mha1_manipuri = MultiHeadAttention(d_model, num_heads)\n",
        "        self.mha2_manipuri = MultiHeadAttention(d_model, num_heads)\n",
        "        self.ffn_manipuri = point_wise_feed_forward_network(d_model, dff)\n",
        "\n",
        "        self.mha1_mizo = MultiHeadAttention(d_model, num_heads)\n",
        "        self.mha2_mizo = MultiHeadAttention(d_model, num_heads)\n",
        "        self.ffn_mizo = point_wise_feed_forward_network(d_model, dff)\n",
        "\n",
        "        self.mha1_assamese = MultiHeadAttention(d_model, num_heads)\n",
        "        self.mha2_assamese = MultiHeadAttention(d_model, num_heads)\n",
        "        self.ffn_assamese = point_wise_feed_forward_network(d_model, dff)\n",
        "\n",
        "        # Define LayerNormalization and Dropout layers for each language\n",
        "        self.layernorm1_bodo = tf.keras.layers.LayerNormalization(epsilon=1e-6)\n",
        "        self.layernorm2_bodo = tf.keras.layers.LayerNormalization(epsilon=1e-6)\n",
        "        self.layernorm3_bodo = tf.keras.layers.LayerNormalization(epsilon=1e-6)\n",
        "\n",
        "        self.layernorm1_nepali = tf.keras.layers.LayerNormalization(epsilon=1e-6)\n",
        "        self.layernorm2_nepali = tf.keras.layers.LayerNormalization(epsilon=1e-6)\n",
        "        self.layernorm3_nepali = tf.keras.layers.LayerNormalization(epsilon=1e-6)\n",
        "\n",
        "        self.layernorm1_khasi = tf.keras.layers.LayerNormalization(epsilon=1e-6)\n",
        "        self.layernorm2_khasi = tf.keras.layers.LayerNormalization(epsilon=1e-6)\n",
        "        self.layernorm3_khasi = tf.keras.layers.LayerNormalization(epsilon=1e-6)\n",
        "\n",
        "        self.layernorm1_manipuri = tf.keras.layers.LayerNormalization(epsilon=1e-6)\n",
        "        self.layernorm2_manipuri = tf.keras.layers.LayerNormalization(epsilon=1e-6)\n",
        "        self.layernorm3_manipuri = tf.keras.layers.LayerNormalization(epsilon=1e-6)\n",
        "\n",
        "        self.layernorm1_mizo = tf.keras.layers.LayerNormalization(epsilon=1e-6)\n",
        "        self.layernorm2_mizo = tf.keras.layers.LayerNormalization(epsilon=1e-6)\n",
        "        self.layernorm3_mizo = tf.keras.layers.LayerNormalization(epsilon=1e-6)\n",
        "\n",
        "        self.layernorm1_assamese = tf.keras.layers.LayerNormalization(epsilon=1e-6)\n",
        "        self.layernorm2_assamese = tf.keras.layers.LayerNormalization(epsilon=1e-6)\n",
        "        self.layernorm3_assamese = tf.keras.layers.LayerNormalization(epsilon=1e-6)\n",
        "\n",
        "        self.dropout1 = tf.keras.layers.Dropout(rate)\n",
        "        self.dropout2 = tf.keras.layers.Dropout(rate)\n",
        "        self.dropout3 = tf.keras.layers.Dropout(rate)\n",
        "\n",
        "    def call(self, x, enc_output, training, look_ahead_mask, padding_mask, language):\n",
        "        if language == 'bodo':\n",
        "            mha1 = self.mha1_bodo\n",
        "            mha2 = self.mha2_bodo\n",
        "            ffn = self.ffn_bodo\n",
        "            layernorm1 = self.layernorm1_bodo\n",
        "            layernorm2 = self.layernorm2_bodo\n",
        "            layernorm3 = self.layernorm3_bodo\n",
        "\n",
        "        elif language == 'nepali':\n",
        "            mha1 = self.mha1_nepali\n",
        "            mha2 = self.mha2_nepali\n",
        "            ffn = self.ffn_nepali\n",
        "            layernorm1 = self.layernorm1_nepali\n",
        "            layernorm2 = self.layernorm2_nepali\n",
        "            layernorm3 = self.layernorm3_nepali\n",
        "\n",
        "        elif language == 'khasi':\n",
        "            mha1 = self.mha1_khasi\n",
        "            mha2 = self.mha2_khasi\n",
        "            ffn = self.ffn_khasi\n",
        "            layernorm1 = self.layernorm1_khasi\n",
        "            layernorm2 = self.layernorm2_khasi\n",
        "            layernorm3 = self.layernorm3_khasi\n",
        "\n",
        "        elif language == 'manipuri':\n",
        "            mha1 = self.mha1_manipuri\n",
        "            mha2 = self.mha2_manipuri\n",
        "            ffn = self.ffn_manipuri\n",
        "            layernorm1 = self.layernorm1_manipuri\n",
        "            layernorm2 = self.layernorm2_manipuri\n",
        "            layernorm3 = self.layernorm3_manipuri\n",
        "\n",
        "        elif language == 'mizo':\n",
        "            mha1 = self.mha1_mizo\n",
        "            mha2 = self.mha2_mizo\n",
        "            ffn = self.ffn_mizo\n",
        "            layernorm1 = self.layernorm1_mizo\n",
        "            layernorm2 = self.layernorm2_mizo\n",
        "            layernorm3 = self.layernorm3_mizo\n",
        "\n",
        "        elif language == 'assamese':\n",
        "            mha1 = self.mha1_assamese\n",
        "            mha2 = self.mha2_assamese\n",
        "            ffn = self.ffn_assamese\n",
        "            layernorm1 = self.layernorm1_assamese\n",
        "            layernorm2 = self.layernorm2_assamese\n",
        "            layernorm3 = self.layernorm3_assamese\n",
        "\n",
        "        # Self-attention\n",
        "        attn1, attn_weights_block1 = mha1(x, x, x, look_ahead_mask)\n",
        "        attn1 = self.dropout1(attn1, training=training)\n",
        "        out1 = layernorm1(attn1 + x)\n",
        "\n",
        "        # Cross-attention\n",
        "        attn2, attn_weights_block2 = mha2(enc_output, enc_output, out1, padding_mask)\n",
        "        attn2 = self.dropout2(attn2, training=training)\n",
        "        out2 = layernorm2(attn2 + out1)\n",
        "\n",
        "        # Feed-forward network\n",
        "        ffn_output = ffn(out2)\n",
        "        ffn_output = self.dropout3(ffn_output, training=training)\n",
        "        out3 = layernorm3(ffn_output + out2)\n",
        "\n",
        "        return out3, attn_weights_block1, attn_weights_block2\n"
      ],
      "metadata": {
        "id": "d4faadK2MHEd"
      },
      "execution_count": null,
      "outputs": []
    },
    {
      "cell_type": "code",
      "source": [
        "import tensorflow as tf\n",
        "\n",
        "class SharedEncoder(tf.keras.layers.Layer):\n",
        "    def __init__(self, num_layers, d_model, num_heads, dff, input_english_vocab_size, maximum_position_encoding, rate=0.1):\n",
        "        super(Encoder, self).__init__()\n",
        "\n",
        "        self.d_model = d_model\n",
        "        self.num_layers = num_layers\n",
        "\n",
        "        self.embedding_english = tf.keras.layers.Embedding(input_english_vocab_size, d_model)\n",
        "        self.pos_encoding = positional_encoding(maximum_position_encoding, self.d_model)\n",
        "\n",
        "        self.enc_layers = [EncoderLayer(d_model, num_heads, dff, rate) for _ in range(num_layers)]\n",
        "        self.dropout = tf.keras.layers.Dropout(rate)\n",
        "\n",
        "    def call(self, x_english, training, mask_english):\n",
        "        seq_len_english = tf.shape(x_english)[1]\n",
        "\n",
        "        x_english = self.embedding_english(x_english)\n",
        "        x_english *= tf.math.sqrt(tf.cast(self.d_model, tf.float32))\n",
        "        x_english += self.pos_encoding[:, :seq_len_english, :]\n",
        "\n",
        "        x_english = self.dropout(x_english, training=training)\n",
        "\n",
        "        for i in range(self.num_layers):\n",
        "            x_english = self.enc_layers[i](x_english, training, mask_english)\n",
        "\n",
        "        return x_english\n"
      ],
      "metadata": {
        "id": "jmWrkGTAMJpZ"
      },
      "execution_count": null,
      "outputs": []
    },
    {
      "cell_type": "code",
      "source": [
        "class DecoderAssamese(tf.keras.layers.Layer):\n",
        "    def __init__(self, num_layers, d_model, num_heads, dff, target_assamese_vocab_size, maximum_position_encoding, rate=0.1):\n",
        "        super(DecoderAssamese, self).__init__()\n",
        "\n",
        "        self.d_model = d_model\n",
        "        self.num_layers = num_layers\n",
        "\n",
        "        self.embedding_assamese = tf.keras.layers.Embedding(target_assamese_vocab_size, d_model)\n",
        "        self.pos_encoding = positional_encoding(maximum_position_encoding, d_model)\n",
        "\n",
        "        self.dec_layers_assamese = [DecoderLayer(d_model, num_heads, dff, rate) for _ in range(num_layers)]\n",
        "\n",
        "        self.dropout = tf.keras.layers.Dropout(rate)\n",
        "\n",
        "    def call(self, x_assamese, enc_output_english, training, look_ahead_mask_assamese, padding_mask_assamese):\n",
        "        seq_len_assamese = tf.shape(x_assamese)[1]\n",
        "        attention_weights_assamese = {}\n",
        "\n",
        "        x_assamese = self.embedding_assamese(x_assamese)\n",
        "        x_assamese *= tf.math.sqrt(tf.cast(self.d_model, tf.float32))\n",
        "        x_assamese += self.pos_encoding[:, :seq_len_assamese, :]\n",
        "\n",
        "        x_assamese = self.dropout(x_assamese, training=training)\n",
        "\n",
        "        for i in range(self.num_layers):\n",
        "            x_assamese, block1_assamese, block2_assamese = self.dec_layers_assamese[i](x_assamese, enc_output_english, training, look_ahead_mask_assamese, padding_mask_assamese)\n",
        "\n",
        "            attention_weights_assamese[f'decoder_layer{i+1}_block1'] = block1_assamese\n",
        "            attention_weights_assamese[f'decoder_layer{i+1}_block2'] = block2_assamese\n",
        "\n",
        "        return x_assamese, attention_weights_assamese\n"
      ],
      "metadata": {
        "id": "ElvCyBEoMLGs"
      },
      "execution_count": null,
      "outputs": []
    },
    {
      "cell_type": "code",
      "source": [
        "class DecoderBodo(tf.keras.layers.Layer):\n",
        "    def __init__(self, num_layers, d_model, num_heads, dff, target_bodo_vocab_size, maximum_position_encoding, rate=0.1):\n",
        "        super(DecoderBodo, self).__init__()\n",
        "\n",
        "        self.d_model = d_model\n",
        "        self.num_layers = num_layers\n",
        "\n",
        "        self.embedding_bodo = tf.keras.layers.Embedding(target_bodo_vocab_size, d_model)\n",
        "        self.pos_encoding = positional_encoding(maximum_position_encoding, d_model)\n",
        "\n",
        "        self.dec_layers_bodo = [DecoderLayer(d_model, num_heads, dff, rate) for _ in range(num_layers)]\n",
        "\n",
        "        self.dropout = tf.keras.layers.Dropout(rate)\n",
        "\n",
        "    def call(self, x_bodo, enc_output_english, training, look_ahead_mask_bodo, padding_mask_bodo):\n",
        "        seq_len_bodo = tf.shape(x_bodo)[1]\n",
        "        attention_weights_bodo = {}\n",
        "\n",
        "        x_bodo = self.embedding_bodo(x_bodo)\n",
        "        x_bodo *= tf.math.sqrt(tf.cast(self.d_model, tf.float32))\n",
        "        x_bodo += self.pos_encoding[:, :seq_len_bodo, :]\n",
        "\n",
        "        x_bodo = self.dropout(x_bodo, training=training)\n",
        "\n",
        "        for i in range(self.num_layers):\n",
        "            x_bodo, block1_bodo, block2_bodo = self.dec_layers_bodo[i](x_bodo, enc_output_english, training, look_ahead_mask_bodo, padding_mask_bodo)\n",
        "\n",
        "            attention_weights_bodo[f'decoder_layer{i+1}_block1'] = block1_bodo\n",
        "            attention_weights_bodo[f'decoder_layer{i+1}_block2'] = block2_bodo\n",
        "\n",
        "        return x_bodo, attention_weights_bodo\n"
      ],
      "metadata": {
        "id": "uACoDOc0MMcA"
      },
      "execution_count": null,
      "outputs": []
    },
    {
      "cell_type": "code",
      "source": [
        "class DecoderKhasi(tf.keras.layers.Layer):\n",
        "    def __init__(self, num_layers, d_model, num_heads, dff, target_khasi_vocab_size, maximum_position_encoding, rate=0.1):\n",
        "        super(DecoderKhasi, self).__init__()\n",
        "\n",
        "        self.d_model = d_model\n",
        "        self.num_layers = num_layers\n",
        "\n",
        "        self.embedding_khasi = tf.keras.layers.Embedding(target_khasi_vocab_size, d_model)\n",
        "        self.pos_encoding = positional_encoding(maximum_position_encoding, d_model)\n",
        "\n",
        "        self.dec_layers_khasi = [DecoderLayer(d_model, num_heads, dff, rate) for _ in range(num_layers)]\n",
        "\n",
        "        self.dropout = tf.keras.layers.Dropout(rate)\n",
        "\n",
        "    def call(self, x_khasi, enc_output_english, training, look_ahead_mask_khasi, padding_mask_khasi):\n",
        "        seq_len_khasi = tf.shape(x_khasi)[1]\n",
        "        attention_weights_khasi = {}\n",
        "\n",
        "        x_khasi = self.embedding_khasi(x_khasi)\n",
        "        x_khasi *= tf.math.sqrt(tf.cast(self.d_model, tf.float32))\n",
        "        x_khasi += self.pos_encoding[:, :seq_len_khasi, :]\n",
        "\n",
        "        x_khasi = self.dropout(x_khasi, training=training)\n",
        "\n",
        "        for i in range(self.num_layers):\n",
        "            x_khasi, block1_khasi, block2_khasi = self.dec_layers_khasi[i](x_khasi, enc_output_english, training, look_ahead_mask_khasi, padding_mask_khasi)\n",
        "\n",
        "            attention_weights_khasi[f'decoder_layer{i+1}_block1'] = block1_khasi\n",
        "            attention_weights_khasi[f'decoder_layer{i+1}_block2'] = block2_khasi\n",
        "\n",
        "        return x_khasi, attention_weights_khasi\n"
      ],
      "metadata": {
        "id": "Q8fYOAwlMN45"
      },
      "execution_count": null,
      "outputs": []
    },
    {
      "cell_type": "code",
      "source": [
        "class DecoderManipuri(tf.keras.layers.Layer):\n",
        "    def __init__(self, num_layers, d_model, num_heads, dff, target_manipuri_vocab_size, maximum_position_encoding, rate=0.1):\n",
        "        super(DecoderManipuri, self).__init__()\n",
        "\n",
        "        self.d_model = d_model\n",
        "        self.num_layers = num_layers\n",
        "\n",
        "        self.embedding_manipuri = tf.keras.layers.Embedding(target_manipuri_vocab_size, d_model)\n",
        "        self.pos_encoding = positional_encoding(maximum_position_encoding, d_model)\n",
        "\n",
        "        self.dec_layers_manipuri = [DecoderLayer(d_model, num_heads, dff, rate) for _ in range(num_layers)]\n",
        "\n",
        "        self.dropout = tf.keras.layers.Dropout(rate)\n",
        "\n",
        "    def call(self, x_manipuri, enc_output_english, training, look_ahead_mask_manipuri, padding_mask_manipuri):\n",
        "        seq_len_manipuri = tf.shape(x_manipuri)[1]\n",
        "        attention_weights_manipuri = {}\n",
        "\n",
        "        x_manipuri = self.embedding_manipuri(x_manipuri)\n",
        "        x_manipuri *= tf.math.sqrt(tf.cast(self.d_model, tf.float32))\n",
        "        x_manipuri += self.pos_encoding[:, :seq_len_manipuri, :]\n",
        "\n",
        "        x_manipuri = self.dropout(x_manipuri, training=training)\n",
        "\n",
        "        for i in range(self.num_layers):\n",
        "            x_manipuri, block1_manipuri, block2_manipuri = self.dec_layers_manipuri[i](x_manipuri, enc_output_english, training, look_ahead_mask_manipuri, padding_mask_manipuri)\n",
        "\n",
        "            attention_weights_manipuri[f'decoder_layer{i+1}_block1'] = block1_manipuri\n",
        "            attention_weights_manipuri[f'decoder_layer{i+1}_block2'] = block2_manipuri\n",
        "\n",
        "        return x_manipuri, attention_weights_manipuri\n"
      ],
      "metadata": {
        "id": "2MH6N0YhMPG-"
      },
      "execution_count": null,
      "outputs": []
    },
    {
      "cell_type": "code",
      "source": [
        "class DecoderMizo(tf.keras.layers.Layer):\n",
        "    def __init__(self, num_layers, d_model, num_heads, dff, target_mizo_vocab_size, maximum_position_encoding, rate=0.1):\n",
        "        super(DecoderMizo, self).__init__()\n",
        "\n",
        "        self.d_model = d_model\n",
        "        self.num_layers = num_layers\n",
        "\n",
        "        self.embedding_mizo = tf.keras.layers.Embedding(target_mizo_vocab_size, d_model)\n",
        "        self.pos_encoding = positional_encoding(maximum_position_encoding, d_model)\n",
        "\n",
        "        self.dec_layers_mizo = [DecoderLayer(d_model, num_heads, dff, rate) for _ in range(num_layers)]\n",
        "\n",
        "        self.dropout = tf.keras.layers.Dropout(rate)\n",
        "\n",
        "    def call(self, x_mizo, enc_output_english, training, look_ahead_mask_mizo, padding_mask_mizo):\n",
        "        seq_len_mizo = tf.shape(x_mizo)[1]\n",
        "        attention_weights_mizo = {}\n",
        "\n",
        "        x_mizo = self.embedding_mizo(x_mizo)\n",
        "        x_mizo *= tf.math.sqrt(tf.cast(self.d_model, tf.float32))\n",
        "        x_mizo += self.pos_encoding[:, :seq_len_mizo, :]\n",
        "\n",
        "        x_mizo = self.dropout(x_mizo, training=training)\n",
        "\n",
        "        for i in range(self.num_layers):\n",
        "            x_mizo, block1_mizo, block2_mizo = self.dec_layers_mizo[i](x_mizo, enc_output_english, training, look_ahead_mask_mizo, padding_mask_mizo)\n",
        "\n",
        "            attention_weights_mizo[f'decoder_layer{i+1}_block1'] = block1_mizo\n",
        "            attention_weights_mizo[f'decoder_layer{i+1}_block2'] = block2_mizo\n",
        "\n",
        "        return x_mizo, attention_weights\n"
      ],
      "metadata": {
        "id": "rli5v9trMQvi"
      },
      "execution_count": null,
      "outputs": []
    },
    {
      "cell_type": "code",
      "source": [
        "class DecoderNepali(tf.keras.layers.Layer):\n",
        "    def __init__(self, num_layers, d_model, num_heads, dff, target_nepali_vocab_size, maximum_position_encoding, rate=0.1):\n",
        "        super(DecoderNepali, self).__init__()\n",
        "\n",
        "        self.d_model = d_model\n",
        "        self.num_layers = num_layers\n",
        "\n",
        "        self.embedding_nepali = tf.keras.layers.Embedding(target_nepali_vocab_size, d_model)\n",
        "        self.pos_encoding = positional_encoding(maximum_position_encoding, d_model)\n",
        "\n",
        "        self.dec_layers_nepali = [DecoderLayer(d_model, num_heads, dff, rate) for _ in range(num_layers)]\n",
        "\n",
        "        self.dropout = tf.keras.layers.Dropout(rate)\n",
        "\n",
        "    def call(self, x_nepali, enc_output_english, training, look_ahead_mask_nepali, padding_mask_nepali):\n",
        "        seq_len_nepali = tf.shape(x_nepali)[1]\n",
        "        attention_weights_nepali = {}\n",
        "\n",
        "        x_nepali = self.embedding_nepali(x_nepali)\n",
        "        x_nepali *= tf.math.sqrt(tf.cast(self.d_model, tf.float32))\n",
        "        x_nepali += self.pos_encoding[:, :seq_len_nepali, :]\n",
        "\n",
        "        x_nepali = self.dropout(x_nepali, training=training)\n",
        "\n",
        "        for i in range(self.num_layers):\n",
        "            x_nepali, block1_nepali, block2_nepali = self.dec_layers_nepali[i](x_nepali, enc_output_english, training, look_ahead_mask_nepali, padding_mask_nepali)\n",
        "\n",
        "            attention_weights_nepali[f'decoder_layer{i+1}_block1'] = block1_nepali\n",
        "            attention_weights_nepali[f'decoder_layer{i+1}_block2'] = block2_nepali\n",
        "\n",
        "        return x_nepali, attention_weights_nepali\n"
      ],
      "metadata": {
        "id": "ehdoc6uFMSIf"
      },
      "execution_count": null,
      "outputs": []
    },
    {
      "cell_type": "code",
      "source": [
        "import tensorflow as tf\n",
        "\n",
        "class MultiTransformer(tf.keras.Model):\n",
        "    def __init__(self, num_layers, d_model, num_heads, dff, input_vocab_sizes, target_vocab_sizes, pe_input, pe_target, rate=0.1):\n",
        "        super(MultiTransformer, self).__init__()\n",
        "\n",
        "        # Define language IDs\n",
        "        lang_ids = {\n",
        "            'bodo': 1,\n",
        "            'nepali': 2,\n",
        "            'khasi': 3,\n",
        "            'manipuri': 4,\n",
        "            'mizo': 5,\n",
        "            'assamese': 6\n",
        "        }\n",
        "\n",
        "        # Embeddings\n",
        "        self.embedding = {\n",
        "            'bodo': tf.keras.layers.Embedding(input_vocab_sizes['bodo'], d_model),\n",
        "            'nepali': tf.keras.layers.Embedding(input_vocab_sizes['nepali'], d_model),\n",
        "            'khasi': tf.keras.layers.Embedding(input_vocab_sizes['khasi'], d_model),\n",
        "            'manipuri': tf.keras.layers.Embedding(input_vocab_sizes['manipuri'], d_model),\n",
        "            'mizo': tf.keras.layers.Embedding(input_vocab_sizes['mizo'], d_model),\n",
        "            'assamese': tf.keras.layers.Embedding(input_vocab_sizes['assamese'], d_model)\n",
        "        }\n",
        "\n",
        "        # Positional Encodings\n",
        "        self.pos_encoding = {\n",
        "            'bodo': positional_encoding(pe_input, d_model, lang_ids['bodo']),\n",
        "            'nepali': positional_encoding(pe_input, d_model, lang_ids['nepali']),\n",
        "            'khasi': positional_encoding(pe_input, d_model, lang_ids['khasi']),\n",
        "            'manipuri': positional_encoding(pe_input, d_model, lang_ids['manipuri']),\n",
        "            'mizo': positional_encoding(pe_input, d_model, lang_ids['mizo']),\n",
        "            'assamese': positional_encoding(pe_input, d_model, lang_ids['assamese'])\n",
        "        }\n",
        "\n",
        "        # Encoder and Decoder Layers\n",
        "        self.enc_layers = {\n",
        "            'bodo': [EncoderLayer(d_model, num_heads, dff, rate) for _ in range(num_layers)],\n",
        "            'nepali': [EncoderLayer(d_model, num_heads, dff, rate) for _ in range(num_layers)],\n",
        "            'khasi': [EncoderLayer(d_model, num_heads, dff, rate) for _ in range(num_layers)],\n",
        "            'manipuri': [EncoderLayer(d_model, num_heads, dff, rate) for _ in range(num_layers)],\n",
        "            'mizo': [EncoderLayer(d_model, num_heads, dff, rate) for _ in range(num_layers)],\n",
        "            'assamese': [EncoderLayer(d_model, num_heads, dff, rate) for _ in range(num_layers)]\n",
        "        }\n",
        "\n",
        "        self.dec_layers = {\n",
        "            'bodo': [DecoderLayer(d_model, num_heads, dff, rate) for _ in range(num_layers)],\n",
        "            'nepali': [DecoderLayer(d_model, num_heads, dff, rate) for _ in range(num_layers)],\n",
        "            'khasi': [DecoderLayer(d_model, num_heads, dff, rate) for _ in range(num_layers)],\n",
        "            'manipuri': [DecoderLayer(d_model, num_heads, dff, rate) for _ in range(num_layers)],\n",
        "            'mizo': [DecoderLayer(d_model, num_heads, dff, rate) for _ in range(num_layers)],\n",
        "            'assamese': [DecoderLayer(d_model, num_heads, dff, rate) for _ in range(num_layers)]\n",
        "        }\n",
        "\n",
        "        # Final Dense Layers\n",
        "        self.final_layers = {\n",
        "            'bodo': tf.keras.layers.Dense(target_vocab_sizes['bodo']),\n",
        "            'nepali': tf.keras.layers.Dense(target_vocab_sizes['nepali']),\n",
        "            'khasi': tf.keras.layers.Dense(target_vocab_sizes['khasi']),\n",
        "            'manipuri': tf.keras.layers.Dense(target_vocab_sizes['manipuri']),\n",
        "            'mizo': tf.keras.layers.Dense(target_vocab_sizes['mizo']),\n",
        "            'assamese': tf.keras.layers.Dense(target_vocab_sizes['assamese'])\n",
        "        }\n",
        "\n",
        "    def call(self, inputs, targets, training, masks):\n",
        "        enc_outputs = {}\n",
        "        for lang in ['bodo', 'nepali', 'khasi', 'manipuri', 'mizo', 'assamese']:\n",
        "            enc_inputs = inputs[lang]\n",
        "            enc_outputs[lang] = self.encoder(enc_inputs, lang, training, masks[lang]['enc_padding_mask'])\n",
        "\n",
        "        dec_outputs = {}\n",
        "        for lang in ['bodo', 'nepali', 'khasi', 'manipuri', 'mizo', 'assamese']:\n",
        "            dec_targets = targets[lang]\n",
        "            dec_outputs[lang] = self.decoder(dec_targets, enc_outputs, lang, training, masks[lang]['look_ahead_mask'], masks[lang]['dec_padding_mask'])\n",
        "\n",
        "        final_outputs = {}\n",
        "        for lang in ['bodo', 'nepali', 'khasi', 'manipuri', 'mizo', 'assamese']:\n",
        "            final_outputs[lang] = self.final_layers[lang](dec_outputs[lang])\n",
        "\n",
        "        return final_outputs\n",
        "\n",
        "    def encoder(self, inputs, lang, training, enc_padding_mask):\n",
        "        x = self.embedding[lang](inputs)\n",
        "        x += self.pos_encoding[lang]\n",
        "        for layer in self.enc_layers[lang]:\n",
        "            x = layer(x, training, enc_padding_mask)\n",
        "        return x\n",
        "\n",
        "    def decoder(self, targets, enc_outputs, lang, training, look_ahead_mask, dec_padding_mask):\n",
        "        x = self.embedding[lang](targets)\n",
        "        x += self.pos_encoding[lang]\n",
        "        for layer in self.dec_layers[lang]:\n",
        "            x = layer(x, enc_outputs[lang], training, look_ahead_mask, dec_padding_mask)\n",
        "        return x\n"
      ],
      "metadata": {
        "id": "68eEcgvRMTr9"
      },
      "execution_count": null,
      "outputs": []
    },
    {
      "cell_type": "code",
      "source": [
        "import tensorflow as tf\n",
        "\n",
        "class MultiTransformer(tf.keras.Model):\n",
        "    def __init__(self, num_layers, d_model, num_heads, dff, input_vocab_size_english, target_vocab_sizes, pe_input, pe_target, rate=0.1):\n",
        "        super(MultiTransformer, self).__init__()\n",
        "\n",
        "        # Embedding for English (source language) and target languages\n",
        "        self.embedding_english = tf.keras.layers.Embedding(input_vocab_size_english, d_model)\n",
        "        self.embedding_targets = {\n",
        "            'assamese': tf.keras.layers.Embedding(target_vocab_sizes['assamese'], d_model),\n",
        "            'bodo': tf.keras.layers.Embedding(target_vocab_sizes['bodo'], d_model),\n",
        "            'khasi': tf.keras.layers.Embedding(target_vocab_sizes['khasi'], d_model),\n",
        "            'manipuri': tf.keras.layers.Embedding(target_vocab_sizes['manipuri'], d_model),\n",
        "            'mizo': tf.keras.layers.Embedding(target_vocab_sizes['mizo'], d_model),\n",
        "            'nepali': tf.keras.layers.Embedding(target_vocab_sizes['nepali'], d_model)\n",
        "        }\n",
        "\n",
        "        # Positional Encodings for English (source language) and target languages\n",
        "        self.pos_encoding_english = positional_encoding(pe_input, d_model)\n",
        "        self.pos_encoding_targets = {\n",
        "            'assamese': positional_encoding(pe_target, d_model),\n",
        "            'bodo': positional_encoding(pe_target, d_model),\n",
        "            'khasi': positional_encoding(pe_target, d_model),\n",
        "            'manipuri': positional_encoding(pe_target, d_model),\n",
        "            'mizo': positional_encoding(pe_target, d_model),\n",
        "            'nepali': positional_encoding(pe_target, d_model)\n",
        "        }\n",
        "\n",
        "        # Shared Encoder\n",
        "        self.encoder = Encoder(num_layers, d_model, num_heads, dff, input_vocab_size_english, pe_input, rate)\n",
        "\n",
        "        # Language-specific Decoders\n",
        "        self.decoders = {\n",
        "            'assamese': DecoderAssamese(num_layers, d_model, num_heads, dff, target_vocab_sizes['assamese'], pe_target, rate),\n",
        "            'bodo': DecoderBodo(num_layers, d_model, num_heads, dff, target_vocab_sizes['bodo'], pe_target, rate),\n",
        "            'khasi': DecoderKhasi(num_layers, d_model, num_heads, dff, target_vocab_sizes['khasi'], pe_target, rate),\n",
        "            'manipuri': DecoderManipuri(num_layers, d_model, num_heads, dff, target_vocab_sizes['manipuri'], pe_target, rate),\n",
        "            'mizo': DecoderMizo(num_layers, d_model, num_heads, dff, target_vocab_sizes['mizo'], pe_target, rate),\n",
        "            'nepali': DecoderNepali(num_layers, d_model, num_heads, dff, target_vocab_sizes['nepali'], pe_target, rate)\n",
        "        }\n",
        "\n",
        "        # Final Dense Layers\n",
        "        self.final_layers = {\n",
        "            'assamese': tf.keras.layers.Dense(target_vocab_sizes['assamese']),\n",
        "            'bodo': tf.keras.layers.Dense(target_vocab_sizes['bodo']),\n",
        "            'khasi': tf.keras.layers.Dense(target_vocab_sizes['khasi']),\n",
        "            'manipuri': tf.keras.layers.Dense(target_vocab_sizes['manipuri']),\n",
        "            'mizo': tf.keras.layers.Dense(target_vocab_sizes['mizo']),\n",
        "            'nepali': tf.keras.layers.Dense(target_vocab_sizes['nepali'])\n",
        "        }\n",
        "\n",
        "    def call(self, inputs, targets, training, masks):\n",
        "        enc_inputs = inputs['english']\n",
        "        enc_output = self.encoder(enc_inputs, training, masks['english']['enc_padding_mask'])\n",
        "\n",
        "        dec_outputs = {}\n",
        "        for lang in ['assamese', 'bodo', 'khasi', 'manipuri', 'mizo', 'nepali']:\n",
        "            dec_targets = targets[lang]\n",
        "            dec_outputs[lang] = self.decoders[lang](dec_targets, enc_output, training, masks[lang]['look_ahead_mask'], masks[lang]['dec_padding_mask'])\n",
        "\n",
        "        final_outputs = {}\n",
        "        for lang in ['assamese', 'bodo', 'khasi', 'manipuri', 'mizo', 'nepali']:\n",
        "            final_outputs[lang] = self.final_layers[lang](dec_outputs[lang])\n",
        "\n",
        "        return final_outputs\n",
        "\n",
        "    def encoder(self, inputs, training, enc_padding_mask):\n",
        "        x = self.embedding_english(inputs)\n",
        "        x += self.pos_encoding_english\n",
        "        return self.encoder.call(x, training, enc_padding_mask)\n",
        "\n",
        "    def decoder(self, targets, enc_outputs, lang, training, look_ahead_mask, dec_padding_mask):\n",
        "        x = self.embedding_targets[lang](targets)\n",
        "        x += self.pos_encoding_targets[lang]\n",
        "        return self.decoders[lang].call(x, enc_outputs, training, look_ahead_mask, dec_padding_mask)\n"
      ],
      "metadata": {
        "id": "HF3e3ywQMZgz"
      },
      "execution_count": null,
      "outputs": []
    },
    {
      "cell_type": "code",
      "source": [
        "num_layers = 8\n",
        "d_model = 128\n",
        "dff = 512\n",
        "num_heads = 8\n",
        "dropout_rate = 0.1\n",
        "EPOCHS = 1"
      ],
      "metadata": {
        "id": "RjI1TjAeMbJn"
      },
      "execution_count": null,
      "outputs": []
    },
    {
      "cell_type": "code",
      "source": [
        "class CustomSchedule(tf.keras.optimizers.schedules.LearningRateSchedule):\n",
        "    def __init__(self, d_model, warmup_steps=4000):\n",
        "        super(CustomSchedule, self).__init__()\n",
        "\n",
        "        self.d_model = d_model\n",
        "        self.d_model = tf.cast(self.d_model, tf.float32)\n",
        "\n",
        "        self.warmup_steps = warmup_steps\n",
        "\n",
        "    def __call__(self, step):\n",
        "        arg1 = tf.math.rsqrt(tf.cast(step, tf.float32))\n",
        "        arg2 = tf.cast(step, tf.float32) * (self.warmup_steps ** -1.5)\n",
        "\n",
        "        return tf.math.rsqrt(self.d_model) * tf.math.minimum(arg1, arg2)"
      ],
      "metadata": {
        "id": "WtO-lNI8McnC"
      },
      "execution_count": null,
      "outputs": []
    },
    {
      "cell_type": "code",
      "source": [
        "import torch\n",
        "from transformers import AutoModelForSeq2SeqLM, BitsAndBytesConfig\n",
        "from IndicTransTokenizer import IndicProcessor, IndicTransTokenizer\n",
        "\n",
        "BATCH_SIZE = 4\n",
        "DEVICE = \"cuda\" if torch.cuda.is_available() else \"cpu\"\n",
        "quantization = None"
      ],
      "metadata": {
        "id": "fYczM2U6G1Zv"
      },
      "execution_count": null,
      "outputs": []
    },
    {
      "cell_type": "code",
      "source": [
        "def initialize_model_and_tokenizer(ckpt_dir, direction, quantization):\n",
        "    if quantization == \"4-bit\":\n",
        "        qconfig = BitsAndBytesConfig(\n",
        "            load_in_4bit=True,\n",
        "            bnb_4bit_use_double_quant=True,\n",
        "            bnb_4bit_compute_dtype=torch.bfloat16,\n",
        "        )\n",
        "    elif quantization == \"8-bit\":\n",
        "        qconfig = BitsAndBytesConfig(\n",
        "            load_in_8bit=True,\n",
        "            bnb_8bit_use_double_quant=True,\n",
        "            bnb_8bit_compute_dtype=torch.bfloat16,\n",
        "        )\n",
        "    else:\n",
        "        qconfig = None\n",
        "\n",
        "    tokenizer = IndicTransTokenizer(direction=direction)\n",
        "    model = AutoModelForSeq2SeqLM.from_pretrained(\n",
        "        ckpt_dir,\n",
        "        trust_remote_code=True,\n",
        "        low_cpu_mem_usage=True,\n",
        "        quantization_config=qconfig,\n",
        "    )\n",
        "\n",
        "    if qconfig == None:\n",
        "        model = model.to(DEVICE)\n",
        "        if DEVICE == \"cuda\":\n",
        "            model.half()\n",
        "\n",
        "    model.eval()\n",
        "\n",
        "    return tokenizer, model\n",
        "\n",
        "\n",
        "def batch_translate(input_sentences, src_lang, tgt_lang, model, tokenizer, ip):\n",
        "    translations = []\n",
        "    for i in range(0, len(input_sentences), BATCH_SIZE):\n",
        "        batch = input_sentences[i : i + BATCH_SIZE]\n",
        "\n",
        "        # Preprocess the batch and extract entity mappings\n",
        "        batch = ip.preprocess_batch(batch, src_lang=src_lang, tgt_lang=tgt_lang)\n",
        "\n",
        "        # Tokenize the batch and generate input encodings\n",
        "        inputs = tokenizer(\n",
        "            batch,\n",
        "            src=True,\n",
        "            truncation=True,\n",
        "            padding=\"longest\",\n",
        "            return_tensors=\"pt\",\n",
        "            return_attention_mask=True,\n",
        "        ).to(DEVICE)\n",
        "\n",
        "        # Generate translations using the model\n",
        "        with torch.no_grad():\n",
        "            generated_tokens = model.generate(\n",
        "                **inputs,\n",
        "                use_cache=True,\n",
        "                min_length=0,\n",
        "                max_length=256,\n",
        "                num_beams=5,\n",
        "                num_return_sequences=1,\n",
        "            )\n",
        "\n",
        "        # Decode the generated tokens into text\n",
        "        generated_tokens = tokenizer.batch_decode(generated_tokens.detach().cpu().tolist(), src=False)\n",
        "\n",
        "        # Postprocess the translations, including entity replacement\n",
        "        translations += ip.postprocess_batch(generated_tokens, lang=tgt_lang)\n",
        "\n",
        "        del inputs\n",
        "        torch.cuda.empty_cache()\n",
        "\n",
        "    return translations"
      ],
      "metadata": {
        "id": "xj1WCNjuHG-d"
      },
      "execution_count": null,
      "outputs": []
    },
    {
      "cell_type": "code",
      "source": [
        "class CustomSchedule(tf.keras.optimizers.schedules.LearningRateSchedule):\n",
        "    def __init__(self, d_model, warmup_steps=4000):\n",
        "        super(CustomSchedule, self).__init__()\n",
        "\n",
        "        self.d_model = d_model\n",
        "        self.d_model = tf.cast(self.d_model, tf.float32)\n",
        "\n",
        "        self.warmup_steps = warmup_steps\n",
        "\n",
        "    def __call__(self, step):\n",
        "        arg1 = tf.math.rsqrt(tf.cast(step, tf.float32))\n",
        "        arg2 = tf.cast(step, tf.float32) * (self.warmup_steps ** -1.5)\n",
        "\n",
        "        return tf.math.rsqrt(self.d_model) * tf.math.minimum(arg1, arg2)"
      ],
      "metadata": {
        "id": "S7rLCNA6MsvO"
      },
      "execution_count": null,
      "outputs": []
    },
    {
      "cell_type": "code",
      "source": [
        "# Define the custom learning rate schedule\n",
        "class CustomSchedule(tf.keras.optimizers.schedules.LearningRateSchedule):\n",
        "    def __init__(self, d_model, warmup_steps=4000):\n",
        "        super(CustomSchedule, self).__init__()\n",
        "\n",
        "        self.d_model = tf.cast(d_model, tf.float32)\n",
        "        self.warmup_steps = warmup_steps\n",
        "\n",
        "    def __call__(self, step):\n",
        "        arg1 = tf.math.rsqrt(tf.cast(step, tf.float32))\n",
        "        arg2 = tf.cast(step, tf.float32) * (self.warmup_steps ** -1.5)\n",
        "        return tf.math.rsqrt(self.d_model) * tf.math.minimum(arg1, arg2)"
      ],
      "metadata": {
        "id": "UO7p7xZGMpVE"
      },
      "execution_count": null,
      "outputs": []
    },
    {
      "cell_type": "code",
      "source": [
        "\n",
        "\n",
        "learning_rate = CustomSchedule(d_model)\n",
        "\n",
        "# Create an optimizer with the custom learning rate\n",
        "optimizer = tf.keras.optimizers.Adam(learning_rate)\n",
        "\n"
      ],
      "metadata": {
        "id": "TlUXDaITMmoz"
      },
      "execution_count": null,
      "outputs": []
    },
    {
      "cell_type": "code",
      "source": [
        "import matplotlib.pyplot as plt\n",
        "import tensorflow as tf\n",
        "\n",
        "# Create custom learning rate schedules for all language pairs\n",
        "learning_rate_schedule_bodo = CustomSchedule(d_model)\n",
        "learning_rate_schedule_nepali = CustomSchedule(d_model)\n",
        "learning_rate_schedule_khasi = CustomSchedule(d_model)\n",
        "learning_rate_schedule_manipuri = CustomSchedule(d_model)\n",
        "learning_rate_schedule_mizo = CustomSchedule(d_model)\n",
        "learning_rate_schedule_assamese = CustomSchedule(d_model)\n",
        "\n",
        "# Define a function to plot all learning rate schedules on a single graph\n",
        "def plot_all_learning_rate_schedules(schedules, labels, num_steps=40000):\n",
        "    plt.figure(figsize=(12, 8))\n",
        "\n",
        "    for schedule, label in zip(schedules, labels):\n",
        "        plt.plot(tf.range(num_steps, dtype=tf.float32), schedule(tf.range(num_steps, dtype=tf.float32)), label=label)\n",
        "\n",
        "    plt.title(\"Learning Rate Schedules for All Languages\")\n",
        "    plt.xlabel(\"Train Step\")\n",
        "    plt.ylabel(\"Learning Rate\")\n",
        "    plt.legend()\n",
        "    plt.grid(True)\n",
        "    plt.show()\n",
        "\n",
        "# Create a list of schedules and labels\n",
        "schedules = [\n",
        "    learning_rate_schedule_bodo,\n",
        "    learning_rate_schedule_nepali,\n",
        "    learning_rate_schedule_khasi,\n",
        "    learning_rate_schedule_manipuri,\n",
        "    learning_rate_schedule_mizo,\n",
        "    learning_rate_schedule_assamese\n",
        "]\n",
        "\n",
        "labels = [\n",
        "    \"Bodo\",\n",
        "    \"Nepali\",\n",
        "    \"Khasi\",\n",
        "    \"Manipuri\",\n",
        "    \"Mizo\",\n",
        "    \"Assamese\"\n",
        "]\n",
        "\n",
        "# Plot all learning rate schedules on a single graph\n",
        "plot_all_learning_rate_schedules(schedules, labels)\n"
      ],
      "metadata": {
        "colab": {
          "base_uri": "https://localhost:8080/",
          "height": 718
        },
        "id": "W2So8G5gMjaI",
        "outputId": "6a85a4e3-f1de-40b1-e8b1-40b13b3ef325"
      },
      "execution_count": null,
      "outputs": [
        {
          "output_type": "display_data",
          "data": {
            "text/plain": [
              "<Figure size 1200x800 with 1 Axes>"
            ],
            "image/png": "[encoded data removed]"
          },
          "metadata": {}
        }
      ]
    },
    {
      "cell_type": "code",
      "source": [
        "loss_object = tf.keras.losses.SparseCategoricalCrossentropy(from_logits=True, reduction='none')\n",
        "def loss_function(real, pred):\n",
        "    mask = tf.math.logical_not(tf.math.equal(real, 0))\n",
        "    loss_ = loss_object(real, pred)\n",
        "\n",
        "    mask = tf.cast(mask, dtype=loss_.dtype)\n",
        "    loss_ *= mask\n",
        "\n",
        "    return tf.reduce_sum(loss_)/tf.reduce_sum(mask)\n",
        "\n",
        "\n",
        "def accuracy_function(real, pred):\n",
        "    accuracies = tf.equal(real, tf.argmax(pred, axis=2))\n",
        "\n",
        "    mask = tf.math.logical_not(tf.math.equal(real, 0))\n",
        "    accuracies = tf.math.logical_and(mask, accuracies)\n",
        "\n",
        "    accuracies = tf.cast(accuracies, dtype=tf.float32)\n",
        "    mask = tf.cast(mask, dtype=tf.float32)\n",
        "    return tf.reduce_sum(accuracies)/tf.reduce_sum(mask)"
      ],
      "metadata": {
        "id": "q0dEPlg8Mvmk"
      },
      "execution_count": null,
      "outputs": []
    },
    {
      "cell_type": "code",
      "source": [
        "train_loss = tf.keras.metrics.Mean(name='train_loss')\n",
        "train_accuracy = tf.keras.metrics.Mean(name='train_accuracy')"
      ],
      "metadata": {
        "id": "iFALsAkSMyFD"
      },
      "execution_count": null,
      "outputs": []
    },
    {
      "cell_type": "code",
      "source": [
        "# Define the MultiTransformer class with separate parameters for each decoder\n",
        "class MultiTransformer(tf.keras.Model):\n",
        "    def __init__(self, num_layers, d_model, num_heads, dff, encoder_vocab_size,\n",
        "                 decoder_bodo_vocab_size, decoder_nepali_vocab_size,\n",
        "                 decoder_khasi_vocab_size, decoder_manipuri_vocab_size,\n",
        "                 decoder_mizo_vocab_size, decoder_assamese_vocab_size,\n",
        "                 pe_input, pe_target, rate):\n",
        "        super(MultiTransformer, self).__init__()\n",
        "        # Initialize encoder and decoders\n",
        "        self.encoder = Encoder(num_layers, d_model, num_heads, dff, encoder_vocab_size, pe_input, rate)\n",
        "        self.decoder_bodo = Decoder(num_layers, d_model, num_heads, dff, decoder_bodo_vocab_size, pe_target, rate)\n",
        "        self.decoder_nepali = Decoder(num_layers, d_model, num_heads, dff, decoder_nepali_vocab_size, pe_target, rate)\n",
        "        self.decoder_khasi = Decoder(num_layers, d_model, num_heads, dff, decoder_khasi_vocab_size, pe_target, rate)\n",
        "        self.decoder_manipuri = Decoder(num_layers, d_model, num_heads, dff, decoder_manipuri_vocab_size, pe_target, rate)\n",
        "        self.decoder_mizo = Decoder(num_layers, d_model, num_heads, dff, decoder_mizo_vocab_size, pe_target, rate)\n",
        "        self.decoder_assamese = Decoder(num_layers, d_model, num_heads, dff, decoder_assamese_vocab_size, pe_target, rate)\n",
        "\n",
        "    def call(self, inputs, targets):\n",
        "        # Process the inputs through the encoder and each decoder\n",
        "        encoder_output = self.encoder(inputs)\n",
        "        decoder_bodo_output = self.decoder_bodo(targets['bodo'], encoder_output)\n",
        "        decoder_nepali_output = self.decoder_nepali(targets['nepali'], encoder_output)\n",
        "        decoder_khasi_output = self.decoder_khasi(targets['khasi'], encoder_output)\n",
        "        decoder_manipuri_output = self.decoder_manipuri(targets['manipuri'], encoder_output)\n",
        "        decoder_mizo_output = self.decoder_mizo(targets['mizo'], encoder_output)\n",
        "        decoder_assamese_output = self.decoder_assamese(targets['assamese'], encoder_output)\n",
        "\n",
        "        return decoder_bodo_output, decoder_nepali_output, decoder_khasi_output, decoder_manipuri_output, decoder_mizo_output, decoder_assamese_output"
      ],
      "metadata": {
        "id": "Sy9fM3ivM0Eb"
      },
      "execution_count": null,
      "outputs": []
    },
    {
      "cell_type": "code",
      "source": [
        "def create_masks(inp, tar):\n",
        "    enc_padding_mask = create_padding_mask(inp)\n",
        "    dec_padding_mask = create_padding_mask(inp)\n",
        "\n",
        "    look_ahead_mask = create_look_ahead_mask(tf.shape(tar)[1])\n",
        "    dec_target_padding_mask = create_padding_mask(tar)\n",
        "    combined_mask = tf.maximum(dec_target_padding_mask, look_ahead_mask)\n",
        "\n",
        "    return enc_padding_mask, combined_mask, dec_padding_mask"
      ],
      "metadata": {
        "id": "jP27TavrM1_5"
      },
      "execution_count": null,
      "outputs": []
    },
    {
      "cell_type": "code",
      "source": [
        "optimizer = tf.keras.optimizers.Adam(learning_rate=0.0001)\n"
      ],
      "metadata": {
        "id": "SJoAxVghM3Tp"
      },
      "execution_count": null,
      "outputs": []
    },
    {
      "cell_type": "code",
      "source": [
        "\n",
        "# Define the train_step function\n",
        "@tf.function\n",
        "def train_step(inp_bodo, inp_nepali, tar_bodo, tar_nepali, mask_bodo=None, mask_nepali=None):\n",
        "    # ... (rest of the function remains the same)\n",
        "\n",
        "    # Define masks for language pair Bodo\n",
        "    tar_inp_bodo = tar_bodo[:, :-1]\n",
        "    tar_real_bodo = tar_bodo[:, 1:]\n",
        "    enc_padding_mask_bodo, combined_mask_bodo, dec_padding_mask_bodo = create_masks(inp_bodo, tar_inp_bodo)\n",
        "\n",
        "    # Define masks for language pair Nepali\n",
        "    if tar_nepali is not None:\n",
        "        tar_inp_nepali = tar_nepali[:, :-1]\n",
        "        tar_real_nepali = tar_nepali[:, 1:]\n",
        "        enc_padding_mask_nepali, combined_mask_nepali, dec_padding_mask_nepali = create_masks(inp_nepali, tar_inp_nepali)\n",
        "\n",
        "    with tf.GradientTape(persistent=True) as tape:\n",
        "        # Get predictions for language pair Bodo\n",
        "        predictions_bodo, _, _, _ = multi_transformer(\n",
        "            inp_bodo, inp_nepali, tar_inp_bodo, tar_inp_nepali,\n",
        "            True, enc_padding_mask_bodo, combined_mask_bodo, dec_padding_mask_bodo,\n",
        "            enc_padding_mask_nepali, combined_mask_nepali, dec_padding_mask_nepali\n",
        "        )\n",
        "\n",
        "        # Calculate loss for language pair Bodo\n",
        "        loss_bodo = loss_function(tar_real_bodo, predictions_bodo)\n",
        "\n",
        "        # Calculate loss for language pair Nepali if tar_nepali is not None\n",
        "        if tar_nepali is not None:\n",
        "            predictions_nepali, _, _, _ = multi_transformer(\n",
        "                inp_bodo, inp_nepali, tar_inp_bodo, tar_inp_nepali,\n",
        "                True, enc_padding_mask_bodo, combined_mask_bodo, dec_padding_mask_bodo,\n",
        "                enc_padding_mask_nepali, combined_mask_nepali, dec_padding_mask_nepali\n",
        "            )\n",
        "            loss_nepali = loss_function(tar_real_nepali, predictions_nepali)\n",
        "            total_loss = loss_bodo + loss_nepali\n",
        "        else:\n",
        "            total_loss = loss_bodo\n",
        "\n",
        "    # Calculate gradients and apply them using the optimizer\n",
        "    gradients = tape.gradient(total_loss, multi_transformer.trainable_variables)\n",
        "    optimizer.apply_gradients(zip(gradients, multi_transformer.trainable_variables))\n",
        "\n",
        "    # Update metrics\n",
        "    train_loss(total_loss)\n",
        "    train_accuracy(accuracy_function(tar_real_bodo, predictions_bodo))\n",
        "\n",
        "# Define train_loss and train_accuracy\n",
        "train_loss = tf.keras.metrics.Mean(name='train_loss')\n",
        "train_accuracy = tf.keras.metrics.Mean(name='train_accuracy')\n",
        "\n"
      ],
      "metadata": {
        "id": "YSHkLfwHM4xX"
      },
      "execution_count": null,
      "outputs": []
    },
    {
      "cell_type": "markdown",
      "source": [
        "### English to Indic Example\n"
      ],
      "metadata": {
        "id": "erNCuZTEMt49"
      }
    },
    {
      "cell_type": "code",
      "source": [
        "\n",
        "en_sents = [\n",
        "    \"He was a king too.\",\n",
        "    \"He slept the whole night.\",\n",
        "    \"They have failed.\",\n",
        "    \"Open a new browser.\",\n",
        "    \"he wrote well in the examination \",\n",
        "    \"You must specify a file name\",\n",
        "]\n"
      ],
      "metadata": {
        "id": "rTMNFb2Atrat"
      },
      "execution_count": null,
      "outputs": []
    },
    {
      "cell_type": "code",
      "source": [
        "import warnings\n",
        "warnings.filterwarnings(\"ignore\", category=DeprecationWarning)\n",
        "en_indic_ckpt_dir = \"ai4bharat/indictrans2-en-indic-1B\"  # ai4bharat/indictrans2-en-indic-dist-200M\n",
        "en_indic_tokenizer, en_indic_model = initialize_model_and_tokenizer(en_indic_ckpt_dir, \"en-indic\", quantization)\n",
        "\n",
        "ip = IndicProcessor(inference=True)\n",
        "\n",
        "\n",
        "src_lang, tgt_lang = \"eng_Latn\", \"asm_Beng\"\n",
        "asm_translations = batch_translate(en_sents, src_lang, tgt_lang, en_indic_model, en_indic_tokenizer, ip)\n",
        "\n",
        "print(f\"\\n{src_lang} - {tgt_lang}\")\n",
        "print(\"------------------------------------------------\")\n",
        "\n",
        "for input_sentence, translation in zip(en_sents, asm_translations):\n",
        "    print(f\"{src_lang}: {input_sentence}\")\n",
        "    print(f\"{tgt_lang}: {translation}\")\n",
        "    asm_translations = {translation}\n",
        "    # Print the output list (for demonstration)\n",
        "    print(\"------------------------------------------------\")\n",
        "\n",
        "# flush the models to free the GPU memory\n",
        "del en_indic_tokenizer, en_indic_model"
      ],
      "metadata": {
        "colab": {
          "base_uri": "https://localhost:8080/"
        },
        "id": "6ZM3whbc3sVA",
        "outputId": "e98e2c89-55dd-4404-901b-86fc46638000"
      },
      "execution_count": null,
      "outputs": [
        {
          "output_type": "stream",
          "name": "stdout",
          "text": [
            "\n",
            "eng_Latn - asm_Beng\n",
            "------------------------------------------------\n",
            "eng_Latn: He was a king too.\n",
            "asm_Beng: তেওঁ এজন ৰজাও আছিল।\n",
            "------------------------------------------------\n",
            "eng_Latn: He slept the whole night.\n",
            "asm_Beng: গোটেই ৰাতি তেওঁ শুই আছিল।\n",
            "------------------------------------------------\n",
            "eng_Latn: They have failed.\n",
            "asm_Beng: তেওঁলোক বিফল হৈছিল।\n",
            "------------------------------------------------\n",
            "eng_Latn: Open a new browser.\n",
            "asm_Beng: এটা নতুন ব্ৰাউজাৰ খোলক।\n",
            "------------------------------------------------\n",
            "eng_Latn: he wrote well in the examination \n",
            "asm_Beng: তেওঁ পৰীক্ষাত ভালদৰে লিখিছিল\n",
            "------------------------------------------------\n",
            "eng_Latn: You must specify a file name\n",
            "asm_Beng: আপুনি এটা ফাইলৰ নাম উল্লেখ কৰিব লাগিব\n",
            "------------------------------------------------\n"
          ]
        }
      ]
    },
    {
      "cell_type": "code",
      "source": [
        "import warnings\n",
        "warnings.filterwarnings(\"ignore\", category=DeprecationWarning)\n",
        "en_indic_ckpt_dir = \"ai4bharat/indictrans2-en-indic-1B\"  # ai4bharat/indictrans2-en-indic-dist-200M\n",
        "en_indic_tokenizer, en_indic_model = initialize_model_and_tokenizer(en_indic_ckpt_dir, \"en-indic\", quantization)\n",
        "\n",
        "ip = IndicProcessor(inference=True)\n",
        "\n",
        "\n",
        "src_lang, tgt_lang = \"eng_Latn\", \"brx_Deva\"\n",
        "brx_translations = batch_translate(en_sents, src_lang, tgt_lang, en_indic_model, en_indic_tokenizer, ip)\n",
        "\n",
        "print(f\"\\n{src_lang} - {tgt_lang}\")\n",
        "print(\"------------------------------------------------\")\n",
        "\n",
        "for input_sentence, translation in zip(en_sents, brx_translations):\n",
        "    print(f\"{src_lang}: {input_sentence}\")\n",
        "    print(f\"{tgt_lang}: {translation}\")\n",
        "    brx_translations = {translation}\n",
        "    # Print the output list (for demonstration)\n",
        "    print(\"------------------------------------------------\")\n",
        "\n",
        "# flush the models to free the GPU memory\n",
        "del en_indic_tokenizer, en_indic_model"
      ],
      "metadata": {
        "colab": {
          "base_uri": "https://localhost:8080/"
        },
        "id": "AIYbhr2b5jqJ",
        "outputId": "26a6b156-7863-4629-9f8f-ebd8b8bccda5"
      },
      "execution_count": null,
      "outputs": [
        {
          "output_type": "stream",
          "name": "stdout",
          "text": [
            "\n",
            "eng_Latn - brx_Deva\n",
            "------------------------------------------------\n",
            "eng_Latn: He was a king too.\n",
            "brx_Deva: बियो सासे राजाबोमोन।\n",
            "------------------------------------------------\n",
            "eng_Latn: He slept the whole night.\n",
            "brx_Deva: बियो गासै हरावनो उन्दुदोंमोन।\n",
            "------------------------------------------------\n",
            "eng_Latn: They have failed.\n",
            "brx_Deva: बिसोर फेलें जाबाय।\n",
            "------------------------------------------------\n",
            "eng_Latn: Open a new browser.\n",
            "brx_Deva: मोनसे गोदान ब्राउजार खेव।\n",
            "------------------------------------------------\n",
            "eng_Latn: he wrote well in the examination \n",
            "brx_Deva: बियो आनजादयाव मोजाङै लिरदोंमोन।\n",
            "------------------------------------------------\n",
            "eng_Latn: You must specify a file name\n",
            "brx_Deva: नों मोनसे फाइलनि मुंखौ थि खालामथारनांगोन।\n",
            "------------------------------------------------\n"
          ]
        }
      ]
    },
    {
      "cell_type": "code",
      "source": [
        "import warnings\n",
        "warnings.filterwarnings(\"ignore\", category=DeprecationWarning)\n",
        "en_indic_ckpt_dir = \"ai4bharat/indictrans2-en-indic-1B\"  # ai4bharat/indictrans2-en-indic-dist-200M\n",
        "en_indic_tokenizer, en_indic_model = initialize_model_and_tokenizer(en_indic_ckpt_dir, \"en-indic\", quantization)\n",
        "\n",
        "ip = IndicProcessor(inference=True)\n",
        "\n",
        "\n",
        "src_lang, tgt_lang = \"eng_Latn\", \"npi_Deva\"\n",
        "npi_translations = batch_translate(en_sents, src_lang, tgt_lang, en_indic_model, en_indic_tokenizer, ip)\n",
        "\n",
        "print(f\"\\n{src_lang} - {tgt_lang}\")\n",
        "print(\"------------------------------------------------\")\n",
        "for input_sentence, translation in zip(en_sents, npi_translations):\n",
        "    print(f\"{src_lang}: {input_sentence}\")\n",
        "    print(f\"{tgt_lang}: {translation}\")\n",
        "    npi_translations = {translation}\n",
        "    # Print the output list (for demonstration)\n",
        "    print(\"------------------------------------------------\")\n",
        "\n",
        "# flush the models to free the GPU memory\n",
        "del en_indic_tokenizer, en_indic_model"
      ],
      "metadata": {
        "colab": {
          "base_uri": "https://localhost:8080/"
        },
        "id": "UArJGLXGt3_V",
        "outputId": "dc17dd02-6cbe-486b-c757-c865d3145962"
      },
      "execution_count": null,
      "outputs": [
        {
          "output_type": "stream",
          "name": "stdout",
          "text": [
            "\n",
            "eng_Latn - npi_Deva\n",
            "------------------------------------------------\n",
            "eng_Latn: He was a king too.\n",
            "npi_Deva: उनी पनि राजा थिए।\n",
            "------------------------------------------------\n",
            "eng_Latn: He slept the whole night.\n",
            "npi_Deva: उनी रातभरि सुतिरहेका थिए।\n",
            "------------------------------------------------\n",
            "eng_Latn: They have failed.\n",
            "npi_Deva: तिनीहरू असफल भएका छन्।\n",
            "------------------------------------------------\n",
            "eng_Latn: Open a new browser.\n",
            "npi_Deva: नयाँ ब्राउजर खोल्नुहोस्।\n",
            "------------------------------------------------\n",
            "eng_Latn: he wrote well in the examination \n",
            "npi_Deva: उनले परीक्षामा राम्रो लेखे।\n",
            "------------------------------------------------\n",
            "eng_Latn: You must specify a file name\n",
            "npi_Deva: तपाईँले फाइलको नाम निर्दिष्ट गर्नुपर्छ\n",
            "------------------------------------------------\n"
          ]
        }
      ]
    },
    {
      "cell_type": "code",
      "source": [
        "# Assuming ekha is imported and has the khasi_translate function\n",
        "import ekha\n",
        "\n",
        "\n",
        "# Function to generate list of formatted translations\n",
        "def khasi_output(eng_sents):\n",
        "    output = []\n",
        "    for sentence in eng_sents:\n",
        "        khasi_translation = ekha.khasi_translate(sentence)  # Use ekha's translation function\n",
        "        output.append(f\"eng_Latn: {sentence}\")\n",
        "        output.append(f\"kha_Latn: {khasi_translation}\")\n",
        "        output.append(\"\")  # Add a blank line for separation\n",
        "    return output\n",
        "\n",
        "# Get the output list\n",
        "output_list = khasi_output(en_sents)\n",
        "\n",
        "# Print the output list (for demonstration)\n",
        "for line in output_list:\n",
        "    print(line)"
      ],
      "metadata": {
        "colab": {
          "base_uri": "https://localhost:8080/"
        },
        "id": "xRcUQjn_1yez",
        "outputId": "c4090915-4317-48f9-d07f-b5940e34486f"
      },
      "execution_count": null,
      "outputs": [
        {
          "output_type": "stream",
          "name": "stdout",
          "text": [
            "eng_Latn: He was a king too.\n",
            "kha_Latn: u syiem u la pynlut haduh snem\n",
            "\n",
            "eng_Latn: He slept the whole night.\n",
            "kha_Latn: u thiah mynmiet u thiah shimiet\n",
            "\n",
            "eng_Latn: They have failed.\n",
            "kha_Latn: hato kim don umjer nangno ki ing kim don jingbam\n",
            "\n",
            "eng_Latn: Open a new browser.\n",
            "kha_Latn: plie ki jingduwai bathymmai\n",
            "\n",
            "eng_Latn: he wrote well in the examination \n",
            "kha_Latn: u thoh bha bha ha ka examination\n",
            "\n",
            "eng_Latn: You must specify a file name\n",
            "kha_Latn: ka jingbhabriew ka dei ka maakah ka ingbishar\n",
            "\n"
          ]
        }
      ]
    },
    {
      "cell_type": "code",
      "source": [
        "import warnings\n",
        "warnings.filterwarnings(\"ignore\", category=DeprecationWarning)\n",
        "en_indic_ckpt_dir = \"ai4bharat/indictrans2-en-indic-1B\"  # ai4bharat/indictrans2-en-indic-dist-200M\n",
        "en_indic_tokenizer, en_indic_model = initialize_model_and_tokenizer(en_indic_ckpt_dir, \"en-indic\", quantization)\n",
        "\n",
        "ip = IndicProcessor(inference=True)\n",
        "\n",
        "\n",
        "src_lang, tgt_lang = \"eng_Latn\", \"mni_Beng\"\n",
        "mni_translations = batch_translate(en_sents, src_lang, tgt_lang, en_indic_model, en_indic_tokenizer, ip)\n",
        "\n",
        "print(f\"\\n{src_lang} - {tgt_lang}\")\n",
        "print(\"------------------------------------------------\")\n",
        "for input_sentence, translation in zip(en_sents, mni_translations):\n",
        "    print(f\"{src_lang}: {input_sentence}\")\n",
        "    print(f\"{tgt_lang}: {translation}\")\n",
        "    mni_translations = {translation}\n",
        "    # Print the output list (for demonstration)\n",
        "    print(\"------------------------------------------------\")\n",
        "\n",
        "# flush the models to free the GPU memory\n",
        "del en_indic_tokenizer, en_indic_model"
      ],
      "metadata": {
        "colab": {
          "base_uri": "https://localhost:8080/"
        },
        "id": "n-Ffb66Q35Rj",
        "outputId": "3b0194e8-9337-40ca-bc7e-eec7cd41f9d9"
      },
      "execution_count": null,
      "outputs": [
        {
          "output_type": "stream",
          "name": "stdout",
          "text": [
            "\n",
            "eng_Latn - mni_Beng\n",
            "------------------------------------------------\n",
            "eng_Latn: He was a king too.\n",
            "mni_Beng: মহাক এপার্থিদকী মায়োক্তা লৈবা এক্তিবিস্ত অমনি।\n",
            "------------------------------------------------\n",
            "eng_Latn: He slept the whole night.\n",
            "mni_Beng: নুমিদাং ফাওবা অসুম অসুম থেঙজিল্লক্লি।\n",
            "------------------------------------------------\n",
            "eng_Latn: They have failed.\n",
            "mni_Beng: অদুবু মখোয়না খঙদবা হায়বসি য়াম্না লাইবক থিবা অমনি।\n",
            "------------------------------------------------\n",
            "eng_Latn: Open a new browser.\n",
            "mni_Beng: অনৌবা পেজ অমা হাপচিনবা\n",
            "------------------------------------------------\n",
            "eng_Latn: he wrote well in the examination \n",
            "mni_Beng: মহাক্না চাংয়েং অদুদা নীংথিনা ইখি।\n",
            "------------------------------------------------\n",
            "eng_Latn: You must specify a file name\n",
            "mni_Beng: অদোম্না ফাইল অমগী মমিং পীবা তাই।\n",
            "------------------------------------------------\n"
          ]
        }
      ]
    },
    {
      "cell_type": "code",
      "source": [
        "# Assuming elus is imported and has the mizo_translate function\n",
        "import elus\n",
        "\n",
        "\n",
        "# Function to generate list of formatted translations for Mizo\n",
        "def mizo_output(eng_sents):\n",
        "    output = []\n",
        "    for sentence in eng_sents:\n",
        "        mizo_translation = elus.mizo_translate(sentence)  # Use elus's translation function\n",
        "        output.append(f\"eng_Latn: {sentence}\")\n",
        "        output.append(f\"mizo_Latn: {mizo_translation}\")\n",
        "        output.append(\"\")  # Add a blank line for separation\n",
        "    return output\n",
        "\n",
        "# Get the output list\n",
        "output_list_mizo = mizo_output(en_sents)\n",
        "\n",
        "# Print the output list (for demonstration)\n",
        "for line in output_list_mizo:\n",
        "    print(line)\n"
      ],
      "metadata": {
        "colab": {
          "base_uri": "https://localhost:8080/"
        },
        "id": "Q4WdhuIX2-ug",
        "outputId": "128c0617-597f-4589-e917-bb9a04b8bcc7"
      },
      "execution_count": null,
      "outputs": [
        {
          "output_type": "stream",
          "name": "stdout",
          "text": [
            "eng_Latn: He was a king too.\n",
            "mizo_Latn: lal a ni\n",
            "\n",
            "eng_Latn: He slept the whole night.\n",
            "mizo_Latn: zan khat chu a mu\n",
            "\n",
            "eng_Latn: They have failed.\n",
            "mizo_Latn: an nei lo\n",
            "\n",
            "eng_Latn: Open a new browser.\n",
            "mizo_Latn: sum thar thawk thar\n",
            "\n",
            "eng_Latn: he wrote well in the examination \n",
            "mizo_Latn: a tha khawp mai\n",
            "\n",
            "eng_Latn: You must specify a file name\n",
            "mizo_Latn: lalber chuan ani chu tihhlum a ni dwn tih tu nge a tiam a\n",
            "\n"
          ]
        }
      ]
    },
    {
      "cell_type": "markdown",
      "source": [
        "# **Evaluation Metrics**"
      ],
      "metadata": {
        "id": "OM_1pbPtMpV9"
      }
    },
    {
      "cell_type": "code",
      "source": [
        "!pip install pyter3\n",
        "!pip install sacrebleu\n",
        "!pip install rouge_score\n",
        "import nltk\n",
        "nltk.download('punkt')  # Download the Punkt tokenizer\n",
        "nltk.download('wordnet')"
      ],
      "metadata": {
        "colab": {
          "base_uri": "https://localhost:8080/"
        },
        "id": "brdN7JEo8r0Y",
        "outputId": "7625a253-cf51-4742-ba99-12be1d3f9e97"
      },
      "execution_count": null,
      "outputs": [
        {
          "output_type": "stream",
          "name": "stdout",
          "text": [
            "Collecting pyter3\n",
            "  Downloading pyter3-0.3-py3-none-any.whl.metadata (3.2 kB)\n",
            "Downloading pyter3-0.3-py3-none-any.whl (4.1 kB)\n",
            "Installing collected packages: pyter3\n",
            "Successfully installed pyter3-0.3\n",
            "Collecting sacrebleu\n",
            "  Downloading sacrebleu-2.4.2-py3-none-any.whl.metadata (58 kB)\n",
            "\u001b[2K     \u001b[90m━━━━━━━━━━━━━━━━━━━━━━━━━━━━━━━━━━━━━━━━\u001b[0m \u001b[32m58.0/58.0 kB\u001b[0m \u001b[31m2.8 MB/s\u001b[0m eta \u001b[36m0:00:00\u001b[0m\n",
            "\u001b[?25hCollecting portalocker (from sacrebleu)\n",
            "  Downloading portalocker-2.10.1-py3-none-any.whl.metadata (8.5 kB)\n",
            "Requirement already satisfied: regex in /usr/local/lib/python3.10/dist-packages (from sacrebleu) (2024.5.15)\n",
            "Requirement already satisfied: tabulate>=0.8.9 in /usr/local/lib/python3.10/dist-packages (from sacrebleu) (0.9.0)\n",
            "Requirement already satisfied: numpy>=1.17 in /usr/local/lib/python3.10/dist-packages (from sacrebleu) (1.26.4)\n",
            "Collecting colorama (from sacrebleu)\n",
            "  Downloading colorama-0.4.6-py2.py3-none-any.whl.metadata (17 kB)\n",
            "Requirement already satisfied: lxml in /usr/local/lib/python3.10/dist-packages (from sacrebleu) (4.9.4)\n",
            "Downloading sacrebleu-2.4.2-py3-none-any.whl (106 kB)\n",
            "\u001b[2K   \u001b[90m━━━━━━━━━━━━━━━━━━━━━━━━━━━━━━━━━━━━━━━━\u001b[0m \u001b[32m106.7/106.7 kB\u001b[0m \u001b[31m7.0 MB/s\u001b[0m eta \u001b[36m0:00:00\u001b[0m\n",
            "\u001b[?25hDownloading colorama-0.4.6-py2.py3-none-any.whl (25 kB)\n",
            "Downloading portalocker-2.10.1-py3-none-any.whl (18 kB)\n",
            "Installing collected packages: portalocker, colorama, sacrebleu\n",
            "Successfully installed colorama-0.4.6 portalocker-2.10.1 sacrebleu-2.4.2\n",
            "Collecting rouge_score\n",
            "  Downloading rouge_score-0.1.2.tar.gz (17 kB)\n",
            "  Preparing metadata (setup.py) ... \u001b[?25l\u001b[?25hdone\n",
            "Requirement already satisfied: absl-py in /usr/local/lib/python3.10/dist-packages (from rouge_score) (1.4.0)\n",
            "Requirement already satisfied: nltk in /usr/local/lib/python3.10/dist-packages (from rouge_score) (3.8.1)\n",
            "Requirement already satisfied: numpy in /usr/local/lib/python3.10/dist-packages (from rouge_score) (1.26.4)\n",
            "Requirement already satisfied: six>=1.14.0 in /usr/local/lib/python3.10/dist-packages (from rouge_score) (1.16.0)\n",
            "Requirement already satisfied: click in /usr/local/lib/python3.10/dist-packages (from nltk->rouge_score) (8.1.7)\n",
            "Requirement already satisfied: joblib in /usr/local/lib/python3.10/dist-packages (from nltk->rouge_score) (1.4.2)\n",
            "Requirement already satisfied: regex>=2021.8.3 in /usr/local/lib/python3.10/dist-packages (from nltk->rouge_score) (2024.5.15)\n",
            "Requirement already satisfied: tqdm in /usr/local/lib/python3.10/dist-packages (from nltk->rouge_score) (4.66.4)\n",
            "Building wheels for collected packages: rouge_score\n",
            "  Building wheel for rouge_score (setup.py) ... \u001b[?25l\u001b[?25hdone\n",
            "  Created wheel for rouge_score: filename=rouge_score-0.1.2-py3-none-any.whl size=24934 sha256=bc5415847a0edb68b3ac0737ed73b846a343084387102fb4420fbee4a3952e3c\n",
            "  Stored in directory: /root/.cache/pip/wheels/5f/dd/89/461065a73be61a532ff8599a28e9beef17985c9e9c31e541b4\n",
            "Successfully built rouge_score\n",
            "Installing collected packages: rouge_score\n",
            "Successfully installed rouge_score-0.1.2\n"
          ]
        },
        {
          "output_type": "stream",
          "name": "stderr",
          "text": [
            "[nltk_data] Downloading package punkt to /root/nltk_data...\n",
            "[nltk_data]   Unzipping tokenizers/punkt.zip.\n",
            "[nltk_data] Downloading package wordnet to /root/nltk_data...\n"
          ]
        },
        {
          "output_type": "execute_result",
          "data": {
            "text/plain": [
              "True"
            ]
          },
          "metadata": {},
          "execution_count": 2
        }
      ]
    },
    {
      "cell_type": "code",
      "source": [
        "import csv\n",
        "from nltk.translate.bleu_score import corpus_bleu, sentence_bleu, SmoothingFunction\n",
        "\n",
        "# Load actual translations from actual.csv\n",
        "with open('/content/drive/MyDrive//multilingual/eng_to_indic/as/actual_assamese.csv', 'r') as file:\n",
        "    actual_reader = csv.reader(file)\n",
        "    actual_translations = [row[0].split() for row in actual_reader]\n",
        "\n",
        "# Load predicted translations from predicted.csv\n",
        "with open('/content/drive/MyDrive//multilingual/eng_to_indic/as/prediction_assamese.csv', 'r') as file:\n",
        "    predicted_reader = csv.reader(file)\n",
        "    predicted_translations = [row[0].split() for row in predicted_reader]\n",
        "\n",
        "# Define a smoothing function for BLEU score calculation\n",
        "smoothie = SmoothingFunction().method1\n",
        "\n",
        "# Compute BLEU score for corpus level with smoothing\n",
        "corpus_score = corpus_bleu(actual_translations, predicted_translations, smoothing_function=smoothie)\n",
        "\n",
        "# Compute BLEU score for sentence level with smoothing\n",
        "sentence_scores = [sentence_bleu([actual], predicted, smoothing_function=smoothie) for actual, predicted in zip(actual_translations, predicted_translations)]\n",
        "\n",
        "# Calculate average sentence level BLEU score\n",
        "avg_sentence_score = sum(sentence_scores) / len(sentence_scores)\n",
        "\n",
        "# Print the scores\n",
        "# print(\"Corpus BLEU score:\", corpus_score)\n",
        "print(\"Assamese BLEU score:\", avg_sentence_score)\n"
      ],
      "metadata": {
        "colab": {
          "base_uri": "https://localhost:8080/"
        },
        "id": "aJR_xWn99DP_",
        "outputId": "25114833-dd99-4ef1-f648-20ecc35e16bf"
      },
      "execution_count": null,
      "outputs": [
        {
          "output_type": "stream",
          "name": "stdout",
          "text": [
            "Assamese BLEU score: 0.2795884109211922\n"
          ]
        }
      ]
    },
    {
      "cell_type": "code",
      "source": [
        "import pandas as pd\n",
        "import sacrebleu\n",
        "from nltk.translate.bleu_score import corpus_bleu\n",
        "\n",
        "# Load reference and prediction CSV files\n",
        "reference_file = '/content/drive/MyDrive//multilingual/eng_to_indic/as/actual_assamese.csv'\n",
        "prediction_file = '/content/drive/MyDrive//multilingual/eng_to_indic/as/prediction_assamese.csv'\n",
        "\n",
        "reference_df = pd.read_csv(reference_file)\n",
        "prediction_df = pd.read_csv(prediction_file)\n",
        "\n",
        "\n",
        "references = reference_df['ASSAMESE'].tolist()\n",
        "predictions = prediction_df['ASSAMESE'].tolist()\n",
        "\n",
        "# Calculate SacreBLEU score\n",
        "sacrebleu_score = sacrebleu.corpus_bleu(predictions, [references]).score\n",
        "print(f\"Assamese SacreBLEU Score: {sacrebleu_score/100}\")\n",
        "\n"
      ],
      "metadata": {
        "colab": {
          "base_uri": "https://localhost:8080/"
        },
        "id": "tMCOo5d29Lhh",
        "outputId": "16271a00-e595-4e82-e26f-69314cab8291"
      },
      "execution_count": null,
      "outputs": [
        {
          "output_type": "stream",
          "name": "stdout",
          "text": [
            "Assamese SacreBLEU Score: 0.240036184434208\n"
          ]
        }
      ]
    },
    {
      "cell_type": "code",
      "source": [
        "import csv\n",
        "import nltk\n",
        "from nltk.translate.meteor_score import meteor_score\n",
        "from nltk.tokenize import word_tokenize\n",
        "\n",
        "\n",
        "# File paths\n",
        "reference_file = '/content/drive/MyDrive//multilingual/eng_to_indic/as/actual_assamese.csv'  # Path to the CSV file containing reference Nepali translations\n",
        "prediction_file = '/content/drive/MyDrive//multilingual/eng_to_indic/as/prediction_assamese.csv'  # Path to the CSV file containing model's predicted Nepali translations\n",
        "\n",
        "# Initialize lists to hold reference and predicted sentences\n",
        "references = []\n",
        "predictions = []\n",
        "\n",
        "# Read reference translations from CSV file\n",
        "with open(reference_file, 'r') as ref_csv:\n",
        "    reader = csv.reader(ref_csv)\n",
        "    next(reader)  # Skip header\n",
        "    for row in reader:\n",
        "        # Tokenize the reference sentence\n",
        "        references.append(word_tokenize(row[0]))  # Assuming the reference text is in the first column\n",
        "\n",
        "# Read model predictions from CSV file\n",
        "with open(prediction_file, 'r') as pred_csv:\n",
        "    reader = csv.reader(pred_csv)\n",
        "    next(reader)  # Skip header\n",
        "    for row in reader:\n",
        "        # Tokenize the prediction sentence\n",
        "        predictions.append(word_tokenize(row[0]))  # Assuming the prediction text is in the first column\n",
        "\n",
        "# Ensure references and predictions have the same length\n",
        "assert len(references) == len(predictions), \"References and predictions must have the same length\"\n",
        "\n",
        "# Calculate the METEOR score for each pair of reference and prediction\n",
        "total_meteor_score = 0.0\n",
        "num_sentences = len(references)\n",
        "\n",
        "for ref, pred in zip(references, predictions):\n",
        "    score = meteor_score([ref], pred)\n",
        "    total_meteor_score += score\n",
        "\n",
        "# Calculate the average METEOR score\n",
        "avg_meteor_score = total_meteor_score / num_sentences\n",
        "\n",
        "print(f\"Assamese METEOR Score: {avg_meteor_score:.4f}\")"
      ],
      "metadata": {
        "colab": {
          "base_uri": "https://localhost:8080/"
        },
        "id": "0WJklnl89M_h",
        "outputId": "f41c3f55-ee44-4c15-e5f8-aa3b62276359"
      },
      "execution_count": null,
      "outputs": [
        {
          "output_type": "stream",
          "name": "stdout",
          "text": [
            "Assamese METEOR Score: 0.4123\n"
          ]
        }
      ]
    },
    {
      "cell_type": "code",
      "source": [
        "import csv\n",
        "from rouge_score import rouge_scorer\n",
        "\n",
        "# Initialize a ROUGE scorer\n",
        "scorer = rouge_scorer.RougeScorer(['rouge1', 'rouge2', 'rougeL'], use_stemmer=True)\n",
        "\n",
        "# File paths\n",
        "reference_file = '/content/drive/MyDrive//multilingual/eng_to_indic/as/actual_assamese.csv'  # Path to the CSV file containing reference Nepali translations\n",
        "prediction_file = '/content/drive/MyDrive//multilingual/eng_to_indic/as/prediction_assamese.csv'  # Path to the CSV file containing model's predicted Nepali translations\n",
        "\n",
        "# Initialize lists to hold ROUGE scores\n",
        "rouge1_scores = []\n",
        "rouge2_scores = []\n",
        "rougeL_scores = []\n",
        "\n",
        "# Read reference translations from CSV file\n",
        "with open(reference_file, 'r') as ref_csv:\n",
        "    reader = csv.reader(ref_csv)\n",
        "    next(reader)  # Skip header\n",
        "    references = [row[0] for row in reader]\n",
        "\n",
        "with open(prediction_file, 'r') as pred_csv:\n",
        "    reader = csv.reader(pred_csv)\n",
        "    next(reader)  # Skip header\n",
        "    predictions = [row[0] for row in reader]\n",
        "\n",
        "# Calculate the ROUGE scores for each pair of reference and prediction\n",
        "for ref, pred in zip(references, predictions):\n",
        "    scores = scorer.score(ref, pred)\n",
        "    rouge1_scores.append(scores['rouge1'].fmeasure)\n",
        "    rouge2_scores.append(scores['rouge2'].fmeasure)\n",
        "    rougeL_scores.append(scores['rougeL'].fmeasure)\n",
        "\n",
        "# Calculate average ROUGE scores\n",
        "avg_rouge1 = sum(rouge1_scores) / len(rouge1_scores)\n",
        "avg_rouge2 = sum(rouge2_scores) / len(rouge2_scores)\n",
        "avg_rougeL = sum(rougeL_scores) / len(rougeL_scores)\n",
        "\n",
        "\n",
        "print(f\"Assamese ROUGE Score: {avg_rouge1:.4f}\")\n",
        "#print(f\"Assamese ROUGE Score: {avg_rouge2:.4f}\")\n",
        "#print(f\"ROUGE-L Score: {avg_rougeL:.4f}\")\n"
      ],
      "metadata": {
        "colab": {
          "base_uri": "https://localhost:8080/"
        },
        "id": "gH3sSmbM9PJy",
        "outputId": "c1eb3869-2b1f-4157-acd8-f807f68a7692"
      },
      "execution_count": null,
      "outputs": [
        {
          "output_type": "stream",
          "name": "stdout",
          "text": [
            "Assamese ROUGE Score: 0.1467\n",
            "Assamese ROUGE Score: 0.0400\n"
          ]
        }
      ]
    },
    {
      "cell_type": "code",
      "source": [
        "import pyter\n",
        "reference_as_file = '/content/drive/MyDrive//multilingual/eng_to_indic/as/actual_assamese.csv'\n",
        "hypothesis_as_file = '/content/drive/MyDrive//multilingual/eng_to_indic/as/prediction_assamese.csv'\n",
        "ter_score = pyter.ter(reference_as_file, hypothesis_as_file)\n",
        "print(f\"TER Assamese Score: {ter_score}\")"
      ],
      "metadata": {
        "colab": {
          "base_uri": "https://localhost:8080/"
        },
        "id": "6JNdcfXf9UNb",
        "outputId": "c78d6690-4d09-4943-843e-332eb883a0ec"
      },
      "execution_count": null,
      "outputs": [
        {
          "output_type": "stream",
          "name": "stdout",
          "text": [
            "TER Assamese Score: 0.10526315789473684\n"
          ]
        }
      ]
    },
    {
      "cell_type": "markdown",
      "source": [
        "# **Bodo**"
      ],
      "metadata": {
        "id": "bkw8ArOf9VIN"
      }
    },
    {
      "cell_type": "code",
      "source": [
        "import csv\n",
        "from nltk.translate.bleu_score import corpus_bleu, sentence_bleu, SmoothingFunction\n",
        "\n",
        "# Load actual translations from actual.csv\n",
        "with open('/content/drive/MyDrive//multilingual/eng_to_indic/brx/actual.csv', 'r') as file:\n",
        "    actual_reader = csv.reader(file)\n",
        "    actual_translations = [row[0].split() for row in actual_reader]\n",
        "\n",
        "# Load predicted translations from predicted.csv\n",
        "with open('/content/drive/MyDrive//multilingual/eng_to_indic/brx/prediction_bodo.csv', 'r') as file:\n",
        "    predicted_reader = csv.reader(file)\n",
        "    predicted_translations = [row[0].split() for row in predicted_reader]\n",
        "\n",
        "# Define a smoothing function for BLEU score calculation\n",
        "smoothie = SmoothingFunction().method1\n",
        "\n",
        "# Compute BLEU score for corpus level with smoothing\n",
        "corpus_score = corpus_bleu(actual_translations, predicted_translations, smoothing_function=smoothie)\n",
        "\n",
        "# Compute BLEU score for sentence level with smoothing\n",
        "sentence_scores = [sentence_bleu([actual], predicted, smoothing_function=smoothie) for actual, predicted in zip(actual_translations, predicted_translations)]\n",
        "\n",
        "# Calculate average sentence level BLEU score\n",
        "avg_sentence_score = sum(sentence_scores) / len(sentence_scores)\n",
        "\n",
        "# Print the scores\n",
        "# print(\"Corpus BLEU score:\", corpus_score)\n",
        "print(\"Bodo BLEU score:\", avg_sentence_score)\n"
      ],
      "metadata": {
        "colab": {
          "base_uri": "https://localhost:8080/"
        },
        "id": "PapzNygx9n6I",
        "outputId": "1980ae13-afbb-4509-a634-540536a96fe7"
      },
      "execution_count": null,
      "outputs": [
        {
          "output_type": "stream",
          "name": "stdout",
          "text": [
            "Bodo BLEU score: 0.24187137243578544\n"
          ]
        }
      ]
    },
    {
      "cell_type": "code",
      "source": [
        "import pandas as pd\n",
        "import sacrebleu\n",
        "from nltk.translate.bleu_score import corpus_bleu\n",
        "\n",
        "# Load reference and prediction CSV files\n",
        "reference_file = '/content/drive/MyDrive//multilingual/eng_to_indic/brx/actual.csv'\n",
        "prediction_file = '/content/drive/MyDrive//multilingual/eng_to_indic/brx/prediction_bodo.csv'\n",
        "\n",
        "reference_df = pd.read_csv(reference_file)\n",
        "prediction_df = pd.read_csv(prediction_file)\n",
        "\n",
        "\n",
        "references = reference_df['BODO'].tolist()\n",
        "predictions = prediction_df['BODO'].tolist()\n",
        "\n",
        "# Calculate SacreBLEU score\n",
        "sacrebleu_score = sacrebleu.corpus_bleu(predictions, [references]).score\n",
        "print(f\" Bodo SacreBLEU Score: {sacrebleu_score/100}\")\n",
        "\n"
      ],
      "metadata": {
        "colab": {
          "base_uri": "https://localhost:8080/"
        },
        "id": "nTSKUz3D9nxV",
        "outputId": "5eeceacc-3a2b-4d03-8a34-6bb515ccfcb0"
      },
      "execution_count": null,
      "outputs": [
        {
          "output_type": "stream",
          "name": "stdout",
          "text": [
            " Bodo SacreBLEU Score: 0.17077413927287693\n"
          ]
        }
      ]
    },
    {
      "cell_type": "code",
      "source": [
        "import csv\n",
        "from rouge_score import rouge_scorer\n",
        "\n",
        "# Initialize a ROUGE scorer\n",
        "scorer = rouge_scorer.RougeScorer(['rouge1', 'rouge2', 'rougeL'], use_stemmer=True)\n",
        "\n",
        "# File paths\n",
        "reference_file = '/content/drive/MyDrive//multilingual/eng_to_indic/brx/actual.csv'  # Path to the CSV file containing reference Nepali translations\n",
        "prediction_file = '/content/drive/MyDrive//multilingual/eng_to_indic/brx/prediction_bodo.csv'  # Path to the CSV file containing model's predicted Nepali translations\n",
        "\n",
        "# Initialize lists to hold ROUGE scores\n",
        "rouge1_scores = []\n",
        "rouge2_scores = []\n",
        "rougeL_scores = []\n",
        "\n",
        "# Read reference translations from CSV file\n",
        "with open(reference_file, 'r') as ref_csv:\n",
        "    reader = csv.reader(ref_csv)\n",
        "    next(reader)  # Skip header\n",
        "    references = [row[0] for row in reader]\n",
        "\n",
        "with open(prediction_file, 'r') as pred_csv:\n",
        "    reader = csv.reader(pred_csv)\n",
        "    next(reader)  # Skip header\n",
        "    predictions = [row[0] for row in reader]\n",
        "\n",
        "# Calculate the ROUGE scores for each pair of reference and prediction\n",
        "for ref, pred in zip(references, predictions):\n",
        "    scores = scorer.score(ref, pred)\n",
        "    rouge1_scores.append(scores['rouge1'].fmeasure)\n",
        "    rouge2_scores.append(scores['rouge2'].fmeasure)\n",
        "    rougeL_scores.append(scores['rougeL'].fmeasure)\n",
        "\n",
        "# Calculate average ROUGE scores\n",
        "avg_rouge1 = sum(rouge1_scores) *10/ len(rouge1_scores)\n",
        "avg_rouge2 = sum(rouge2_scores) *10/ len(rouge2_scores)\n",
        "avg_rougeL = sum(rougeL_scores) *10 / len(rougeL_scores)\n",
        "# print(\"\")\n",
        "#print(f\" ROUGE-1 Score: {avg_rouge1:.4f}\")\n",
        "print(f\"Bodo  ROUGE Score: {avg_rouge2:.4f}\")\n",
        "# print(f\" ROUGE-L Score: {avg_rougeL:.4f}\")"
      ],
      "metadata": {
        "colab": {
          "base_uri": "https://localhost:8080/"
        },
        "id": "3QJCih-l9noJ",
        "outputId": "a5e26537-d93f-4714-8e7e-6b1ac31545e6"
      },
      "execution_count": null,
      "outputs": [
        {
          "output_type": "stream",
          "name": "stdout",
          "text": [
            "Bodo  ROUGE Score: 0.1231\n"
          ]
        }
      ]
    },
    {
      "cell_type": "code",
      "source": [
        "import csv\n",
        "import nltk\n",
        "from nltk.translate.meteor_score import meteor_score\n",
        "from nltk.tokenize import word_tokenize\n",
        "\n",
        "\n",
        "\n",
        "# File paths\n",
        "reference_file = '/content/drive/MyDrive//multilingual/eng_to_indic/brx/actual.csv'  # Path to the CSV file containing reference Nepali translations\n",
        "prediction_file = '/content/drive/MyDrive//multilingual/eng_to_indic/brx/prediction_bodo.csv'  # Path to the CSV file containing model's predicted Nepali translations\n",
        "\n",
        "# Initialize lists to hold reference and predicted sentences\n",
        "references = []\n",
        "predictions = []\n",
        "\n",
        "# Read reference translations from CSV file\n",
        "with open(reference_file, 'r') as ref_csv:\n",
        "    reader = csv.reader(ref_csv)\n",
        "    next(reader)  # Skip header\n",
        "    for row in reader:\n",
        "        # Tokenize the reference sentence\n",
        "        references.append(word_tokenize(row[0]))  # Assuming the reference text is in the first column\n",
        "\n",
        "# Read model predictions from CSV file\n",
        "with open(prediction_file, 'r') as pred_csv:\n",
        "    reader = csv.reader(pred_csv)\n",
        "    next(reader)  # Skip header\n",
        "    for row in reader:\n",
        "        # Tokenize the prediction sentence\n",
        "        predictions.append(word_tokenize(row[0]))  # Assuming the prediction text is in the first column\n",
        "\n",
        "# Ensure references and predictions have the same length\n",
        "assert len(references) == len(predictions), \"References and predictions must have the same length\"\n",
        "\n",
        "# Calculate the METEOR score for each pair of reference and prediction\n",
        "total_meteor_score = 0.0\n",
        "num_sentences = len(references)\n",
        "\n",
        "for ref, pred in zip(references, predictions):\n",
        "    score = meteor_score([ref], pred)\n",
        "    total_meteor_score += score\n",
        "\n",
        "# Calculate the average METEOR score\n",
        "avg_meteor_score = total_meteor_score / num_sentences\n",
        "\n",
        "print(f\"Bodo METEOR Score: {avg_meteor_score:.4f}\")"
      ],
      "metadata": {
        "colab": {
          "base_uri": "https://localhost:8080/"
        },
        "id": "f_rDhl0n9neN",
        "outputId": "ec7c6b22-77bd-4081-f965-9d2cfdefa695"
      },
      "execution_count": null,
      "outputs": [
        {
          "output_type": "stream",
          "name": "stdout",
          "text": [
            "Bodo METEOR Score: 0.3098\n"
          ]
        }
      ]
    },
    {
      "cell_type": "code",
      "source": [
        "import pyter\n",
        "reference_brx_file = '/content/drive/MyDrive//multilingual/eng_to_indic/brx/actual_bodo.csv'\n",
        "hypothesis_brx_file = '/content/drive/MyDrive//multilingual/eng_to_indic/brx/prediction_bodo.csv'\n",
        "ter_score = pyter.ter(reference_brx_file, hypothesis_brx_file)\n",
        "print(f\"TER Bodo Score: {ter_score}\")"
      ],
      "metadata": {
        "colab": {
          "base_uri": "https://localhost:8080/"
        },
        "id": "atvOI6Ek9nPZ",
        "outputId": "dcb677c2-1ecd-4e68-9176-e10d48acf073"
      },
      "execution_count": null,
      "outputs": [
        {
          "output_type": "stream",
          "name": "stdout",
          "text": [
            "TER Bodo Score: 0.1095890410958904\n"
          ]
        }
      ]
    },
    {
      "cell_type": "markdown",
      "source": [
        "# **Khasi**"
      ],
      "metadata": {
        "id": "FRVENNW290-U"
      }
    },
    {
      "cell_type": "code",
      "source": [
        "import csv\n",
        "from nltk.translate.bleu_score import corpus_bleu, sentence_bleu, SmoothingFunction\n",
        "\n",
        "# Load actual translations from actual.csv\n",
        "with open('/content/drive/MyDrive//multilingual/eng_to_indic/kha/actual_khasi.csv', 'r') as file:\n",
        "    actual_reader = csv.reader(file)\n",
        "    actual_translations = [row[0].split() for row in actual_reader]\n",
        "\n",
        "# Load predicted translations from predicted.csv\n",
        "with open('/content/drive/MyDrive//multilingual/eng_to_indic/kha/prediction_khasi.csv', 'r') as file:\n",
        "    predicted_reader = csv.reader(file)\n",
        "    predicted_translations = [row[0].split() for row in predicted_reader]\n",
        "\n",
        "# Define a smoothing function for BLEU score calculation\n",
        "smoothie = SmoothingFunction().method1\n",
        "\n",
        "# Compute BLEU score for corpus level with smoothing\n",
        "corpus_score = corpus_bleu(actual_translations, predicted_translations, smoothing_function=smoothie)\n",
        "\n",
        "# Compute BLEU score for sentence level with smoothing\n",
        "sentence_scores = [sentence_bleu([actual], predicted, smoothing_function=smoothie) for actual, predicted in zip(actual_translations, predicted_translations)]\n",
        "\n",
        "# Calculate average sentence level BLEU score\n",
        "avg_sentence_score = sum(sentence_scores) / len(sentence_scores)\n",
        "\n",
        "# Print the scores\n",
        "# print(\"Corpus BLEU score:\", corpus_score)\n",
        "print(\"Khasi BLEU score:\", avg_sentence_score)\n"
      ],
      "metadata": {
        "colab": {
          "base_uri": "https://localhost:8080/"
        },
        "id": "x7aQAwAl95Ay",
        "outputId": "a774731e-2a86-4851-8906-5498c6f3dfe2"
      },
      "execution_count": null,
      "outputs": [
        {
          "output_type": "stream",
          "name": "stdout",
          "text": [
            "Khasi BLEU score: 0.10968701661703499\n"
          ]
        }
      ]
    },
    {
      "cell_type": "code",
      "source": [
        "import pandas as pd\n",
        "import sacrebleu\n",
        "from nltk.translate.bleu_score import corpus_bleu\n",
        "\n",
        "# Load reference and prediction CSV files\n",
        "reference_file = '/content/drive/MyDrive//multilingual/eng_to_indic/kha/actual_khasi.csv'\n",
        "prediction_file = '/content/drive/MyDrive//multilingual/eng_to_indic/kha/prediction_khasi.csv'\n",
        "\n",
        "reference_df = pd.read_csv(reference_file)\n",
        "prediction_df = pd.read_csv(prediction_file)\n",
        "\n",
        "\n",
        "references = reference_df['KHASI'].tolist()\n",
        "predictions = prediction_df['KHASI'].tolist()\n",
        "\n",
        "# Calculate SacreBLEU score\n",
        "sacrebleu_score = sacrebleu.corpus_bleu(predictions, [references]).score\n",
        "print(f\"Khasi SacreBLEU Score: {sacrebleu_score/100}\")\n",
        "\n"
      ],
      "metadata": {
        "colab": {
          "base_uri": "https://localhost:8080/"
        },
        "id": "NAWV0Nn69450",
        "outputId": "6aac8bd5-91e4-4179-d157-dce0fc9a6d89"
      },
      "execution_count": null,
      "outputs": [
        {
          "output_type": "stream",
          "name": "stdout",
          "text": [
            "Khasi SacreBLEU Score: 0.14372333610745275\n"
          ]
        }
      ]
    },
    {
      "cell_type": "code",
      "source": [
        "import csv\n",
        "from rouge_score import rouge_scorer\n",
        "\n",
        "# Initialize a ROUGE scorer\n",
        "scorer = rouge_scorer.RougeScorer(['rouge1', 'rouge2', 'rougeL'], use_stemmer=True)\n",
        "\n",
        "\n",
        "# Load actual and prediction data from CSV files\n",
        "reference_file = '/content/drive/MyDrive//multilingual/eng_to_indic/kha/actual_khasi.csv'\n",
        "prediction_file = '/content/drive/MyDrive//multilingual/eng_to_indic/kha/prediction_khasi.csv'\n",
        "\n",
        "# Initialize lists to hold ROUGE scores\n",
        "rouge1_scores = []\n",
        "rouge2_scores = []\n",
        "rougeL_scores = []\n",
        "\n",
        "# Read reference translations from CSV file\n",
        "with open(reference_file, 'r') as ref_csv:\n",
        "    reader = csv.reader(ref_csv)\n",
        "    next(reader)  # Skip header\n",
        "    references = [row[0] for row in reader]\n",
        "\n",
        "with open(prediction_file, 'r') as pred_csv:\n",
        "    reader = csv.reader(pred_csv)\n",
        "    next(reader)  # Skip header\n",
        "    predictions = [row[0] for row in reader]\n",
        "\n",
        "# Calculate the ROUGE scores for each pair of reference and prediction\n",
        "for ref, pred in zip(references, predictions):\n",
        "    scores = scorer.score(ref, pred)\n",
        "    rouge1_scores.append(scores['rouge1'].fmeasure)\n",
        "    rouge2_scores.append(scores['rouge2'].fmeasure)\n",
        "    rougeL_scores.append(scores['rougeL'].fmeasure)\n",
        "\n",
        "# Calculate average ROUGE scores\n",
        "avg_rouge1 = sum(rouge1_scores) / len(rouge1_scores)\n",
        "avg_rouge2 = sum(rouge2_scores) / len(rouge2_scores)\n",
        "avg_rougeL = sum(rougeL_scores) / len(rougeL_scores)\n",
        "\n",
        "\n",
        "# print(f\"ROUGE-1 Score: {avg_rouge1:.4f}\")\n",
        "print(f\"Khasi ROUGE Score: {avg_rouge2:.4f}\")\n",
        "# print(f\"ROUGE-L Score: {avg_rougeL:.4f}\")\n"
      ],
      "metadata": {
        "colab": {
          "base_uri": "https://localhost:8080/"
        },
        "id": "lJuvLUom94yX",
        "outputId": "d693d980-c0db-4e23-e270-2614e26eeea3"
      },
      "execution_count": null,
      "outputs": [
        {
          "output_type": "stream",
          "name": "stdout",
          "text": [
            "Khasi ROUGE Score: 0.1967\n"
          ]
        }
      ]
    },
    {
      "cell_type": "code",
      "source": [
        "import csv\n",
        "import nltk\n",
        "from nltk.translate.meteor_score import meteor_score\n",
        "from nltk.tokenize import word_tokenize\n",
        "\n",
        "\n",
        "# Load actual and prediction data from CSV files\n",
        "reference_file = '/content/drive/MyDrive//multilingual/eng_to_indic/kha/actual_khasi.csv'\n",
        "prediction_file = '/content/drive/MyDrive//multilingual/eng_to_indic/kha/prediction_khasi.csv'\n",
        "\n",
        "# Initialize lists to hold reference and predicted sentences\n",
        "references = []\n",
        "predictions = []\n",
        "\n",
        "# Read reference translations from CSV file\n",
        "with open(reference_file, 'r') as ref_csv:\n",
        "    reader = csv.reader(ref_csv)\n",
        "    next(reader)  # Skip header\n",
        "    for row in reader:\n",
        "        # Tokenize the reference sentence\n",
        "        references.append(word_tokenize(row[0]))  # Assuming the reference text is in the first column\n",
        "\n",
        "# Read model predictions from CSV file\n",
        "with open(prediction_file, 'r') as pred_csv:\n",
        "    reader = csv.reader(pred_csv)\n",
        "    next(reader)  # Skip header\n",
        "    for row in reader:\n",
        "        # Tokenize the prediction sentence\n",
        "        predictions.append(word_tokenize(row[0]))  # Assuming the prediction text is in the first column\n",
        "\n",
        "# Ensure references and predictions have the same length\n",
        "assert len(references) == len(predictions), \"References and predictions must have the same length\"\n",
        "\n",
        "# Calculate the METEOR score for each pair of reference and prediction\n",
        "total_meteor_score = 0.0\n",
        "num_sentences = len(references)\n",
        "\n",
        "for ref, pred in zip(references, predictions):\n",
        "    score = meteor_score([ref], pred)\n",
        "    total_meteor_score += score\n",
        "\n",
        "# Calculate the average METEOR score\n",
        "avg_meteor_score = total_meteor_score / num_sentences\n",
        "\n",
        "print(f\"Khasi METEOR Score: {avg_meteor_score:.4f}\")"
      ],
      "metadata": {
        "colab": {
          "base_uri": "https://localhost:8080/"
        },
        "id": "6Tx9W_nq94q0",
        "outputId": "8786b727-03af-4cc4-ad2e-d93df9c39b78"
      },
      "execution_count": null,
      "outputs": [
        {
          "output_type": "stream",
          "name": "stdout",
          "text": [
            "Khasi METEOR Score: 0.3308\n"
          ]
        }
      ]
    },
    {
      "cell_type": "code",
      "source": [
        "import pyter\n",
        "reference_kha_file = '/content/drive/MyDrive//multilingual/eng_to_indic/kha/actual_khasi.csv'\n",
        "hypothesis_kha_file = '/content/drive/MyDrive//multilingual/eng_to_indic/kha/prediction_khasi.csv'\n",
        "ter_score = pyter.ter(reference_kha_file, hypothesis_kha_file)\n",
        "print(f\"TER Khasi Score: {ter_score}\")"
      ],
      "metadata": {
        "colab": {
          "base_uri": "https://localhost:8080/"
        },
        "id": "Y-HAoBSd94he",
        "outputId": "97cdb84d-7653-4791-d0e6-335581abc90d"
      },
      "execution_count": null,
      "outputs": [
        {
          "output_type": "stream",
          "name": "stdout",
          "text": [
            "TER Khasi Score: 0.10810810810810811\n"
          ]
        }
      ]
    },
    {
      "cell_type": "markdown",
      "source": [
        "# **Manipuri**"
      ],
      "metadata": {
        "id": "kmv8U_Kf-Lbt"
      }
    },
    {
      "cell_type": "code",
      "source": [
        "import csv\n",
        "from nltk.translate.bleu_score import corpus_bleu, sentence_bleu, SmoothingFunction\n",
        "\n",
        "# Load actual translations from actual.csv\n",
        "with open('/content/drive/MyDrive/multilingual/eng_to_indic/mni/actual.csv', 'r') as file:\n",
        "    actual_reader = csv.reader(file)\n",
        "    actual_translations = [row[0].split() for row in actual_reader]\n",
        "\n",
        "# Load predicted translations from predicted.csv\n",
        "with open('/content/drive/MyDrive//multilingual/eng_to_indic/mni/prediction.csv', 'r') as file:\n",
        "    predicted_reader = csv.reader(file)\n",
        "    predicted_translations = [row[0].split() for row in predicted_reader]\n",
        "\n",
        "# Define a smoothing function for BLEU score calculation\n",
        "smoothie = SmoothingFunction().method1\n",
        "\n",
        "# Compute BLEU score for corpus level with smoothing\n",
        "corpus_score = corpus_bleu(actual_translations, predicted_translations, smoothing_function=smoothie)\n",
        "\n",
        "# Compute BLEU score for sentence level with smoothing\n",
        "sentence_scores = [sentence_bleu([actual], predicted, smoothing_function=smoothie) for actual, predicted in zip(actual_translations, predicted_translations)]\n",
        "\n",
        "# Calculate average sentence level BLEU score\n",
        "avg_sentence_score = sum(sentence_scores) / len(sentence_scores)\n",
        "\n",
        "# Print the scores\n",
        "# print(\"Corpus BLEU score:\", corpus_score)\n",
        "print(\"Manipuri BLEU score:\", avg_sentence_score)\n"
      ],
      "metadata": {
        "colab": {
          "base_uri": "https://localhost:8080/"
        },
        "id": "xF44rq63-QdQ",
        "outputId": "1d794c3b-e77c-439f-995c-fc4df7d63bda"
      },
      "execution_count": null,
      "outputs": [
        {
          "output_type": "stream",
          "name": "stdout",
          "text": [
            "Manipuri BLEU score: 0.11534257897289453\n"
          ]
        }
      ]
    },
    {
      "cell_type": "code",
      "source": [
        "import pandas as pd\n",
        "import sacrebleu\n",
        "from nltk.translate.bleu_score import corpus_bleu\n",
        "\n",
        "# Load reference and prediction CSV files\n",
        "reference_file = '/content/drive/MyDrive//multilingual/eng_to_indic/mni/actual.csv'\n",
        "prediction_file = '/content/drive/MyDrive//multilingual/eng_to_indic/mni/prediction.csv'\n",
        "\n",
        "reference_df = pd.read_csv(reference_file)\n",
        "prediction_df = pd.read_csv(prediction_file)\n",
        "\n",
        "\n",
        "references = reference_df['MANIPURI'].tolist()\n",
        "predictions = prediction_df['MANIPURI'].tolist()\n",
        "\n",
        "# Calculate SacreBLEU score\n",
        "sacrebleu_score = sacrebleu.corpus_bleu(predictions, [references]).score\n",
        "print(f\" Manipuri SacreBLEU Score: {sacrebleu_score/100}\")\n",
        "\n"
      ],
      "metadata": {
        "colab": {
          "base_uri": "https://localhost:8080/"
        },
        "id": "6EF8FP1m-QVj",
        "outputId": "89e3ef8f-e041-46fb-bd4a-0e6c7197033a"
      },
      "execution_count": null,
      "outputs": [
        {
          "output_type": "stream",
          "name": "stdout",
          "text": [
            " Manipuri SacreBLEU Score: 0.13559250020888106\n"
          ]
        }
      ]
    },
    {
      "cell_type": "code",
      "source": [
        "import csv\n",
        "from rouge_score import rouge_scorer\n",
        "\n",
        "# Initialize a ROUGE scorer\n",
        "scorer = rouge_scorer.RougeScorer(['rouge1', 'rouge2', 'rougeL'], use_stemmer=True)\n",
        "\n",
        "# Load reference and prediction CSV files\n",
        "reference_file = '/content/drive/MyDrive//multilingual/eng_to_indic/mni/actual.csv'\n",
        "prediction_file = '/content/drive/MyDrive//multilingual/eng_to_indic/mni/prediction.csv'\n",
        "# Initialize lists to hold ROUGE scores\n",
        "rouge1_scores = []\n",
        "rouge2_scores = []\n",
        "rougeL_scores = []\n",
        "\n",
        "# Read reference translations from CSV file\n",
        "with open(reference_file, 'r') as ref_csv:\n",
        "    reader = csv.reader(ref_csv)\n",
        "    next(reader)  # Skip header\n",
        "    references = [row[0] for row in reader]\n",
        "\n",
        "with open(prediction_file, 'r') as pred_csv:\n",
        "    reader = csv.reader(pred_csv)\n",
        "    next(reader)  # Skip header\n",
        "    predictions = [row[0] for row in reader]\n",
        "\n",
        "# Calculate the ROUGE scores for each pair of reference and prediction\n",
        "for ref, pred in zip(references, predictions):\n",
        "    scores = scorer.score(ref, pred)\n",
        "    rouge1_scores.append(scores['rouge1'].fmeasure)\n",
        "    rouge2_scores.append(scores['rouge2'].fmeasure)\n",
        "    rougeL_scores.append(scores['rougeL'].fmeasure)\n",
        "\n",
        "# Calculate average ROUGE scores\n",
        "avg_rouge1 = sum(rouge1_scores) *10/ len(rouge1_scores)\n",
        "avg_rouge2 = sum(rouge2_scores) *10/ len(rouge2_scores)\n",
        "avg_rougeL = sum(rougeL_scores) *10 / len(rougeL_scores)\n",
        "\n",
        "# print(f\" ROUGE-1 Score: {avg_rouge1:.4f}\")\n",
        "print(f\" Manipuri ROUGE Score: {avg_rouge2:.4f}\")\n",
        "# print(f\" ROUGE-L Score: {avg_rougeL:.4f}\")"
      ],
      "metadata": {
        "colab": {
          "base_uri": "https://localhost:8080/"
        },
        "id": "9be8ULK2-QOs",
        "outputId": "f77318cc-7629-46d7-e965-584984f03515"
      },
      "execution_count": null,
      "outputs": [
        {
          "output_type": "stream",
          "name": "stdout",
          "text": [
            " Manipuri ROUGE Score: 0.2439\n"
          ]
        }
      ]
    },
    {
      "cell_type": "code",
      "source": [
        "import csv\n",
        "import nltk\n",
        "from nltk.translate.meteor_score import meteor_score\n",
        "from nltk.tokenize import word_tokenize\n",
        "\n",
        "\n",
        "\n",
        "## Load reference and prediction CSV files\n",
        "reference_file = '/content/drive/MyDrive//multilingual/eng_to_indic/mni/actual.csv'\n",
        "prediction_file = '/content/drive/MyDrive//multilingual/eng_to_indic/mni/prediction.csv'\n",
        "# Initialize lists to hold reference and predicted sentences\n",
        "references = []\n",
        "predictions = []\n",
        "\n",
        "# Read reference translations from CSV file\n",
        "with open(reference_file, 'r') as ref_csv:\n",
        "    reader = csv.reader(ref_csv)\n",
        "    next(reader)  # Skip header\n",
        "    for row in reader:\n",
        "        # Tokenize the reference sentence\n",
        "        references.append(word_tokenize(row[0]))  # Assuming the reference text is in the first column\n",
        "\n",
        "# Read model predictions from CSV file\n",
        "with open(prediction_file, 'r') as pred_csv:\n",
        "    reader = csv.reader(pred_csv)\n",
        "    next(reader)  # Skip header\n",
        "    for row in reader:\n",
        "        # Tokenize the prediction sentence\n",
        "        predictions.append(word_tokenize(row[0]))  # Assuming the prediction text is in the first column\n",
        "\n",
        "# Ensure references and predictions have the same length\n",
        "assert len(references) == len(predictions), \"References and predictions must have the same length\"\n",
        "\n",
        "# Calculate the METEOR score for each pair of reference and prediction\n",
        "total_meteor_score = 0.0\n",
        "num_sentences = len(references)\n",
        "\n",
        "for ref, pred in zip(references, predictions):\n",
        "    score = meteor_score([ref], pred)\n",
        "    total_meteor_score += score\n",
        "\n",
        "# Calculate the average METEOR score\n",
        "avg_meteor_score = total_meteor_score / num_sentences\n",
        "\n",
        "print(f\"Manipuri METEOR Score: {avg_meteor_score:.4f}\")"
      ],
      "metadata": {
        "colab": {
          "base_uri": "https://localhost:8080/"
        },
        "id": "M4At4Kfe-QHg",
        "outputId": "47d19435-afdc-48ff-9e72-106c7e6a0704"
      },
      "execution_count": null,
      "outputs": [
        {
          "output_type": "stream",
          "name": "stdout",
          "text": [
            "Manipuri METEOR Score: 0.2454\n"
          ]
        }
      ]
    },
    {
      "cell_type": "code",
      "source": [
        "import pyter\n",
        "reference_mni_file = '/content/drive/MyDrive//multilingual/eng_to_indic/mni/actual.csv'\n",
        "hypothesis_mni_file = '/content/drive/MyDrive//multilingual/eng_to_indic/mni/prediction.csv'\n",
        "ter_score = pyter.ter(reference_mni_file, hypothesis_mni_file)\n",
        "print(f\"TER Manipuri Score: {ter_score}\")"
      ],
      "metadata": {
        "colab": {
          "base_uri": "https://localhost:8080/"
        },
        "id": "1zb1bwoE-P_E",
        "outputId": "88bd98a7-ad48-4344-960f-a059d0d059ba"
      },
      "execution_count": null,
      "outputs": [
        {
          "output_type": "stream",
          "name": "stdout",
          "text": [
            "TER Manipuri Score: 0.11764705882352941\n"
          ]
        }
      ]
    },
    {
      "cell_type": "markdown",
      "source": [
        "# **Mizo**"
      ],
      "metadata": {
        "id": "1ssCen9E-RBE"
      }
    },
    {
      "cell_type": "code",
      "source": [
        "import csv\n",
        "from nltk.translate.bleu_score import corpus_bleu, sentence_bleu, SmoothingFunction\n",
        "\n",
        "# Load actual translations from actual.csv\n",
        "with open('/content/drive/MyDrive/multilingual/eng_to_indic/lus/actual_mizo.csv', 'r') as file:\n",
        "    actual_reader = csv.reader(file)\n",
        "    actual_translations = [row[0].split() for row in actual_reader]\n",
        "\n",
        "# Load predicted translations from predicted.csv\n",
        "with open('/content/drive/MyDrive//multilingual/eng_to_indic/lus/prediction_mizo.csv', 'r') as file:\n",
        "    predicted_reader = csv.reader(file)\n",
        "    predicted_translations = [row[0].split() for row in predicted_reader]\n",
        "\n",
        "# Define a smoothing function for BLEU score calculation\n",
        "smoothie = SmoothingFunction().method1\n",
        "\n",
        "# Compute BLEU score for corpus level with smoothing\n",
        "corpus_score = corpus_bleu(actual_translations, predicted_translations, smoothing_function=smoothie)\n",
        "\n",
        "# Compute BLEU score for sentence level with smoothing\n",
        "sentence_scores = [sentence_bleu([actual], predicted, smoothing_function=smoothie) for actual, predicted in zip(actual_translations, predicted_translations)]\n",
        "\n",
        "# Calculate average sentence level BLEU score\n",
        "avg_sentence_score = sum(sentence_scores) / len(sentence_scores)\n",
        "\n",
        "# Print the scores\n",
        "# print(\"Corpus BLEU score:\", corpus_score)\n",
        "print(\"Mizo BLEU score:\", avg_sentence_score)\n"
      ],
      "metadata": {
        "colab": {
          "base_uri": "https://localhost:8080/"
        },
        "id": "rrRVlVNr-wOW",
        "outputId": "b1ae9046-c1c4-4c61-be9b-6a39b66569f3"
      },
      "execution_count": null,
      "outputs": [
        {
          "output_type": "stream",
          "name": "stdout",
          "text": [
            "Mizo BLEU score: 0.1236120938142832\n"
          ]
        }
      ]
    },
    {
      "cell_type": "code",
      "source": [
        "import pandas as pd\n",
        "import sacrebleu\n",
        "from nltk.translate.bleu_score import corpus_bleu\n",
        "\n",
        "# Load reference and prediction CSV files\n",
        "reference_file = '/content/drive/MyDrive//multilingual/eng_to_indic/lus/actual_mizo.csv'\n",
        "prediction_file = '/content/drive/MyDrive//multilingual/eng_to_indic/lus/prediction_mizo.csv'\n",
        "\n",
        "reference_df = pd.read_csv(reference_file)\n",
        "prediction_df = pd.read_csv(prediction_file)\n",
        "\n",
        "\n",
        "references = reference_df['MIZO'].tolist()\n",
        "predictions = prediction_df['MIZO'].tolist()\n",
        "\n",
        "# Calculate SacreBLEU score\n",
        "sacrebleu_score = sacrebleu.corpus_bleu(predictions, [references]).score\n",
        "print(f\"Mizo SacreBLEU Score: {sacrebleu_score}\")\n",
        "\n"
      ],
      "metadata": {
        "colab": {
          "base_uri": "https://localhost:8080/"
        },
        "id": "kCSPzTpG_AVu",
        "outputId": "39083871-22a7-47e3-99b1-2b6631867611"
      },
      "execution_count": null,
      "outputs": [
        {
          "output_type": "stream",
          "name": "stdout",
          "text": [
            "Mizo SacreBLEU Score: 14.511023703400175\n"
          ]
        }
      ]
    },
    {
      "cell_type": "code",
      "source": [
        "# Load actual and prediction data from CSV files\n",
        "reference_file = '/content/drive/MyDrive//multilingual/eng_to_indic/lus/actual_mizo.csv'\n",
        "prediction_file = '/content/drive/MyDrive//multilingual/eng_to_indic/lus/prediction_mizo.csv'\n",
        "\n",
        "# Initialize lists to hold reference and predicted sentences\n",
        "references = []\n",
        "predictions = []\n",
        "\n",
        "# Read reference translations from CSV file\n",
        "with open(reference_file, 'r') as ref_csv:\n",
        "    reader = csv.reader(ref_csv)\n",
        "    next(reader)  # Skip header\n",
        "    for row in reader:\n",
        "        # Tokenize the reference sentence\n",
        "        references.append(word_tokenize(row[0]))  # Assuming the reference text is in the first column\n",
        "\n",
        "# Read model predictions from CSV file\n",
        "with open(prediction_file, 'r') as pred_csv:\n",
        "    reader = csv.reader(pred_csv)\n",
        "    next(reader)  # Skip header\n",
        "    for row in reader:\n",
        "        # Tokenize the prediction sentence\n",
        "        predictions.append(word_tokenize(row[0]))  # Assuming the prediction text is in the first column\n",
        "\n",
        "# Ensure references and predictions have the same length\n",
        "assert len(references) == len(predictions), \"References and predictions must have the same length\"\n",
        "\n",
        "# Calculate the METEOR score for each pair of reference and prediction\n",
        "total_meteor_score = 0.0\n",
        "num_sentences = len(references)\n",
        "\n",
        "for ref, pred in zip(references, predictions):\n",
        "    score = meteor_score([ref], pred)\n",
        "    total_meteor_score += score\n",
        "\n",
        "# Calculate the average METEOR score\n",
        "avg_meteor_score = total_meteor_score / num_sentences\n",
        "\n",
        "print(f\"Mizo METEOR Score: {avg_meteor_score:.4f}\")"
      ],
      "metadata": {
        "colab": {
          "base_uri": "https://localhost:8080/"
        },
        "id": "t_Zo1ZGB_DL5",
        "outputId": "155a797c-3be0-4e9d-950d-aea1592344d1"
      },
      "execution_count": null,
      "outputs": [
        {
          "output_type": "stream",
          "name": "stdout",
          "text": [
            "Mizo METEOR Score: 0.2743\n"
          ]
        }
      ]
    },
    {
      "cell_type": "code",
      "source": [
        "import csv\n",
        "from rouge_score import rouge_scorer\n",
        "\n",
        "# Initialize a ROUGE scorer\n",
        "scorer = rouge_scorer.RougeScorer(['rouge1', 'rouge2', 'rougeL'], use_stemmer=True)\n",
        "\n",
        "\n",
        "# Load actual and prediction data from CSV files\n",
        "reference_file = '/content/drive/MyDrive//multilingual/eng_to_indic/lus/actual_mizo.csv'\n",
        "prediction_file = '/content/drive/MyDrive//multilingual/eng_to_indic/lus/prediction_mizo.csv'\n",
        "\n",
        "# Initialize lists to hold ROUGE scores\n",
        "rouge1_scores = []\n",
        "rouge2_scores = []\n",
        "rougeL_scores = []\n",
        "\n",
        "# Read reference translations from CSV file\n",
        "with open(reference_file, 'r') as ref_csv:\n",
        "    reader = csv.reader(ref_csv)\n",
        "    next(reader)  # Skip header\n",
        "    references = [row[0] for row in reader]\n",
        "\n",
        "with open(prediction_file, 'r') as pred_csv:\n",
        "    reader = csv.reader(pred_csv)\n",
        "    next(reader)  # Skip header\n",
        "    predictions = [row[0] for row in reader]\n",
        "\n",
        "# Calculate the ROUGE scores for each pair of reference and prediction\n",
        "for ref, pred in zip(references, predictions):\n",
        "    scores = scorer.score(ref, pred)\n",
        "    rouge1_scores.append(scores['rouge1'].fmeasure)\n",
        "    rouge2_scores.append(scores['rouge2'].fmeasure)\n",
        "    rougeL_scores.append(scores['rougeL'].fmeasure)\n",
        "\n",
        "# Calculate average ROUGE scores\n",
        "avg_rouge1 = sum(rouge1_scores) / len(rouge1_scores)\n",
        "avg_rouge2 = sum(rouge2_scores) / len(rouge2_scores)\n",
        "avg_rougeL = sum(rougeL_scores) / len(rougeL_scores)\n",
        "\n",
        "#print(f\"ROUGE-1 Score: {avg_rouge1:.4f}\")\n",
        "print(f\"Mizo ROUGE Score: {avg_rouge2:.4f}\")\n",
        "# print(f\"ROUGE-L Score: {avg_rougeL:.4f}\")\n"
      ],
      "metadata": {
        "colab": {
          "base_uri": "https://localhost:8080/"
        },
        "id": "XGNK7sFc_OGD",
        "outputId": "a5a63453-eb79-4619-d05d-43eefad209a6"
      },
      "execution_count": null,
      "outputs": [
        {
          "output_type": "stream",
          "name": "stdout",
          "text": [
            "Mizo ROUGE Score: 0.1618\n"
          ]
        }
      ]
    },
    {
      "cell_type": "code",
      "source": [
        "import pyter\n",
        "reference_lus_file = '/content/drive/MyDrive//multilingual/eng_to_indic/lus/actual_mizo.csv'\n",
        "hypothesis_lus_file = '/content/drive/MyDrive//multilingual/eng_to_indic/lus/prediction_mizo.csv'\n",
        "ter_score = pyter.ter(reference_lus_file, hypothesis_lus_file)\n",
        "print(f\"TER Mizo Score: {ter_score}\")"
      ],
      "metadata": {
        "colab": {
          "base_uri": "https://localhost:8080/"
        },
        "id": "Z_OGH3jj_QAq",
        "outputId": "792ac2d8-9274-4ade-91fc-332910ba0c05"
      },
      "execution_count": null,
      "outputs": [
        {
          "output_type": "stream",
          "name": "stdout",
          "text": [
            "TER Mizo Score: 0.1095890410958904\n"
          ]
        }
      ]
    },
    {
      "cell_type": "markdown",
      "source": [
        "# **Nepali**"
      ],
      "metadata": {
        "id": "EkNjWBwj_Skj"
      }
    },
    {
      "cell_type": "code",
      "source": [
        "import csv\n",
        "from nltk.translate.bleu_score import corpus_bleu, sentence_bleu, SmoothingFunction\n",
        "\n",
        "# Load actual translations from actual.csv\n",
        "with open('/content/drive/MyDrive//multilingual/eng_to_indic/npi/actual.csv', 'r') as file:\n",
        "    actual_reader = csv.reader(file)\n",
        "    actual_translations = [row[0].split() for row in actual_reader]\n",
        "\n",
        "# Load predicted translations from predicted.csv\n",
        "with open('/content/drive/MyDrive//multilingual/eng_to_indic/npi/prediction_nepali.csv', 'r') as file:\n",
        "    predicted_reader = csv.reader(file)\n",
        "    predicted_translations = [row[0].split() for row in predicted_reader]\n",
        "\n",
        "# Define a smoothing function for BLEU score calculation\n",
        "smoothie = SmoothingFunction().method1\n",
        "\n",
        "# Compute BLEU score for corpus level with smoothing\n",
        "corpus_score = corpus_bleu(actual_translations, predicted_translations, smoothing_function=smoothie)\n",
        "\n",
        "# Compute BLEU score for sentence level with smoothing\n",
        "sentence_scores = [sentence_bleu([actual], predicted, smoothing_function=smoothie) for actual, predicted in zip(actual_translations, predicted_translations)]\n",
        "\n",
        "# Calculate average sentence level BLEU score\n",
        "avg_sentence_score = sum(sentence_scores) / len(sentence_scores)\n",
        "\n",
        "# Print the scores\n",
        "# print(\"Corpus BLEU score:\", corpus_score)\n",
        "print(\"Nepali BLEU score:\", avg_sentence_score)\n"
      ],
      "metadata": {
        "colab": {
          "base_uri": "https://localhost:8080/"
        },
        "id": "QE7QntvP_YjE",
        "outputId": "9ef92096-6afb-4d45-b556-2d531bdd0df8"
      },
      "execution_count": null,
      "outputs": [
        {
          "output_type": "stream",
          "name": "stdout",
          "text": [
            "Nepali BLEU score: 0.3100018077218886\n"
          ]
        }
      ]
    },
    {
      "cell_type": "code",
      "source": [
        "import pandas as pd\n",
        "import sacrebleu\n",
        "from nltk.translate.bleu_score import corpus_bleu\n",
        "\n",
        "# Load reference and prediction CSV files\n",
        "reference_file = '/content/drive/MyDrive//multilingual/eng_to_indic/npi/actual.csv'\n",
        "prediction_file = '/content/drive/MyDrive//multilingual/eng_to_indic/npi/prediction_nepali.csv'\n",
        "\n",
        "reference_df = pd.read_csv(reference_file)\n",
        "prediction_df = pd.read_csv(prediction_file)\n",
        "\n",
        "\n",
        "\n",
        "references = reference_df['NEPALI'].tolist()\n",
        "predictions = prediction_df['NEPALI'].tolist()\n",
        "\n",
        "# Calculate SacreBLEU score\n",
        "sacrebleu_score = sacrebleu.corpus_bleu(predictions, [references]).score\n",
        "print(f\"SacreBLEU Score: {sacrebleu_score}\")\n"
      ],
      "metadata": {
        "colab": {
          "base_uri": "https://localhost:8080/"
        },
        "id": "zq5Ol2BC_ZWr",
        "outputId": "7c21616c-3c37-4773-ccd2-60f05dd0d411"
      },
      "execution_count": null,
      "outputs": [
        {
          "output_type": "stream",
          "name": "stdout",
          "text": [
            "SacreBLEU Score: 30.70280451518892\n"
          ]
        }
      ]
    },
    {
      "cell_type": "code",
      "source": [
        "import csv\n",
        "import nltk\n",
        "from nltk.translate.meteor_score import meteor_score\n",
        "from nltk.tokenize import word_tokenize\n",
        "\n",
        "\n",
        "# File paths\n",
        "reference_file = '/content/drive/MyDrive//multilingual/eng_to_indic/npi/actual.csv'  # Path to the CSV file containing reference Nepali translations\n",
        "prediction_file = '/content/drive/MyDrive//multilingual/eng_to_indic/npi/prediction_nepali.csv'  # Path to the CSV file containing model's predicted Nepali translations\n",
        "\n",
        "# Initialize lists to hold reference and predicted sentences\n",
        "references = []\n",
        "predictions = []\n",
        "\n",
        "# Read reference translations from CSV file\n",
        "with open(reference_file, 'r') as ref_csv:\n",
        "    reader = csv.reader(ref_csv)\n",
        "    next(reader)  # Skip header\n",
        "    for row in reader:\n",
        "        # Tokenize the reference sentence\n",
        "        references.append(word_tokenize(row[0]))  # Assuming the reference text is in the first column\n",
        "\n",
        "# Read model predictions from CSV file\n",
        "with open(prediction_file, 'r') as pred_csv:\n",
        "    reader = csv.reader(pred_csv)\n",
        "    next(reader)  # Skip header\n",
        "    for row in reader:\n",
        "        # Tokenize the prediction sentence\n",
        "        predictions.append(word_tokenize(row[0]))  # Assuming the prediction text is in the first column\n",
        "\n",
        "# Ensure references and predictions have the same length\n",
        "assert len(references) == len(predictions), \"References and predictions must have the same length\"\n",
        "\n",
        "# Calculate the METEOR score for each pair of reference and prediction\n",
        "total_meteor_score = 0.0\n",
        "num_sentences = len(references)\n",
        "\n",
        "for ref, pred in zip(references, predictions):\n",
        "    score = meteor_score([ref], pred)\n",
        "    total_meteor_score += score\n",
        "\n",
        "# Calculate the average METEOR score\n",
        "avg_meteor_score = total_meteor_score / num_sentences\n",
        "\n",
        "print(f\"Nepali METEOR Score: {avg_meteor_score:.4f}\")"
      ],
      "metadata": {
        "colab": {
          "base_uri": "https://localhost:8080/"
        },
        "id": "6HYw5RH6_ZOt",
        "outputId": "d4549281-edc5-4508-aa9d-918ab6d9b7b5"
      },
      "execution_count": null,
      "outputs": [
        {
          "output_type": "stream",
          "name": "stdout",
          "text": [
            "Nepali METEOR Score: 0.3593\n"
          ]
        }
      ]
    },
    {
      "cell_type": "code",
      "source": [
        "import csv\n",
        "from rouge_score import rouge_scorer\n",
        "\n",
        "# Initialize a ROUGE scorer\n",
        "scorer = rouge_scorer.RougeScorer(['rouge1', 'rouge2', 'rougeL'], use_stemmer=True)\n",
        "\n",
        "# File paths\n",
        "reference_file = '/content/drive/MyDrive//multilingual/eng_to_indic/npi/actual.csv'  # Path to the CSV file containing reference Nepali translations\n",
        "prediction_file = '/content/drive/MyDrive//multilingual/eng_to_indic/npi/prediction_nepali.csv'  # Path to the CSV file containing model's predicted Nepali translations\n",
        "\n",
        "# Initialize lists to hold ROUGE scores\n",
        "rouge1_scores = []\n",
        "rouge2_scores = []\n",
        "rougeL_scores = []\n",
        "\n",
        "# Read reference translations from CSV file\n",
        "with open(reference_file, 'r') as ref_csv:\n",
        "    reader = csv.reader(ref_csv)\n",
        "    next(reader)  # Skip header\n",
        "    references = [row[0] for row in reader]\n",
        "\n",
        "with open(prediction_file, 'r') as pred_csv:\n",
        "    reader = csv.reader(pred_csv)\n",
        "    next(reader)  # Skip header\n",
        "    predictions = [row[0] for row in reader]\n",
        "\n",
        "# Calculate the ROUGE scores for each pair of reference and prediction\n",
        "for ref, pred in zip(references, predictions):\n",
        "    scores = scorer.score(ref, pred)\n",
        "    rouge1_scores.append(scores['rouge1'].fmeasure)\n",
        "    rouge2_scores.append(scores['rouge2'].fmeasure)\n",
        "    rougeL_scores.append(scores['rougeL'].fmeasure)\n",
        "\n",
        "# Calculate average ROUGE scores\n",
        "avg_rouge1 = sum(rouge1_scores) *10/ len(rouge1_scores)\n",
        "avg_rouge2 = sum(rouge2_scores) *10/ len(rouge2_scores)\n",
        "avg_rougeL = sum(rougeL_scores) *10 / len(rougeL_scores)\n",
        "\n",
        "\n",
        "# print(f\"ROUGE-1 Score: {avg_rouge1:.4f}\")\n",
        "print(f\"Nepali ROUGE Score: {avg_rouge2:.4f}\")\n",
        "# print(f\"ROUGE-L Score: {avg_rougeL:.4f}\")"
      ],
      "metadata": {
        "colab": {
          "base_uri": "https://localhost:8080/"
        },
        "id": "6_IftnhF_ZHN",
        "outputId": "e655406b-7d78-4aac-da4e-115e3c773985"
      },
      "execution_count": null,
      "outputs": [
        {
          "output_type": "stream",
          "name": "stdout",
          "text": [
            "Nepali ROUGE Score: 0.1000\n"
          ]
        }
      ]
    },
    {
      "cell_type": "code",
      "source": [
        "import pyter\n",
        "reference_npi_file = '/content/drive/MyDrive//multilingual/eng_to_indic/npi/actual.csv'\n",
        "hypothesis_npi_file = '/content/drive/MyDrive//multilingual/eng_to_indic/npi/prediction_nepali.csv'\n",
        "ter_score = pyter.ter(reference_npi_file, hypothesis_npi_file)\n",
        "print(f\"TER Nepali Score: {ter_score}\")"
      ],
      "metadata": {
        "colab": {
          "base_uri": "https://localhost:8080/"
        },
        "id": "thJdNQY-_Y-n",
        "outputId": "f1a18e03-2cd2-4eca-f407-ee03efc78e95"
      },
      "execution_count": null,
      "outputs": [
        {
          "output_type": "stream",
          "name": "stdout",
          "text": [
            "TER Nepali Score: 0.17333333333333334\n"
          ]
        }
      ]
    }
  ]
}
